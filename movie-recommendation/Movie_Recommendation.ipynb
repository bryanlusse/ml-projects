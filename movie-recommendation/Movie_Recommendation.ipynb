{
 "cells": [
  {
   "cell_type": "markdown",
   "id": "a4dfa74d",
   "metadata": {
    "id": "060833ef"
   },
   "source": [
    "# Movie Recommendation\n",
    "\n",
    "In this notebook, we will create a movie recommendation algorithm from a movie dataset using multiple methods. We demonstrates how to preprocess text data and show two approaches to using Machine Learning (ML in order to make movie recommendations. You will use [The Movies Dataset](https://www.kaggle.com/datasets/rounakbanik/the-movies-dataset), which contains over 45,000 movies and 26 million ratings from over 270,000 users. These are movies released in and before July 2017.\n",
    "\n",
    "We will use different methods of preprocessing and different ML methods in order to predict movies.\n",
    "\n",
    "This notebook is part of my [ML series](https://github.com/bryanlusse/ml-projects).\n",
    "\n",
    "&copy; Bryan Lusse - 2022"
   ]
  },
  {
   "cell_type": "markdown",
   "id": "23bc7733",
   "metadata": {
    "id": "b80bda82"
   },
   "source": [
    "## Imports"
   ]
  },
  {
   "cell_type": "code",
   "execution_count": 1,
   "id": "79888d17",
   "metadata": {
    "colab": {
     "base_uri": "https://localhost:8080/"
    },
    "executionInfo": {
     "elapsed": 1305,
     "status": "ok",
     "timestamp": 1656552999475,
     "user": {
      "displayName": "Bryan Lusse",
      "userId": "03846782266646528687"
     },
     "user_tz": -480
    },
    "id": "22a83027",
    "outputId": "d37cb004-013d-47d7-c708-afee65b3eb14"
   },
   "outputs": [
    {
     "name": "stderr",
     "output_type": "stream",
     "text": [
      "[nltk_data] Downloading package punkt to /root/nltk_data...\n",
      "[nltk_data]   Package punkt is already up-to-date!\n",
      "[nltk_data] Downloading package stopwords to /root/nltk_data...\n",
      "[nltk_data]   Package stopwords is already up-to-date!\n",
      "[nltk_data] Downloading package words to /root/nltk_data...\n",
      "[nltk_data]   Package words is already up-to-date!\n"
     ]
    }
   ],
   "source": [
    "import numpy as np\n",
    "import pandas as pd\n",
    "import re\n",
    "import sklearn\n",
    "import random\n",
    "import os\n",
    "\n",
    "# Progress bars\n",
    "from tqdm.auto import tqdm\n",
    "tqdm.pandas()\n",
    "\n",
    "# Text cleaning\n",
    "import nltk\n",
    "nltk.download('punkt') # one time execution\n",
    "nltk.download('stopwords')\n",
    "nltk.download('words')\n",
    "from nltk.corpus import stopwords, words\n",
    "from nltk.tokenize import word_tokenize\n",
    "# Initializing of word lists\n",
    "stop_words = set(stopwords.words('english'))\n",
    "words = set(words.words())\n",
    "\n",
    "# Vectorization\n",
    "from sklearn.feature_extraction.text import CountVectorizer\n",
    "from sklearn.feature_extraction.text import HashingVectorizer\n",
    "from sklearn.feature_extraction.text import TfidfVectorizer\n",
    "import gensim.downloader as api\n",
    "\n",
    "# Models\n",
    "from sklearn.metrics.pairwise import cosine_similarity\n",
    "from surprise import Dataset\n",
    "from surprise import Reader\n",
    "from surprise import SVD\n",
    "from surprise import dump\n",
    "\n",
    "# Evaluation\n",
    "from surprise.accuracy import rmse\n",
    "\n",
    "# Other\n",
    "from collections import defaultdict\n",
    "\n",
    "# Inits\n",
    "class color:\n",
    "    BOLD = '\\033[1m'\n",
    "    END = '\\033[0m'"
   ]
  },
  {
   "cell_type": "code",
   "execution_count": 2,
   "id": "97b11873",
   "metadata": {
    "colab": {
     "base_uri": "https://localhost:8080/"
    },
    "executionInfo": {
     "elapsed": 24334,
     "status": "ok",
     "timestamp": 1656553026339,
     "user": {
      "displayName": "Bryan Lusse",
      "userId": "03846782266646528687"
     },
     "user_tz": -480
    },
    "id": "Jtd6nFOsGk4N",
    "outputId": "8271c5df-804c-4f46-ac5d-10d3a09764c2"
   },
   "outputs": [
    {
     "name": "stdout",
     "output_type": "stream",
     "text": [
      "Mounted at /content/gdrive\n"
     ]
    }
   ],
   "source": [
    "data_path = '/content/gdrive/My Drive/movie-recommendation'\n",
    "\n",
    "if data_path.startswith('/content/gdrive/'):\n",
    "    from google.colab import drive\n",
    "    assert data_path.startswith('/content/gdrive/My Drive/'), 'Google Drive paths must start with \"/content/gdrive/My Drive/\"!'\n",
    "    drive.mount('/content/gdrive')\n",
    "\n",
    "if data_path.startswith('gs://'):\n",
    "    from google.colab import auth\n",
    "    auth.authenticate_user()"
   ]
  },
  {
   "cell_type": "markdown",
   "id": "76835f25",
   "metadata": {
    "id": "7371c679"
   },
   "source": [
    "## Load data\n",
    "The data is saved as multiple CSV files. First, we will pay attention to the *metadata* file.\n",
    "We see that per movie, a lot of data is present."
   ]
  },
  {
   "cell_type": "code",
   "execution_count": 3,
   "id": "49ddc25a",
   "metadata": {
    "colab": {
     "base_uri": "https://localhost:8080/",
     "height": 805
    },
    "executionInfo": {
     "elapsed": 1956,
     "status": "ok",
     "timestamp": 1656553035155,
     "user": {
      "displayName": "Bryan Lusse",
      "userId": "03846782266646528687"
     },
     "user_tz": -480
    },
    "id": "f0f0c038",
    "outputId": "c36d6ca0-aadb-44c5-fbc4-3591bd90f22b"
   },
   "outputs": [
    {
     "name": "stderr",
     "output_type": "stream",
     "text": [
      "/usr/local/lib/python3.7/dist-packages/IPython/core/interactiveshell.py:2882: DtypeWarning: Columns (10) have mixed types.Specify dtype option on import or set low_memory=False.\n",
      "  exec(code_obj, self.user_global_ns, self.user_ns)\n"
     ]
    },
    {
     "data": {
      "text/html": [
       "\n",
       "  <div id=\"df-73be98a6-f52d-4b2d-8e1d-a5a8691ef606\">\n",
       "    <div class=\"colab-df-container\">\n",
       "      <div>\n",
       "<style scoped>\n",
       "    .dataframe tbody tr th:only-of-type {\n",
       "        vertical-align: middle;\n",
       "    }\n",
       "\n",
       "    .dataframe tbody tr th {\n",
       "        vertical-align: top;\n",
       "    }\n",
       "\n",
       "    .dataframe thead th {\n",
       "        text-align: right;\n",
       "    }\n",
       "</style>\n",
       "<table border=\"1\" class=\"dataframe\">\n",
       "  <thead>\n",
       "    <tr style=\"text-align: right;\">\n",
       "      <th></th>\n",
       "      <th>adult</th>\n",
       "      <th>belongs_to_collection</th>\n",
       "      <th>budget</th>\n",
       "      <th>genres</th>\n",
       "      <th>homepage</th>\n",
       "      <th>id</th>\n",
       "      <th>imdb_id</th>\n",
       "      <th>original_language</th>\n",
       "      <th>original_title</th>\n",
       "      <th>overview</th>\n",
       "      <th>...</th>\n",
       "      <th>release_date</th>\n",
       "      <th>revenue</th>\n",
       "      <th>runtime</th>\n",
       "      <th>spoken_languages</th>\n",
       "      <th>status</th>\n",
       "      <th>tagline</th>\n",
       "      <th>title</th>\n",
       "      <th>video</th>\n",
       "      <th>vote_average</th>\n",
       "      <th>vote_count</th>\n",
       "    </tr>\n",
       "  </thead>\n",
       "  <tbody>\n",
       "    <tr>\n",
       "      <th>0</th>\n",
       "      <td>False</td>\n",
       "      <td>{'id': 10194, 'name': 'Toy Story Collection', ...</td>\n",
       "      <td>30000000</td>\n",
       "      <td>[{'id': 16, 'name': 'Animation'}, {'id': 35, '...</td>\n",
       "      <td>http://toystory.disney.com/toy-story</td>\n",
       "      <td>862</td>\n",
       "      <td>tt0114709</td>\n",
       "      <td>en</td>\n",
       "      <td>Toy Story</td>\n",
       "      <td>Led by Woody, Andy's toys live happily in his ...</td>\n",
       "      <td>...</td>\n",
       "      <td>1995-10-30</td>\n",
       "      <td>373554033.0</td>\n",
       "      <td>81.0</td>\n",
       "      <td>[{'iso_639_1': 'en', 'name': 'English'}]</td>\n",
       "      <td>Released</td>\n",
       "      <td>NaN</td>\n",
       "      <td>Toy Story</td>\n",
       "      <td>False</td>\n",
       "      <td>7.7</td>\n",
       "      <td>5415.0</td>\n",
       "    </tr>\n",
       "    <tr>\n",
       "      <th>1</th>\n",
       "      <td>False</td>\n",
       "      <td>NaN</td>\n",
       "      <td>65000000</td>\n",
       "      <td>[{'id': 12, 'name': 'Adventure'}, {'id': 14, '...</td>\n",
       "      <td>NaN</td>\n",
       "      <td>8844</td>\n",
       "      <td>tt0113497</td>\n",
       "      <td>en</td>\n",
       "      <td>Jumanji</td>\n",
       "      <td>When siblings Judy and Peter discover an encha...</td>\n",
       "      <td>...</td>\n",
       "      <td>1995-12-15</td>\n",
       "      <td>262797249.0</td>\n",
       "      <td>104.0</td>\n",
       "      <td>[{'iso_639_1': 'en', 'name': 'English'}, {'iso...</td>\n",
       "      <td>Released</td>\n",
       "      <td>Roll the dice and unleash the excitement!</td>\n",
       "      <td>Jumanji</td>\n",
       "      <td>False</td>\n",
       "      <td>6.9</td>\n",
       "      <td>2413.0</td>\n",
       "    </tr>\n",
       "    <tr>\n",
       "      <th>2</th>\n",
       "      <td>False</td>\n",
       "      <td>{'id': 119050, 'name': 'Grumpy Old Men Collect...</td>\n",
       "      <td>0</td>\n",
       "      <td>[{'id': 10749, 'name': 'Romance'}, {'id': 35, ...</td>\n",
       "      <td>NaN</td>\n",
       "      <td>15602</td>\n",
       "      <td>tt0113228</td>\n",
       "      <td>en</td>\n",
       "      <td>Grumpier Old Men</td>\n",
       "      <td>A family wedding reignites the ancient feud be...</td>\n",
       "      <td>...</td>\n",
       "      <td>1995-12-22</td>\n",
       "      <td>0.0</td>\n",
       "      <td>101.0</td>\n",
       "      <td>[{'iso_639_1': 'en', 'name': 'English'}]</td>\n",
       "      <td>Released</td>\n",
       "      <td>Still Yelling. Still Fighting. Still Ready for...</td>\n",
       "      <td>Grumpier Old Men</td>\n",
       "      <td>False</td>\n",
       "      <td>6.5</td>\n",
       "      <td>92.0</td>\n",
       "    </tr>\n",
       "    <tr>\n",
       "      <th>3</th>\n",
       "      <td>False</td>\n",
       "      <td>NaN</td>\n",
       "      <td>16000000</td>\n",
       "      <td>[{'id': 35, 'name': 'Comedy'}, {'id': 18, 'nam...</td>\n",
       "      <td>NaN</td>\n",
       "      <td>31357</td>\n",
       "      <td>tt0114885</td>\n",
       "      <td>en</td>\n",
       "      <td>Waiting to Exhale</td>\n",
       "      <td>Cheated on, mistreated and stepped on, the wom...</td>\n",
       "      <td>...</td>\n",
       "      <td>1995-12-22</td>\n",
       "      <td>81452156.0</td>\n",
       "      <td>127.0</td>\n",
       "      <td>[{'iso_639_1': 'en', 'name': 'English'}]</td>\n",
       "      <td>Released</td>\n",
       "      <td>Friends are the people who let you be yourself...</td>\n",
       "      <td>Waiting to Exhale</td>\n",
       "      <td>False</td>\n",
       "      <td>6.1</td>\n",
       "      <td>34.0</td>\n",
       "    </tr>\n",
       "    <tr>\n",
       "      <th>4</th>\n",
       "      <td>False</td>\n",
       "      <td>{'id': 96871, 'name': 'Father of the Bride Col...</td>\n",
       "      <td>0</td>\n",
       "      <td>[{'id': 35, 'name': 'Comedy'}]</td>\n",
       "      <td>NaN</td>\n",
       "      <td>11862</td>\n",
       "      <td>tt0113041</td>\n",
       "      <td>en</td>\n",
       "      <td>Father of the Bride Part II</td>\n",
       "      <td>Just when George Banks has recovered from his ...</td>\n",
       "      <td>...</td>\n",
       "      <td>1995-02-10</td>\n",
       "      <td>76578911.0</td>\n",
       "      <td>106.0</td>\n",
       "      <td>[{'iso_639_1': 'en', 'name': 'English'}]</td>\n",
       "      <td>Released</td>\n",
       "      <td>Just When His World Is Back To Normal... He's ...</td>\n",
       "      <td>Father of the Bride Part II</td>\n",
       "      <td>False</td>\n",
       "      <td>5.7</td>\n",
       "      <td>173.0</td>\n",
       "    </tr>\n",
       "  </tbody>\n",
       "</table>\n",
       "<p>5 rows × 24 columns</p>\n",
       "</div>\n",
       "      <button class=\"colab-df-convert\" onclick=\"convertToInteractive('df-73be98a6-f52d-4b2d-8e1d-a5a8691ef606')\"\n",
       "              title=\"Convert this dataframe to an interactive table.\"\n",
       "              style=\"display:none;\">\n",
       "        \n",
       "  <svg xmlns=\"http://www.w3.org/2000/svg\" height=\"24px\"viewBox=\"0 0 24 24\"\n",
       "       width=\"24px\">\n",
       "    <path d=\"M0 0h24v24H0V0z\" fill=\"none\"/>\n",
       "    <path d=\"M18.56 5.44l.94 2.06.94-2.06 2.06-.94-2.06-.94-.94-2.06-.94 2.06-2.06.94zm-11 1L8.5 8.5l.94-2.06 2.06-.94-2.06-.94L8.5 2.5l-.94 2.06-2.06.94zm10 10l.94 2.06.94-2.06 2.06-.94-2.06-.94-.94-2.06-.94 2.06-2.06.94z\"/><path d=\"M17.41 7.96l-1.37-1.37c-.4-.4-.92-.59-1.43-.59-.52 0-1.04.2-1.43.59L10.3 9.45l-7.72 7.72c-.78.78-.78 2.05 0 2.83L4 21.41c.39.39.9.59 1.41.59.51 0 1.02-.2 1.41-.59l7.78-7.78 2.81-2.81c.8-.78.8-2.07 0-2.86zM5.41 20L4 18.59l7.72-7.72 1.47 1.35L5.41 20z\"/>\n",
       "  </svg>\n",
       "      </button>\n",
       "      \n",
       "  <style>\n",
       "    .colab-df-container {\n",
       "      display:flex;\n",
       "      flex-wrap:wrap;\n",
       "      gap: 12px;\n",
       "    }\n",
       "\n",
       "    .colab-df-convert {\n",
       "      background-color: #E8F0FE;\n",
       "      border: none;\n",
       "      border-radius: 50%;\n",
       "      cursor: pointer;\n",
       "      display: none;\n",
       "      fill: #1967D2;\n",
       "      height: 32px;\n",
       "      padding: 0 0 0 0;\n",
       "      width: 32px;\n",
       "    }\n",
       "\n",
       "    .colab-df-convert:hover {\n",
       "      background-color: #E2EBFA;\n",
       "      box-shadow: 0px 1px 2px rgba(60, 64, 67, 0.3), 0px 1px 3px 1px rgba(60, 64, 67, 0.15);\n",
       "      fill: #174EA6;\n",
       "    }\n",
       "\n",
       "    [theme=dark] .colab-df-convert {\n",
       "      background-color: #3B4455;\n",
       "      fill: #D2E3FC;\n",
       "    }\n",
       "\n",
       "    [theme=dark] .colab-df-convert:hover {\n",
       "      background-color: #434B5C;\n",
       "      box-shadow: 0px 1px 3px 1px rgba(0, 0, 0, 0.15);\n",
       "      filter: drop-shadow(0px 1px 2px rgba(0, 0, 0, 0.3));\n",
       "      fill: #FFFFFF;\n",
       "    }\n",
       "  </style>\n",
       "\n",
       "      <script>\n",
       "        const buttonEl =\n",
       "          document.querySelector('#df-73be98a6-f52d-4b2d-8e1d-a5a8691ef606 button.colab-df-convert');\n",
       "        buttonEl.style.display =\n",
       "          google.colab.kernel.accessAllowed ? 'block' : 'none';\n",
       "\n",
       "        async function convertToInteractive(key) {\n",
       "          const element = document.querySelector('#df-73be98a6-f52d-4b2d-8e1d-a5a8691ef606');\n",
       "          const dataTable =\n",
       "            await google.colab.kernel.invokeFunction('convertToInteractive',\n",
       "                                                     [key], {});\n",
       "          if (!dataTable) return;\n",
       "\n",
       "          const docLinkHtml = 'Like what you see? Visit the ' +\n",
       "            '<a target=\"_blank\" href=https://colab.research.google.com/notebooks/data_table.ipynb>data table notebook</a>'\n",
       "            + ' to learn more about interactive tables.';\n",
       "          element.innerHTML = '';\n",
       "          dataTable['output_type'] = 'display_data';\n",
       "          await google.colab.output.renderOutput(dataTable, element);\n",
       "          const docLink = document.createElement('div');\n",
       "          docLink.innerHTML = docLinkHtml;\n",
       "          element.appendChild(docLink);\n",
       "        }\n",
       "      </script>\n",
       "    </div>\n",
       "  </div>\n",
       "  "
      ],
      "text/plain": [
       "   adult                              belongs_to_collection    budget  \\\n",
       "0  False  {'id': 10194, 'name': 'Toy Story Collection', ...  30000000   \n",
       "1  False                                                NaN  65000000   \n",
       "2  False  {'id': 119050, 'name': 'Grumpy Old Men Collect...         0   \n",
       "3  False                                                NaN  16000000   \n",
       "4  False  {'id': 96871, 'name': 'Father of the Bride Col...         0   \n",
       "\n",
       "                                              genres  \\\n",
       "0  [{'id': 16, 'name': 'Animation'}, {'id': 35, '...   \n",
       "1  [{'id': 12, 'name': 'Adventure'}, {'id': 14, '...   \n",
       "2  [{'id': 10749, 'name': 'Romance'}, {'id': 35, ...   \n",
       "3  [{'id': 35, 'name': 'Comedy'}, {'id': 18, 'nam...   \n",
       "4                     [{'id': 35, 'name': 'Comedy'}]   \n",
       "\n",
       "                               homepage     id    imdb_id original_language  \\\n",
       "0  http://toystory.disney.com/toy-story    862  tt0114709                en   \n",
       "1                                   NaN   8844  tt0113497                en   \n",
       "2                                   NaN  15602  tt0113228                en   \n",
       "3                                   NaN  31357  tt0114885                en   \n",
       "4                                   NaN  11862  tt0113041                en   \n",
       "\n",
       "                original_title  \\\n",
       "0                    Toy Story   \n",
       "1                      Jumanji   \n",
       "2             Grumpier Old Men   \n",
       "3            Waiting to Exhale   \n",
       "4  Father of the Bride Part II   \n",
       "\n",
       "                                            overview  ... release_date  \\\n",
       "0  Led by Woody, Andy's toys live happily in his ...  ...   1995-10-30   \n",
       "1  When siblings Judy and Peter discover an encha...  ...   1995-12-15   \n",
       "2  A family wedding reignites the ancient feud be...  ...   1995-12-22   \n",
       "3  Cheated on, mistreated and stepped on, the wom...  ...   1995-12-22   \n",
       "4  Just when George Banks has recovered from his ...  ...   1995-02-10   \n",
       "\n",
       "       revenue runtime                                   spoken_languages  \\\n",
       "0  373554033.0    81.0           [{'iso_639_1': 'en', 'name': 'English'}]   \n",
       "1  262797249.0   104.0  [{'iso_639_1': 'en', 'name': 'English'}, {'iso...   \n",
       "2          0.0   101.0           [{'iso_639_1': 'en', 'name': 'English'}]   \n",
       "3   81452156.0   127.0           [{'iso_639_1': 'en', 'name': 'English'}]   \n",
       "4   76578911.0   106.0           [{'iso_639_1': 'en', 'name': 'English'}]   \n",
       "\n",
       "     status                                            tagline  \\\n",
       "0  Released                                                NaN   \n",
       "1  Released          Roll the dice and unleash the excitement!   \n",
       "2  Released  Still Yelling. Still Fighting. Still Ready for...   \n",
       "3  Released  Friends are the people who let you be yourself...   \n",
       "4  Released  Just When His World Is Back To Normal... He's ...   \n",
       "\n",
       "                         title  video vote_average vote_count  \n",
       "0                    Toy Story  False          7.7     5415.0  \n",
       "1                      Jumanji  False          6.9     2413.0  \n",
       "2             Grumpier Old Men  False          6.5       92.0  \n",
       "3            Waiting to Exhale  False          6.1       34.0  \n",
       "4  Father of the Bride Part II  False          5.7      173.0  \n",
       "\n",
       "[5 rows x 24 columns]"
      ]
     },
     "metadata": {},
     "output_type": "display_data"
    },
    {
     "name": "stdout",
     "output_type": "stream",
     "text": [
      "(45466, 24)\n"
     ]
    }
   ],
   "source": [
    "metadata_df = pd.read_csv(data_path+'/'+'data/movies_metadata.csv')\n",
    "display(metadata_df.head())\n",
    "print(metadata_df.shape)"
   ]
  },
  {
   "cell_type": "markdown",
   "id": "ad09cab2",
   "metadata": {
    "id": "cd175da8"
   },
   "source": [
    "The following are all column names that are available"
   ]
  },
  {
   "cell_type": "code",
   "execution_count": 4,
   "id": "206e8310",
   "metadata": {
    "colab": {
     "base_uri": "https://localhost:8080/"
    },
    "executionInfo": {
     "elapsed": 330,
     "status": "ok",
     "timestamp": 1656553037284,
     "user": {
      "displayName": "Bryan Lusse",
      "userId": "03846782266646528687"
     },
     "user_tz": -480
    },
    "id": "f7f70895",
    "outputId": "8771b2b1-783d-4143-9a83-ca69bdda645d"
   },
   "outputs": [
    {
     "data": {
      "text/plain": [
       "Index(['adult', 'belongs_to_collection', 'budget', 'genres', 'homepage', 'id',\n",
       "       'imdb_id', 'original_language', 'original_title', 'overview',\n",
       "       'popularity', 'poster_path', 'production_companies',\n",
       "       'production_countries', 'release_date', 'revenue', 'runtime',\n",
       "       'spoken_languages', 'status', 'tagline', 'title', 'video',\n",
       "       'vote_average', 'vote_count'],\n",
       "      dtype='object')"
      ]
     },
     "execution_count": 4,
     "metadata": {},
     "output_type": "execute_result"
    }
   ],
   "source": [
    "metadata_df.columns"
   ]
  },
  {
   "cell_type": "markdown",
   "id": "898c97c9",
   "metadata": {
    "id": "9d7998d1"
   },
   "source": [
    "More data surrounding the movies is present in other files. Information about the cast can be found in the *credits* file."
   ]
  },
  {
   "cell_type": "code",
   "execution_count": 5,
   "id": "9622d32f",
   "metadata": {
    "colab": {
     "base_uri": "https://localhost:8080/",
     "height": 206
    },
    "executionInfo": {
     "elapsed": 4047,
     "status": "ok",
     "timestamp": 1656553042693,
     "user": {
      "displayName": "Bryan Lusse",
      "userId": "03846782266646528687"
     },
     "user_tz": -480
    },
    "id": "e07174ba",
    "outputId": "a97b30e7-e1c5-44ab-b2ef-e04c50b3d8dd"
   },
   "outputs": [
    {
     "data": {
      "text/html": [
       "\n",
       "  <div id=\"df-48d167a5-9a1c-4dbc-8cc0-3028076bd871\">\n",
       "    <div class=\"colab-df-container\">\n",
       "      <div>\n",
       "<style scoped>\n",
       "    .dataframe tbody tr th:only-of-type {\n",
       "        vertical-align: middle;\n",
       "    }\n",
       "\n",
       "    .dataframe tbody tr th {\n",
       "        vertical-align: top;\n",
       "    }\n",
       "\n",
       "    .dataframe thead th {\n",
       "        text-align: right;\n",
       "    }\n",
       "</style>\n",
       "<table border=\"1\" class=\"dataframe\">\n",
       "  <thead>\n",
       "    <tr style=\"text-align: right;\">\n",
       "      <th></th>\n",
       "      <th>cast</th>\n",
       "      <th>crew</th>\n",
       "      <th>id</th>\n",
       "    </tr>\n",
       "  </thead>\n",
       "  <tbody>\n",
       "    <tr>\n",
       "      <th>0</th>\n",
       "      <td>[{'cast_id': 14, 'character': 'Woody (voice)',...</td>\n",
       "      <td>[{'credit_id': '52fe4284c3a36847f8024f49', 'de...</td>\n",
       "      <td>862</td>\n",
       "    </tr>\n",
       "    <tr>\n",
       "      <th>1</th>\n",
       "      <td>[{'cast_id': 1, 'character': 'Alan Parrish', '...</td>\n",
       "      <td>[{'credit_id': '52fe44bfc3a36847f80a7cd1', 'de...</td>\n",
       "      <td>8844</td>\n",
       "    </tr>\n",
       "    <tr>\n",
       "      <th>2</th>\n",
       "      <td>[{'cast_id': 2, 'character': 'Max Goldman', 'c...</td>\n",
       "      <td>[{'credit_id': '52fe466a9251416c75077a89', 'de...</td>\n",
       "      <td>15602</td>\n",
       "    </tr>\n",
       "    <tr>\n",
       "      <th>3</th>\n",
       "      <td>[{'cast_id': 1, 'character': \"Savannah 'Vannah...</td>\n",
       "      <td>[{'credit_id': '52fe44779251416c91011acb', 'de...</td>\n",
       "      <td>31357</td>\n",
       "    </tr>\n",
       "    <tr>\n",
       "      <th>4</th>\n",
       "      <td>[{'cast_id': 1, 'character': 'George Banks', '...</td>\n",
       "      <td>[{'credit_id': '52fe44959251416c75039ed7', 'de...</td>\n",
       "      <td>11862</td>\n",
       "    </tr>\n",
       "  </tbody>\n",
       "</table>\n",
       "</div>\n",
       "      <button class=\"colab-df-convert\" onclick=\"convertToInteractive('df-48d167a5-9a1c-4dbc-8cc0-3028076bd871')\"\n",
       "              title=\"Convert this dataframe to an interactive table.\"\n",
       "              style=\"display:none;\">\n",
       "        \n",
       "  <svg xmlns=\"http://www.w3.org/2000/svg\" height=\"24px\"viewBox=\"0 0 24 24\"\n",
       "       width=\"24px\">\n",
       "    <path d=\"M0 0h24v24H0V0z\" fill=\"none\"/>\n",
       "    <path d=\"M18.56 5.44l.94 2.06.94-2.06 2.06-.94-2.06-.94-.94-2.06-.94 2.06-2.06.94zm-11 1L8.5 8.5l.94-2.06 2.06-.94-2.06-.94L8.5 2.5l-.94 2.06-2.06.94zm10 10l.94 2.06.94-2.06 2.06-.94-2.06-.94-.94-2.06-.94 2.06-2.06.94z\"/><path d=\"M17.41 7.96l-1.37-1.37c-.4-.4-.92-.59-1.43-.59-.52 0-1.04.2-1.43.59L10.3 9.45l-7.72 7.72c-.78.78-.78 2.05 0 2.83L4 21.41c.39.39.9.59 1.41.59.51 0 1.02-.2 1.41-.59l7.78-7.78 2.81-2.81c.8-.78.8-2.07 0-2.86zM5.41 20L4 18.59l7.72-7.72 1.47 1.35L5.41 20z\"/>\n",
       "  </svg>\n",
       "      </button>\n",
       "      \n",
       "  <style>\n",
       "    .colab-df-container {\n",
       "      display:flex;\n",
       "      flex-wrap:wrap;\n",
       "      gap: 12px;\n",
       "    }\n",
       "\n",
       "    .colab-df-convert {\n",
       "      background-color: #E8F0FE;\n",
       "      border: none;\n",
       "      border-radius: 50%;\n",
       "      cursor: pointer;\n",
       "      display: none;\n",
       "      fill: #1967D2;\n",
       "      height: 32px;\n",
       "      padding: 0 0 0 0;\n",
       "      width: 32px;\n",
       "    }\n",
       "\n",
       "    .colab-df-convert:hover {\n",
       "      background-color: #E2EBFA;\n",
       "      box-shadow: 0px 1px 2px rgba(60, 64, 67, 0.3), 0px 1px 3px 1px rgba(60, 64, 67, 0.15);\n",
       "      fill: #174EA6;\n",
       "    }\n",
       "\n",
       "    [theme=dark] .colab-df-convert {\n",
       "      background-color: #3B4455;\n",
       "      fill: #D2E3FC;\n",
       "    }\n",
       "\n",
       "    [theme=dark] .colab-df-convert:hover {\n",
       "      background-color: #434B5C;\n",
       "      box-shadow: 0px 1px 3px 1px rgba(0, 0, 0, 0.15);\n",
       "      filter: drop-shadow(0px 1px 2px rgba(0, 0, 0, 0.3));\n",
       "      fill: #FFFFFF;\n",
       "    }\n",
       "  </style>\n",
       "\n",
       "      <script>\n",
       "        const buttonEl =\n",
       "          document.querySelector('#df-48d167a5-9a1c-4dbc-8cc0-3028076bd871 button.colab-df-convert');\n",
       "        buttonEl.style.display =\n",
       "          google.colab.kernel.accessAllowed ? 'block' : 'none';\n",
       "\n",
       "        async function convertToInteractive(key) {\n",
       "          const element = document.querySelector('#df-48d167a5-9a1c-4dbc-8cc0-3028076bd871');\n",
       "          const dataTable =\n",
       "            await google.colab.kernel.invokeFunction('convertToInteractive',\n",
       "                                                     [key], {});\n",
       "          if (!dataTable) return;\n",
       "\n",
       "          const docLinkHtml = 'Like what you see? Visit the ' +\n",
       "            '<a target=\"_blank\" href=https://colab.research.google.com/notebooks/data_table.ipynb>data table notebook</a>'\n",
       "            + ' to learn more about interactive tables.';\n",
       "          element.innerHTML = '';\n",
       "          dataTable['output_type'] = 'display_data';\n",
       "          await google.colab.output.renderOutput(dataTable, element);\n",
       "          const docLink = document.createElement('div');\n",
       "          docLink.innerHTML = docLinkHtml;\n",
       "          element.appendChild(docLink);\n",
       "        }\n",
       "      </script>\n",
       "    </div>\n",
       "  </div>\n",
       "  "
      ],
      "text/plain": [
       "                                                cast  \\\n",
       "0  [{'cast_id': 14, 'character': 'Woody (voice)',...   \n",
       "1  [{'cast_id': 1, 'character': 'Alan Parrish', '...   \n",
       "2  [{'cast_id': 2, 'character': 'Max Goldman', 'c...   \n",
       "3  [{'cast_id': 1, 'character': \"Savannah 'Vannah...   \n",
       "4  [{'cast_id': 1, 'character': 'George Banks', '...   \n",
       "\n",
       "                                                crew     id  \n",
       "0  [{'credit_id': '52fe4284c3a36847f8024f49', 'de...    862  \n",
       "1  [{'credit_id': '52fe44bfc3a36847f80a7cd1', 'de...   8844  \n",
       "2  [{'credit_id': '52fe466a9251416c75077a89', 'de...  15602  \n",
       "3  [{'credit_id': '52fe44779251416c91011acb', 'de...  31357  \n",
       "4  [{'credit_id': '52fe44959251416c75039ed7', 'de...  11862  "
      ]
     },
     "execution_count": 5,
     "metadata": {},
     "output_type": "execute_result"
    }
   ],
   "source": [
    "credits_df = pd.read_csv(data_path+'/'+'data/credits.csv')\n",
    "credits_df.head()"
   ]
  },
  {
   "cell_type": "markdown",
   "id": "b3f6b5f6",
   "metadata": {
    "id": "45f5a335"
   },
   "source": [
    "Another interesting source of data is the *keywords* file. This consists of keywords regarding the story and themes of the movie. An important feature when finding similarities in movies."
   ]
  },
  {
   "cell_type": "code",
   "execution_count": 6,
   "id": "9d6e659a",
   "metadata": {
    "colab": {
     "base_uri": "https://localhost:8080/",
     "height": 206
    },
    "executionInfo": {
     "elapsed": 719,
     "status": "ok",
     "timestamp": 1656553043406,
     "user": {
      "displayName": "Bryan Lusse",
      "userId": "03846782266646528687"
     },
     "user_tz": -480
    },
    "id": "3693091e",
    "outputId": "8c651845-0e59-4eb8-fdf9-4b9821922a08"
   },
   "outputs": [
    {
     "data": {
      "text/html": [
       "\n",
       "  <div id=\"df-9cda9980-9733-4efc-8c21-4bd55d4b26b5\">\n",
       "    <div class=\"colab-df-container\">\n",
       "      <div>\n",
       "<style scoped>\n",
       "    .dataframe tbody tr th:only-of-type {\n",
       "        vertical-align: middle;\n",
       "    }\n",
       "\n",
       "    .dataframe tbody tr th {\n",
       "        vertical-align: top;\n",
       "    }\n",
       "\n",
       "    .dataframe thead th {\n",
       "        text-align: right;\n",
       "    }\n",
       "</style>\n",
       "<table border=\"1\" class=\"dataframe\">\n",
       "  <thead>\n",
       "    <tr style=\"text-align: right;\">\n",
       "      <th></th>\n",
       "      <th>id</th>\n",
       "      <th>keywords</th>\n",
       "    </tr>\n",
       "  </thead>\n",
       "  <tbody>\n",
       "    <tr>\n",
       "      <th>0</th>\n",
       "      <td>862</td>\n",
       "      <td>[{'id': 931, 'name': 'jealousy'}, {'id': 4290,...</td>\n",
       "    </tr>\n",
       "    <tr>\n",
       "      <th>1</th>\n",
       "      <td>8844</td>\n",
       "      <td>[{'id': 10090, 'name': 'board game'}, {'id': 1...</td>\n",
       "    </tr>\n",
       "    <tr>\n",
       "      <th>2</th>\n",
       "      <td>15602</td>\n",
       "      <td>[{'id': 1495, 'name': 'fishing'}, {'id': 12392...</td>\n",
       "    </tr>\n",
       "    <tr>\n",
       "      <th>3</th>\n",
       "      <td>31357</td>\n",
       "      <td>[{'id': 818, 'name': 'based on novel'}, {'id':...</td>\n",
       "    </tr>\n",
       "    <tr>\n",
       "      <th>4</th>\n",
       "      <td>11862</td>\n",
       "      <td>[{'id': 1009, 'name': 'baby'}, {'id': 1599, 'n...</td>\n",
       "    </tr>\n",
       "  </tbody>\n",
       "</table>\n",
       "</div>\n",
       "      <button class=\"colab-df-convert\" onclick=\"convertToInteractive('df-9cda9980-9733-4efc-8c21-4bd55d4b26b5')\"\n",
       "              title=\"Convert this dataframe to an interactive table.\"\n",
       "              style=\"display:none;\">\n",
       "        \n",
       "  <svg xmlns=\"http://www.w3.org/2000/svg\" height=\"24px\"viewBox=\"0 0 24 24\"\n",
       "       width=\"24px\">\n",
       "    <path d=\"M0 0h24v24H0V0z\" fill=\"none\"/>\n",
       "    <path d=\"M18.56 5.44l.94 2.06.94-2.06 2.06-.94-2.06-.94-.94-2.06-.94 2.06-2.06.94zm-11 1L8.5 8.5l.94-2.06 2.06-.94-2.06-.94L8.5 2.5l-.94 2.06-2.06.94zm10 10l.94 2.06.94-2.06 2.06-.94-2.06-.94-.94-2.06-.94 2.06-2.06.94z\"/><path d=\"M17.41 7.96l-1.37-1.37c-.4-.4-.92-.59-1.43-.59-.52 0-1.04.2-1.43.59L10.3 9.45l-7.72 7.72c-.78.78-.78 2.05 0 2.83L4 21.41c.39.39.9.59 1.41.59.51 0 1.02-.2 1.41-.59l7.78-7.78 2.81-2.81c.8-.78.8-2.07 0-2.86zM5.41 20L4 18.59l7.72-7.72 1.47 1.35L5.41 20z\"/>\n",
       "  </svg>\n",
       "      </button>\n",
       "      \n",
       "  <style>\n",
       "    .colab-df-container {\n",
       "      display:flex;\n",
       "      flex-wrap:wrap;\n",
       "      gap: 12px;\n",
       "    }\n",
       "\n",
       "    .colab-df-convert {\n",
       "      background-color: #E8F0FE;\n",
       "      border: none;\n",
       "      border-radius: 50%;\n",
       "      cursor: pointer;\n",
       "      display: none;\n",
       "      fill: #1967D2;\n",
       "      height: 32px;\n",
       "      padding: 0 0 0 0;\n",
       "      width: 32px;\n",
       "    }\n",
       "\n",
       "    .colab-df-convert:hover {\n",
       "      background-color: #E2EBFA;\n",
       "      box-shadow: 0px 1px 2px rgba(60, 64, 67, 0.3), 0px 1px 3px 1px rgba(60, 64, 67, 0.15);\n",
       "      fill: #174EA6;\n",
       "    }\n",
       "\n",
       "    [theme=dark] .colab-df-convert {\n",
       "      background-color: #3B4455;\n",
       "      fill: #D2E3FC;\n",
       "    }\n",
       "\n",
       "    [theme=dark] .colab-df-convert:hover {\n",
       "      background-color: #434B5C;\n",
       "      box-shadow: 0px 1px 3px 1px rgba(0, 0, 0, 0.15);\n",
       "      filter: drop-shadow(0px 1px 2px rgba(0, 0, 0, 0.3));\n",
       "      fill: #FFFFFF;\n",
       "    }\n",
       "  </style>\n",
       "\n",
       "      <script>\n",
       "        const buttonEl =\n",
       "          document.querySelector('#df-9cda9980-9733-4efc-8c21-4bd55d4b26b5 button.colab-df-convert');\n",
       "        buttonEl.style.display =\n",
       "          google.colab.kernel.accessAllowed ? 'block' : 'none';\n",
       "\n",
       "        async function convertToInteractive(key) {\n",
       "          const element = document.querySelector('#df-9cda9980-9733-4efc-8c21-4bd55d4b26b5');\n",
       "          const dataTable =\n",
       "            await google.colab.kernel.invokeFunction('convertToInteractive',\n",
       "                                                     [key], {});\n",
       "          if (!dataTable) return;\n",
       "\n",
       "          const docLinkHtml = 'Like what you see? Visit the ' +\n",
       "            '<a target=\"_blank\" href=https://colab.research.google.com/notebooks/data_table.ipynb>data table notebook</a>'\n",
       "            + ' to learn more about interactive tables.';\n",
       "          element.innerHTML = '';\n",
       "          dataTable['output_type'] = 'display_data';\n",
       "          await google.colab.output.renderOutput(dataTable, element);\n",
       "          const docLink = document.createElement('div');\n",
       "          docLink.innerHTML = docLinkHtml;\n",
       "          element.appendChild(docLink);\n",
       "        }\n",
       "      </script>\n",
       "    </div>\n",
       "  </div>\n",
       "  "
      ],
      "text/plain": [
       "      id                                           keywords\n",
       "0    862  [{'id': 931, 'name': 'jealousy'}, {'id': 4290,...\n",
       "1   8844  [{'id': 10090, 'name': 'board game'}, {'id': 1...\n",
       "2  15602  [{'id': 1495, 'name': 'fishing'}, {'id': 12392...\n",
       "3  31357  [{'id': 818, 'name': 'based on novel'}, {'id':...\n",
       "4  11862  [{'id': 1009, 'name': 'baby'}, {'id': 1599, 'n..."
      ]
     },
     "execution_count": 6,
     "metadata": {},
     "output_type": "execute_result"
    }
   ],
   "source": [
    "keywords_df = pd.read_csv(data_path+'/'+'data/keywords.csv')\n",
    "keywords_df.head()"
   ]
  },
  {
   "cell_type": "markdown",
   "id": "818f0eec",
   "metadata": {
    "id": "0bc07195"
   },
   "source": [
    "## Exploratory Data Analysis"
   ]
  },
  {
   "cell_type": "code",
   "execution_count": 7,
   "id": "9101a476",
   "metadata": {
    "colab": {
     "base_uri": "https://localhost:8080/",
     "height": 105,
     "referenced_widgets": [
      "6dc256c4c9534e8a8acd7d9aef453257",
      "b552fa7bae1849989d985a536a6dec26",
      "1a99c15c990243308043e5c4c3c44cae",
      "8025206673424e9dbef61f8a135d6f0e",
      "0694b88d7273443c9788b45b88688434",
      "6d833c3164094df3886282559bf5bd8b",
      "8a57f6f08f9349ab990105b7c2f17e4b",
      "61d1b5f6b9de47f3a3ceac7c5dbc364c",
      "306a5978d0e74388a70448b54b5908df",
      "438ec04795c445549dcc59e98a60ce98",
      "3e9b3fcca2dc4fe998e21906a70573f1"
     ]
    },
    "executionInfo": {
     "elapsed": 4111,
     "status": "ok",
     "timestamp": 1656553047505,
     "user": {
      "displayName": "Bryan Lusse",
      "userId": "03846782266646528687"
     },
     "user_tz": -480
    },
    "id": "6a9d9f45",
    "outputId": "722cd1c5-5a22-49e0-fff7-5186a2cc5fd8"
   },
   "outputs": [
    {
     "data": {
      "application/vnd.jupyter.widget-view+json": {
       "model_id": "6dc256c4c9534e8a8acd7d9aef453257",
       "version_major": 2,
       "version_minor": 0
      },
      "text/plain": [
       "  0%|          | 0/45466 [00:00<?, ?it/s]"
      ]
     },
     "metadata": {},
     "output_type": "display_data"
    },
    {
     "name": "stdout",
     "output_type": "stream",
     "text": [
      "List of all genres:\n",
      "['Animation', 'Comedy', 'Family', 'Adventure', 'Fantasy', 'Romance', 'Drama', 'Action', 'Crime', 'Thriller', 'Horror', 'History', 'Science Fiction', 'Mystery', 'War', 'Foreign', 'Music', 'Documentary', 'Western', 'TV Movie', 'Carousel Productions', 'Vision View Entertainment', 'Telescene Film Group Productions', 'Aniplex', 'GoHands', 'BROSTA TV', 'Mardock Scramble Production Committee', 'Sentai Filmworks', 'Odyssey Media', 'Pulser Productions', 'Rogue State', 'The Cartel']\n"
     ]
    }
   ],
   "source": [
    "genres = []\n",
    "\n",
    "for index, row in tqdm(metadata_df.iterrows(), total=len(metadata_df)):\n",
    "    genre = eval(row['genres'])\n",
    "    for i in range(len(genre)):\n",
    "        genre_name = genre[i]['name']\n",
    "        if genre_name in genres:\n",
    "            pass\n",
    "        else:\n",
    "            genres.append(genre_name)\n",
    "print('List of all genres:')\n",
    "print(genres)"
   ]
  },
  {
   "cell_type": "markdown",
   "id": "ee76ba9c",
   "metadata": {
    "id": "7b89972e"
   },
   "source": [
    "## Different Approaches\n",
    "Recommending similar data (in this case movies), can be done through mainly two different approaches.\n",
    "\n",
    "- **Content-based Filtering:**\n",
    "    Here, the content is compared and filtered by the degree of similarity. In the case of movie recommendations, movies are compared to each other in order to find similar movies. After you have just watched a movie, Netflix might show you movies that are similar (similar genre or actors). As the filtering on similarity is done using the movies and their content, this is content-based filtering. \n",
    "    \n",
    "\n",
    "- **Collaborative Filtering:**\n",
    "    In this approach, the comparison is made between viewers rather than between movies. If two people, person A and person B, watch similar movies, their tastes in movies might be similar. So, if person A watches and likes a movie that person B has not yet seen, it makes sense to recommend this movie to person B. This might happen when you open Netflix. Recommendations are based on the watch patterns of likeminded individuals (although these are probably also based on the movies you have watched).\n",
    "    \n",
    "In the image below you can see an example of both content-based and collaborative clustering on books.\n",
    "\n",
    "![Image](https://drive.google.com/uc?export=view&id=1xzPFyvGlmFR7GSF773iF8saxIt_CLEh-)\n",
    "\n",
    "[Image Source](https://www.springboard.com/blog/data-science/recommendation-system-python/)"
   ]
  },
  {
   "cell_type": "markdown",
   "id": "525014a8",
   "metadata": {
    "id": "0e277265"
   },
   "source": [
    "## Method 1: Finding Similar Movies (Content-based Filtering)"
   ]
  },
  {
   "cell_type": "markdown",
   "id": "97d268d5",
   "metadata": {
    "id": "bb0a974d"
   },
   "source": [
    "### Preprocessing\n",
    "For this approach we want to combine all data that can tell us if movies are similar. From there we select the data we need and vectorize all text data."
   ]
  },
  {
   "cell_type": "code",
   "execution_count": 8,
   "id": "ca49bd54",
   "metadata": {
    "executionInfo": {
     "elapsed": 5328,
     "status": "ok",
     "timestamp": 1656553054055,
     "user": {
      "displayName": "Bryan Lusse",
      "userId": "03846782266646528687"
     },
     "user_tz": -480
    },
    "id": "03bce090"
   },
   "outputs": [],
   "source": [
    "for index, row in metadata_df.iterrows():\n",
    "    if len(row['id'].split('-')) == 1:\n",
    "        pass\n",
    "    else:\n",
    "        metadata_df.drop(index, inplace=True)"
   ]
  },
  {
   "cell_type": "code",
   "execution_count": 9,
   "id": "53d94081",
   "metadata": {
    "colab": {
     "base_uri": "https://localhost:8080/"
    },
    "executionInfo": {
     "elapsed": 4,
     "status": "ok",
     "timestamp": 1656553054056,
     "user": {
      "displayName": "Bryan Lusse",
      "userId": "03846782266646528687"
     },
     "user_tz": -480
    },
    "id": "925b24f2",
    "outputId": "4e505a05-aa7e-407e-9408-627d6cb67cef"
   },
   "outputs": [
    {
     "name": "stdout",
     "output_type": "stream",
     "text": [
      "(45463, 24)\n"
     ]
    }
   ],
   "source": [
    "metadata_df = metadata_df.astype({'id': 'int64'})\n",
    "print(metadata_df.shape)"
   ]
  },
  {
   "cell_type": "code",
   "execution_count": 10,
   "id": "1e4b0de4",
   "metadata": {
    "id": "eae8e4bc"
   },
   "outputs": [],
   "source": [
    "tot_df = metadata_df.merge(credits_df,on='id')\n",
    "tot_df = tot_df.merge(keywords_df, on='id')"
   ]
  },
  {
   "cell_type": "code",
   "execution_count": 11,
   "id": "5aae8f94",
   "metadata": {
    "id": "89554cd0"
   },
   "outputs": [],
   "source": [
    "tot_df = tot_df[['id', 'title', 'genres', 'keywords', 'cast']]"
   ]
  },
  {
   "cell_type": "code",
   "execution_count": 12,
   "id": "d7e3eb92",
   "metadata": {
    "colab": {
     "base_uri": "https://localhost:8080/",
     "height": 355
    },
    "id": "8fc6c7fa",
    "outputId": "0f8d11a4-06bb-44ff-f6dc-9972fea98811"
   },
   "outputs": [
    {
     "data": {
      "text/html": [
       "\n",
       "  <div id=\"df-ba91e315-38f4-4e20-9f81-3288b61cae22\">\n",
       "    <div class=\"colab-df-container\">\n",
       "      <div>\n",
       "<style scoped>\n",
       "    .dataframe tbody tr th:only-of-type {\n",
       "        vertical-align: middle;\n",
       "    }\n",
       "\n",
       "    .dataframe tbody tr th {\n",
       "        vertical-align: top;\n",
       "    }\n",
       "\n",
       "    .dataframe thead th {\n",
       "        text-align: right;\n",
       "    }\n",
       "</style>\n",
       "<table border=\"1\" class=\"dataframe\">\n",
       "  <thead>\n",
       "    <tr style=\"text-align: right;\">\n",
       "      <th></th>\n",
       "      <th>id</th>\n",
       "      <th>title</th>\n",
       "      <th>genres</th>\n",
       "      <th>keywords</th>\n",
       "      <th>cast</th>\n",
       "    </tr>\n",
       "  </thead>\n",
       "  <tbody>\n",
       "    <tr>\n",
       "      <th>0</th>\n",
       "      <td>862</td>\n",
       "      <td>Toy Story</td>\n",
       "      <td>[{'id': 16, 'name': 'Animation'}, {'id': 35, '...</td>\n",
       "      <td>[{'id': 931, 'name': 'jealousy'}, {'id': 4290,...</td>\n",
       "      <td>[{'cast_id': 14, 'character': 'Woody (voice)',...</td>\n",
       "    </tr>\n",
       "    <tr>\n",
       "      <th>1</th>\n",
       "      <td>8844</td>\n",
       "      <td>Jumanji</td>\n",
       "      <td>[{'id': 12, 'name': 'Adventure'}, {'id': 14, '...</td>\n",
       "      <td>[{'id': 10090, 'name': 'board game'}, {'id': 1...</td>\n",
       "      <td>[{'cast_id': 1, 'character': 'Alan Parrish', '...</td>\n",
       "    </tr>\n",
       "    <tr>\n",
       "      <th>2</th>\n",
       "      <td>15602</td>\n",
       "      <td>Grumpier Old Men</td>\n",
       "      <td>[{'id': 10749, 'name': 'Romance'}, {'id': 35, ...</td>\n",
       "      <td>[{'id': 1495, 'name': 'fishing'}, {'id': 12392...</td>\n",
       "      <td>[{'cast_id': 2, 'character': 'Max Goldman', 'c...</td>\n",
       "    </tr>\n",
       "    <tr>\n",
       "      <th>3</th>\n",
       "      <td>31357</td>\n",
       "      <td>Waiting to Exhale</td>\n",
       "      <td>[{'id': 35, 'name': 'Comedy'}, {'id': 18, 'nam...</td>\n",
       "      <td>[{'id': 818, 'name': 'based on novel'}, {'id':...</td>\n",
       "      <td>[{'cast_id': 1, 'character': \"Savannah 'Vannah...</td>\n",
       "    </tr>\n",
       "    <tr>\n",
       "      <th>4</th>\n",
       "      <td>11862</td>\n",
       "      <td>Father of the Bride Part II</td>\n",
       "      <td>[{'id': 35, 'name': 'Comedy'}]</td>\n",
       "      <td>[{'id': 1009, 'name': 'baby'}, {'id': 1599, 'n...</td>\n",
       "      <td>[{'cast_id': 1, 'character': 'George Banks', '...</td>\n",
       "    </tr>\n",
       "  </tbody>\n",
       "</table>\n",
       "</div>\n",
       "      <button class=\"colab-df-convert\" onclick=\"convertToInteractive('df-ba91e315-38f4-4e20-9f81-3288b61cae22')\"\n",
       "              title=\"Convert this dataframe to an interactive table.\"\n",
       "              style=\"display:none;\">\n",
       "        \n",
       "  <svg xmlns=\"http://www.w3.org/2000/svg\" height=\"24px\"viewBox=\"0 0 24 24\"\n",
       "       width=\"24px\">\n",
       "    <path d=\"M0 0h24v24H0V0z\" fill=\"none\"/>\n",
       "    <path d=\"M18.56 5.44l.94 2.06.94-2.06 2.06-.94-2.06-.94-.94-2.06-.94 2.06-2.06.94zm-11 1L8.5 8.5l.94-2.06 2.06-.94-2.06-.94L8.5 2.5l-.94 2.06-2.06.94zm10 10l.94 2.06.94-2.06 2.06-.94-2.06-.94-.94-2.06-.94 2.06-2.06.94z\"/><path d=\"M17.41 7.96l-1.37-1.37c-.4-.4-.92-.59-1.43-.59-.52 0-1.04.2-1.43.59L10.3 9.45l-7.72 7.72c-.78.78-.78 2.05 0 2.83L4 21.41c.39.39.9.59 1.41.59.51 0 1.02-.2 1.41-.59l7.78-7.78 2.81-2.81c.8-.78.8-2.07 0-2.86zM5.41 20L4 18.59l7.72-7.72 1.47 1.35L5.41 20z\"/>\n",
       "  </svg>\n",
       "      </button>\n",
       "      \n",
       "  <style>\n",
       "    .colab-df-container {\n",
       "      display:flex;\n",
       "      flex-wrap:wrap;\n",
       "      gap: 12px;\n",
       "    }\n",
       "\n",
       "    .colab-df-convert {\n",
       "      background-color: #E8F0FE;\n",
       "      border: none;\n",
       "      border-radius: 50%;\n",
       "      cursor: pointer;\n",
       "      display: none;\n",
       "      fill: #1967D2;\n",
       "      height: 32px;\n",
       "      padding: 0 0 0 0;\n",
       "      width: 32px;\n",
       "    }\n",
       "\n",
       "    .colab-df-convert:hover {\n",
       "      background-color: #E2EBFA;\n",
       "      box-shadow: 0px 1px 2px rgba(60, 64, 67, 0.3), 0px 1px 3px 1px rgba(60, 64, 67, 0.15);\n",
       "      fill: #174EA6;\n",
       "    }\n",
       "\n",
       "    [theme=dark] .colab-df-convert {\n",
       "      background-color: #3B4455;\n",
       "      fill: #D2E3FC;\n",
       "    }\n",
       "\n",
       "    [theme=dark] .colab-df-convert:hover {\n",
       "      background-color: #434B5C;\n",
       "      box-shadow: 0px 1px 3px 1px rgba(0, 0, 0, 0.15);\n",
       "      filter: drop-shadow(0px 1px 2px rgba(0, 0, 0, 0.3));\n",
       "      fill: #FFFFFF;\n",
       "    }\n",
       "  </style>\n",
       "\n",
       "      <script>\n",
       "        const buttonEl =\n",
       "          document.querySelector('#df-ba91e315-38f4-4e20-9f81-3288b61cae22 button.colab-df-convert');\n",
       "        buttonEl.style.display =\n",
       "          google.colab.kernel.accessAllowed ? 'block' : 'none';\n",
       "\n",
       "        async function convertToInteractive(key) {\n",
       "          const element = document.querySelector('#df-ba91e315-38f4-4e20-9f81-3288b61cae22');\n",
       "          const dataTable =\n",
       "            await google.colab.kernel.invokeFunction('convertToInteractive',\n",
       "                                                     [key], {});\n",
       "          if (!dataTable) return;\n",
       "\n",
       "          const docLinkHtml = 'Like what you see? Visit the ' +\n",
       "            '<a target=\"_blank\" href=https://colab.research.google.com/notebooks/data_table.ipynb>data table notebook</a>'\n",
       "            + ' to learn more about interactive tables.';\n",
       "          element.innerHTML = '';\n",
       "          dataTable['output_type'] = 'display_data';\n",
       "          await google.colab.output.renderOutput(dataTable, element);\n",
       "          const docLink = document.createElement('div');\n",
       "          docLink.innerHTML = docLinkHtml;\n",
       "          element.appendChild(docLink);\n",
       "        }\n",
       "      </script>\n",
       "    </div>\n",
       "  </div>\n",
       "  "
      ],
      "text/plain": [
       "      id                        title  \\\n",
       "0    862                    Toy Story   \n",
       "1   8844                      Jumanji   \n",
       "2  15602             Grumpier Old Men   \n",
       "3  31357            Waiting to Exhale   \n",
       "4  11862  Father of the Bride Part II   \n",
       "\n",
       "                                              genres  \\\n",
       "0  [{'id': 16, 'name': 'Animation'}, {'id': 35, '...   \n",
       "1  [{'id': 12, 'name': 'Adventure'}, {'id': 14, '...   \n",
       "2  [{'id': 10749, 'name': 'Romance'}, {'id': 35, ...   \n",
       "3  [{'id': 35, 'name': 'Comedy'}, {'id': 18, 'nam...   \n",
       "4                     [{'id': 35, 'name': 'Comedy'}]   \n",
       "\n",
       "                                            keywords  \\\n",
       "0  [{'id': 931, 'name': 'jealousy'}, {'id': 4290,...   \n",
       "1  [{'id': 10090, 'name': 'board game'}, {'id': 1...   \n",
       "2  [{'id': 1495, 'name': 'fishing'}, {'id': 12392...   \n",
       "3  [{'id': 818, 'name': 'based on novel'}, {'id':...   \n",
       "4  [{'id': 1009, 'name': 'baby'}, {'id': 1599, 'n...   \n",
       "\n",
       "                                                cast  \n",
       "0  [{'cast_id': 14, 'character': 'Woody (voice)',...  \n",
       "1  [{'cast_id': 1, 'character': 'Alan Parrish', '...  \n",
       "2  [{'cast_id': 2, 'character': 'Max Goldman', 'c...  \n",
       "3  [{'cast_id': 1, 'character': \"Savannah 'Vannah...  \n",
       "4  [{'cast_id': 1, 'character': 'George Banks', '...  "
      ]
     },
     "metadata": {},
     "output_type": "display_data"
    },
    {
     "name": "stdout",
     "output_type": "stream",
     "text": [
      "(46628, 5)\n"
     ]
    }
   ],
   "source": [
    "display(tot_df.head())\n",
    "print(tot_df.shape)"
   ]
  },
  {
   "cell_type": "markdown",
   "id": "ffd05535",
   "metadata": {
    "id": "0fa640a9"
   },
   "source": [
    "We can see that in this merged dataset there are many duplicates. Duplicate movies will only worsen the recommendations of our model, therefore lets remove them:"
   ]
  },
  {
   "cell_type": "code",
   "execution_count": 13,
   "id": "be503af7",
   "metadata": {
    "colab": {
     "base_uri": "https://localhost:8080/",
     "height": 641
    },
    "id": "449297bb",
    "outputId": "404ec622-9906-4674-b63a-f1d12c6da260"
   },
   "outputs": [
    {
     "data": {
      "text/html": [
       "\n",
       "  <div id=\"df-c992fae6-f001-4c94-841f-f84cc772ec23\">\n",
       "    <div class=\"colab-df-container\">\n",
       "      <div>\n",
       "<style scoped>\n",
       "    .dataframe tbody tr th:only-of-type {\n",
       "        vertical-align: middle;\n",
       "    }\n",
       "\n",
       "    .dataframe tbody tr th {\n",
       "        vertical-align: top;\n",
       "    }\n",
       "\n",
       "    .dataframe thead th {\n",
       "        text-align: right;\n",
       "    }\n",
       "</style>\n",
       "<table border=\"1\" class=\"dataframe\">\n",
       "  <thead>\n",
       "    <tr style=\"text-align: right;\">\n",
       "      <th></th>\n",
       "      <th>id</th>\n",
       "      <th>title</th>\n",
       "      <th>genres</th>\n",
       "      <th>keywords</th>\n",
       "      <th>cast</th>\n",
       "    </tr>\n",
       "  </thead>\n",
       "  <tbody>\n",
       "    <tr>\n",
       "      <th>677</th>\n",
       "      <td>105045</td>\n",
       "      <td>The Promise</td>\n",
       "      <td>[{'id': 18, 'name': 'Drama'}, {'id': 10749, 'n...</td>\n",
       "      <td>[{'id': 7059, 'name': 'anti-communism'}, {'id'...</td>\n",
       "      <td>[{'cast_id': 5, 'character': 'Sophie II', 'cre...</td>\n",
       "    </tr>\n",
       "    <tr>\n",
       "      <th>678</th>\n",
       "      <td>105045</td>\n",
       "      <td>The Promise</td>\n",
       "      <td>[{'id': 18, 'name': 'Drama'}, {'id': 10749, 'n...</td>\n",
       "      <td>[{'id': 7059, 'name': 'anti-communism'}, {'id'...</td>\n",
       "      <td>[{'cast_id': 5, 'character': 'Sophie II', 'cre...</td>\n",
       "    </tr>\n",
       "    <tr>\n",
       "      <th>679</th>\n",
       "      <td>105045</td>\n",
       "      <td>The Promise</td>\n",
       "      <td>[{'id': 18, 'name': 'Drama'}, {'id': 10749, 'n...</td>\n",
       "      <td>[{'id': 7059, 'name': 'anti-communism'}, {'id'...</td>\n",
       "      <td>[{'cast_id': 5, 'character': 'Sophie II', 'cre...</td>\n",
       "    </tr>\n",
       "    <tr>\n",
       "      <th>680</th>\n",
       "      <td>105045</td>\n",
       "      <td>The Promise</td>\n",
       "      <td>[{'id': 18, 'name': 'Drama'}, {'id': 10749, 'n...</td>\n",
       "      <td>[{'id': 7059, 'name': 'anti-communism'}, {'id'...</td>\n",
       "      <td>[{'cast_id': 5, 'character': 'Sophie II', 'cre...</td>\n",
       "    </tr>\n",
       "    <tr>\n",
       "      <th>681</th>\n",
       "      <td>105045</td>\n",
       "      <td>The Promise</td>\n",
       "      <td>[{'id': 18, 'name': 'Drama'}, {'id': 10749, 'n...</td>\n",
       "      <td>[{'id': 7059, 'name': 'anti-communism'}, {'id'...</td>\n",
       "      <td>[{'cast_id': 5, 'character': 'Sophie II', 'cre...</td>\n",
       "    </tr>\n",
       "    <tr>\n",
       "      <th>...</th>\n",
       "      <td>...</td>\n",
       "      <td>...</td>\n",
       "      <td>...</td>\n",
       "      <td>...</td>\n",
       "      <td>...</td>\n",
       "    </tr>\n",
       "    <tr>\n",
       "      <th>46583</th>\n",
       "      <td>52103</td>\n",
       "      <td>Pickpocket</td>\n",
       "      <td>[{'id': 18, 'name': 'Drama'}, {'id': 10769, 'n...</td>\n",
       "      <td>[{'id': 10183, 'name': 'independent film'}]</td>\n",
       "      <td>[{'cast_id': 3, 'character': 'Xiao Wu', 'credi...</td>\n",
       "    </tr>\n",
       "    <tr>\n",
       "      <th>46615</th>\n",
       "      <td>404604</td>\n",
       "      <td>Mom</td>\n",
       "      <td>[{'id': 80, 'name': 'Crime'}, {'id': 18, 'name...</td>\n",
       "      <td>[{'id': 155794, 'name': 'physical abuse'}, {'i...</td>\n",
       "      <td>[{'cast_id': 1, 'character': 'Devki Sabarwal',...</td>\n",
       "    </tr>\n",
       "    <tr>\n",
       "      <th>46616</th>\n",
       "      <td>420346</td>\n",
       "      <td>The Morning After</td>\n",
       "      <td>[{'id': 35, 'name': 'Comedy'}, {'id': 18, 'nam...</td>\n",
       "      <td>[]</td>\n",
       "      <td>[{'cast_id': 0, 'character': 'Lauren', 'credit...</td>\n",
       "    </tr>\n",
       "    <tr>\n",
       "      <th>46622</th>\n",
       "      <td>30840</td>\n",
       "      <td>Robin Hood</td>\n",
       "      <td>[{'id': 18, 'name': 'Drama'}, {'id': 28, 'name...</td>\n",
       "      <td>[]</td>\n",
       "      <td>[{'cast_id': 1, 'character': 'Sir Robert Hode'...</td>\n",
       "    </tr>\n",
       "    <tr>\n",
       "      <th>46625</th>\n",
       "      <td>67758</td>\n",
       "      <td>Betrayal</td>\n",
       "      <td>[{'id': 28, 'name': 'Action'}, {'id': 18, 'nam...</td>\n",
       "      <td>[]</td>\n",
       "      <td>[{'cast_id': 6, 'character': 'Emily Shaw', 'cr...</td>\n",
       "    </tr>\n",
       "  </tbody>\n",
       "</table>\n",
       "<p>4351 rows × 5 columns</p>\n",
       "</div>\n",
       "      <button class=\"colab-df-convert\" onclick=\"convertToInteractive('df-c992fae6-f001-4c94-841f-f84cc772ec23')\"\n",
       "              title=\"Convert this dataframe to an interactive table.\"\n",
       "              style=\"display:none;\">\n",
       "        \n",
       "  <svg xmlns=\"http://www.w3.org/2000/svg\" height=\"24px\"viewBox=\"0 0 24 24\"\n",
       "       width=\"24px\">\n",
       "    <path d=\"M0 0h24v24H0V0z\" fill=\"none\"/>\n",
       "    <path d=\"M18.56 5.44l.94 2.06.94-2.06 2.06-.94-2.06-.94-.94-2.06-.94 2.06-2.06.94zm-11 1L8.5 8.5l.94-2.06 2.06-.94-2.06-.94L8.5 2.5l-.94 2.06-2.06.94zm10 10l.94 2.06.94-2.06 2.06-.94-2.06-.94-.94-2.06-.94 2.06-2.06.94z\"/><path d=\"M17.41 7.96l-1.37-1.37c-.4-.4-.92-.59-1.43-.59-.52 0-1.04.2-1.43.59L10.3 9.45l-7.72 7.72c-.78.78-.78 2.05 0 2.83L4 21.41c.39.39.9.59 1.41.59.51 0 1.02-.2 1.41-.59l7.78-7.78 2.81-2.81c.8-.78.8-2.07 0-2.86zM5.41 20L4 18.59l7.72-7.72 1.47 1.35L5.41 20z\"/>\n",
       "  </svg>\n",
       "      </button>\n",
       "      \n",
       "  <style>\n",
       "    .colab-df-container {\n",
       "      display:flex;\n",
       "      flex-wrap:wrap;\n",
       "      gap: 12px;\n",
       "    }\n",
       "\n",
       "    .colab-df-convert {\n",
       "      background-color: #E8F0FE;\n",
       "      border: none;\n",
       "      border-radius: 50%;\n",
       "      cursor: pointer;\n",
       "      display: none;\n",
       "      fill: #1967D2;\n",
       "      height: 32px;\n",
       "      padding: 0 0 0 0;\n",
       "      width: 32px;\n",
       "    }\n",
       "\n",
       "    .colab-df-convert:hover {\n",
       "      background-color: #E2EBFA;\n",
       "      box-shadow: 0px 1px 2px rgba(60, 64, 67, 0.3), 0px 1px 3px 1px rgba(60, 64, 67, 0.15);\n",
       "      fill: #174EA6;\n",
       "    }\n",
       "\n",
       "    [theme=dark] .colab-df-convert {\n",
       "      background-color: #3B4455;\n",
       "      fill: #D2E3FC;\n",
       "    }\n",
       "\n",
       "    [theme=dark] .colab-df-convert:hover {\n",
       "      background-color: #434B5C;\n",
       "      box-shadow: 0px 1px 3px 1px rgba(0, 0, 0, 0.15);\n",
       "      filter: drop-shadow(0px 1px 2px rgba(0, 0, 0, 0.3));\n",
       "      fill: #FFFFFF;\n",
       "    }\n",
       "  </style>\n",
       "\n",
       "      <script>\n",
       "        const buttonEl =\n",
       "          document.querySelector('#df-c992fae6-f001-4c94-841f-f84cc772ec23 button.colab-df-convert');\n",
       "        buttonEl.style.display =\n",
       "          google.colab.kernel.accessAllowed ? 'block' : 'none';\n",
       "\n",
       "        async function convertToInteractive(key) {\n",
       "          const element = document.querySelector('#df-c992fae6-f001-4c94-841f-f84cc772ec23');\n",
       "          const dataTable =\n",
       "            await google.colab.kernel.invokeFunction('convertToInteractive',\n",
       "                                                     [key], {});\n",
       "          if (!dataTable) return;\n",
       "\n",
       "          const docLinkHtml = 'Like what you see? Visit the ' +\n",
       "            '<a target=\"_blank\" href=https://colab.research.google.com/notebooks/data_table.ipynb>data table notebook</a>'\n",
       "            + ' to learn more about interactive tables.';\n",
       "          element.innerHTML = '';\n",
       "          dataTable['output_type'] = 'display_data';\n",
       "          await google.colab.output.renderOutput(dataTable, element);\n",
       "          const docLink = document.createElement('div');\n",
       "          docLink.innerHTML = docLinkHtml;\n",
       "          element.appendChild(docLink);\n",
       "        }\n",
       "      </script>\n",
       "    </div>\n",
       "  </div>\n",
       "  "
      ],
      "text/plain": [
       "           id              title  \\\n",
       "677    105045        The Promise   \n",
       "678    105045        The Promise   \n",
       "679    105045        The Promise   \n",
       "680    105045        The Promise   \n",
       "681    105045        The Promise   \n",
       "...       ...                ...   \n",
       "46583   52103         Pickpocket   \n",
       "46615  404604                Mom   \n",
       "46616  420346  The Morning After   \n",
       "46622   30840         Robin Hood   \n",
       "46625   67758           Betrayal   \n",
       "\n",
       "                                                  genres  \\\n",
       "677    [{'id': 18, 'name': 'Drama'}, {'id': 10749, 'n...   \n",
       "678    [{'id': 18, 'name': 'Drama'}, {'id': 10749, 'n...   \n",
       "679    [{'id': 18, 'name': 'Drama'}, {'id': 10749, 'n...   \n",
       "680    [{'id': 18, 'name': 'Drama'}, {'id': 10749, 'n...   \n",
       "681    [{'id': 18, 'name': 'Drama'}, {'id': 10749, 'n...   \n",
       "...                                                  ...   \n",
       "46583  [{'id': 18, 'name': 'Drama'}, {'id': 10769, 'n...   \n",
       "46615  [{'id': 80, 'name': 'Crime'}, {'id': 18, 'name...   \n",
       "46616  [{'id': 35, 'name': 'Comedy'}, {'id': 18, 'nam...   \n",
       "46622  [{'id': 18, 'name': 'Drama'}, {'id': 28, 'name...   \n",
       "46625  [{'id': 28, 'name': 'Action'}, {'id': 18, 'nam...   \n",
       "\n",
       "                                                keywords  \\\n",
       "677    [{'id': 7059, 'name': 'anti-communism'}, {'id'...   \n",
       "678    [{'id': 7059, 'name': 'anti-communism'}, {'id'...   \n",
       "679    [{'id': 7059, 'name': 'anti-communism'}, {'id'...   \n",
       "680    [{'id': 7059, 'name': 'anti-communism'}, {'id'...   \n",
       "681    [{'id': 7059, 'name': 'anti-communism'}, {'id'...   \n",
       "...                                                  ...   \n",
       "46583        [{'id': 10183, 'name': 'independent film'}]   \n",
       "46615  [{'id': 155794, 'name': 'physical abuse'}, {'i...   \n",
       "46616                                                 []   \n",
       "46622                                                 []   \n",
       "46625                                                 []   \n",
       "\n",
       "                                                    cast  \n",
       "677    [{'cast_id': 5, 'character': 'Sophie II', 'cre...  \n",
       "678    [{'cast_id': 5, 'character': 'Sophie II', 'cre...  \n",
       "679    [{'cast_id': 5, 'character': 'Sophie II', 'cre...  \n",
       "680    [{'cast_id': 5, 'character': 'Sophie II', 'cre...  \n",
       "681    [{'cast_id': 5, 'character': 'Sophie II', 'cre...  \n",
       "...                                                  ...  \n",
       "46583  [{'cast_id': 3, 'character': 'Xiao Wu', 'credi...  \n",
       "46615  [{'cast_id': 1, 'character': 'Devki Sabarwal',...  \n",
       "46616  [{'cast_id': 0, 'character': 'Lauren', 'credit...  \n",
       "46622  [{'cast_id': 1, 'character': 'Sir Robert Hode'...  \n",
       "46625  [{'cast_id': 6, 'character': 'Emily Shaw', 'cr...  \n",
       "\n",
       "[4351 rows x 5 columns]"
      ]
     },
     "execution_count": 13,
     "metadata": {},
     "output_type": "execute_result"
    }
   ],
   "source": [
    "tot_df[tot_df['title'].duplicated()]"
   ]
  },
  {
   "cell_type": "code",
   "execution_count": 14,
   "id": "14fde84b",
   "metadata": {
    "colab": {
     "base_uri": "https://localhost:8080/"
    },
    "id": "3767bd75",
    "outputId": "9819e9fe-3764-4f1e-8714-e01051cf514a"
   },
   "outputs": [
    {
     "name": "stdout",
     "output_type": "stream",
     "text": [
      "(42277, 5)\n",
      "We removed 4351 Movies\n"
     ]
    }
   ],
   "source": [
    "tot_df = tot_df.drop_duplicates(subset=['title'])\n",
    "print(tot_df.shape)\n",
    "print('We removed', 46628-tot_df.shape[0], 'Movies')"
   ]
  },
  {
   "cell_type": "markdown",
   "id": "6dc4aba7",
   "metadata": {
    "id": "2b5aab10"
   },
   "source": [
    "At this point we have cleaned the movies, but the features themselves still need to be processed and cleaned.\n",
    "\n",
    "To do this, we need to extract each genre, keyword and cast member for the dictionaries that are present in the data. Additionally, the text data itself needs to be processed. Because this is a basic dataset consisting of separate words and not an intriquete text document, we do not need to employ multiple processing methods.\n",
    "\n",
    "- The main method is **Removing punctuation and capitals**:\n",
    "\n",
    "    It is easier for our model to not have to worry about punctuation. With added punctuation similar words will have to be encoded as having a different meaning -> 'hello' will not be the same as 'hello!'. In order to keep the data easier for our model, we remove punctuation. \n",
    "    \n",
    "The function below does exactly this for all columns:"
   ]
  },
  {
   "cell_type": "code",
   "execution_count": 15,
   "id": "c02a437f",
   "metadata": {
    "id": "7a332df2"
   },
   "outputs": [],
   "source": [
    "def cleanText(txt):\n",
    "    \"\"\"\n",
    "    Cleans text data saved as dictionary by extracting the values corresponding to the key 'name'.\n",
    "    Removes spaces and capitalization.\n",
    "    \n",
    "    Args:\n",
    "        txt: Dictionary saved as string\n",
    "    Returns:\n",
    "        All values with key 'name' OR empty string if input is NaN\n",
    "    \"\"\"\n",
    "    if pd.isna(txt):\n",
    "        return ''\n",
    "    txt_dict = eval(txt)\n",
    "    names = []\n",
    "\n",
    "    for pair in txt_dict:\n",
    "        for key in pair:\n",
    "            if key == 'name':\n",
    "                names.append(str.lower(pair[key].replace(' ', '')))\n",
    "    txt = \" \".join(names)\n",
    "    \n",
    "    return txt"
   ]
  },
  {
   "cell_type": "code",
   "execution_count": 16,
   "id": "359e7be2",
   "metadata": {
    "id": "9212e1e0"
   },
   "outputs": [],
   "source": [
    "# Clean features per column\n",
    "features = ['genres', 'keywords', 'cast']\n",
    "\n",
    "for feature in features:\n",
    "    tot_df[feature] = tot_df[feature].apply(cleanText)"
   ]
  },
  {
   "cell_type": "markdown",
   "id": "c308f79f",
   "metadata": {
    "id": "8fbe88f4"
   },
   "source": [
    "The cleaned dataset now looks like the following:"
   ]
  },
  {
   "cell_type": "code",
   "execution_count": 17,
   "id": "68a25000",
   "metadata": {
    "colab": {
     "base_uri": "https://localhost:8080/",
     "height": 355
    },
    "id": "f106bc3b",
    "outputId": "0d366555-fa69-43b5-c7a0-038a8a664112"
   },
   "outputs": [
    {
     "data": {
      "text/html": [
       "\n",
       "  <div id=\"df-c7999146-1476-4a09-9ced-9a7e7bb2a121\">\n",
       "    <div class=\"colab-df-container\">\n",
       "      <div>\n",
       "<style scoped>\n",
       "    .dataframe tbody tr th:only-of-type {\n",
       "        vertical-align: middle;\n",
       "    }\n",
       "\n",
       "    .dataframe tbody tr th {\n",
       "        vertical-align: top;\n",
       "    }\n",
       "\n",
       "    .dataframe thead th {\n",
       "        text-align: right;\n",
       "    }\n",
       "</style>\n",
       "<table border=\"1\" class=\"dataframe\">\n",
       "  <thead>\n",
       "    <tr style=\"text-align: right;\">\n",
       "      <th></th>\n",
       "      <th>id</th>\n",
       "      <th>title</th>\n",
       "      <th>genres</th>\n",
       "      <th>keywords</th>\n",
       "      <th>cast</th>\n",
       "    </tr>\n",
       "  </thead>\n",
       "  <tbody>\n",
       "    <tr>\n",
       "      <th>0</th>\n",
       "      <td>862</td>\n",
       "      <td>Toy Story</td>\n",
       "      <td>animation comedy family</td>\n",
       "      <td>jealousy toy boy friendship friends rivalry bo...</td>\n",
       "      <td>tomhanks timallen donrickles jimvarney wallace...</td>\n",
       "    </tr>\n",
       "    <tr>\n",
       "      <th>1</th>\n",
       "      <td>8844</td>\n",
       "      <td>Jumanji</td>\n",
       "      <td>adventure fantasy family</td>\n",
       "      <td>boardgame disappearance basedonchildren'sbook ...</td>\n",
       "      <td>robinwilliams jonathanhyde kirstendunst bradle...</td>\n",
       "    </tr>\n",
       "    <tr>\n",
       "      <th>2</th>\n",
       "      <td>15602</td>\n",
       "      <td>Grumpier Old Men</td>\n",
       "      <td>romance comedy</td>\n",
       "      <td>fishing bestfriend duringcreditsstinger oldmen</td>\n",
       "      <td>waltermatthau jacklemmon ann-margret sophialor...</td>\n",
       "    </tr>\n",
       "    <tr>\n",
       "      <th>3</th>\n",
       "      <td>31357</td>\n",
       "      <td>Waiting to Exhale</td>\n",
       "      <td>comedy drama romance</td>\n",
       "      <td>basedonnovel interracialrelationship singlemot...</td>\n",
       "      <td>whitneyhouston angelabassett lorettadevine lel...</td>\n",
       "    </tr>\n",
       "    <tr>\n",
       "      <th>4</th>\n",
       "      <td>11862</td>\n",
       "      <td>Father of the Bride Part II</td>\n",
       "      <td>comedy</td>\n",
       "      <td>baby midlifecrisis confidence aging daughter m...</td>\n",
       "      <td>stevemartin dianekeaton martinshort kimberlywi...</td>\n",
       "    </tr>\n",
       "  </tbody>\n",
       "</table>\n",
       "</div>\n",
       "      <button class=\"colab-df-convert\" onclick=\"convertToInteractive('df-c7999146-1476-4a09-9ced-9a7e7bb2a121')\"\n",
       "              title=\"Convert this dataframe to an interactive table.\"\n",
       "              style=\"display:none;\">\n",
       "        \n",
       "  <svg xmlns=\"http://www.w3.org/2000/svg\" height=\"24px\"viewBox=\"0 0 24 24\"\n",
       "       width=\"24px\">\n",
       "    <path d=\"M0 0h24v24H0V0z\" fill=\"none\"/>\n",
       "    <path d=\"M18.56 5.44l.94 2.06.94-2.06 2.06-.94-2.06-.94-.94-2.06-.94 2.06-2.06.94zm-11 1L8.5 8.5l.94-2.06 2.06-.94-2.06-.94L8.5 2.5l-.94 2.06-2.06.94zm10 10l.94 2.06.94-2.06 2.06-.94-2.06-.94-.94-2.06-.94 2.06-2.06.94z\"/><path d=\"M17.41 7.96l-1.37-1.37c-.4-.4-.92-.59-1.43-.59-.52 0-1.04.2-1.43.59L10.3 9.45l-7.72 7.72c-.78.78-.78 2.05 0 2.83L4 21.41c.39.39.9.59 1.41.59.51 0 1.02-.2 1.41-.59l7.78-7.78 2.81-2.81c.8-.78.8-2.07 0-2.86zM5.41 20L4 18.59l7.72-7.72 1.47 1.35L5.41 20z\"/>\n",
       "  </svg>\n",
       "      </button>\n",
       "      \n",
       "  <style>\n",
       "    .colab-df-container {\n",
       "      display:flex;\n",
       "      flex-wrap:wrap;\n",
       "      gap: 12px;\n",
       "    }\n",
       "\n",
       "    .colab-df-convert {\n",
       "      background-color: #E8F0FE;\n",
       "      border: none;\n",
       "      border-radius: 50%;\n",
       "      cursor: pointer;\n",
       "      display: none;\n",
       "      fill: #1967D2;\n",
       "      height: 32px;\n",
       "      padding: 0 0 0 0;\n",
       "      width: 32px;\n",
       "    }\n",
       "\n",
       "    .colab-df-convert:hover {\n",
       "      background-color: #E2EBFA;\n",
       "      box-shadow: 0px 1px 2px rgba(60, 64, 67, 0.3), 0px 1px 3px 1px rgba(60, 64, 67, 0.15);\n",
       "      fill: #174EA6;\n",
       "    }\n",
       "\n",
       "    [theme=dark] .colab-df-convert {\n",
       "      background-color: #3B4455;\n",
       "      fill: #D2E3FC;\n",
       "    }\n",
       "\n",
       "    [theme=dark] .colab-df-convert:hover {\n",
       "      background-color: #434B5C;\n",
       "      box-shadow: 0px 1px 3px 1px rgba(0, 0, 0, 0.15);\n",
       "      filter: drop-shadow(0px 1px 2px rgba(0, 0, 0, 0.3));\n",
       "      fill: #FFFFFF;\n",
       "    }\n",
       "  </style>\n",
       "\n",
       "      <script>\n",
       "        const buttonEl =\n",
       "          document.querySelector('#df-c7999146-1476-4a09-9ced-9a7e7bb2a121 button.colab-df-convert');\n",
       "        buttonEl.style.display =\n",
       "          google.colab.kernel.accessAllowed ? 'block' : 'none';\n",
       "\n",
       "        async function convertToInteractive(key) {\n",
       "          const element = document.querySelector('#df-c7999146-1476-4a09-9ced-9a7e7bb2a121');\n",
       "          const dataTable =\n",
       "            await google.colab.kernel.invokeFunction('convertToInteractive',\n",
       "                                                     [key], {});\n",
       "          if (!dataTable) return;\n",
       "\n",
       "          const docLinkHtml = 'Like what you see? Visit the ' +\n",
       "            '<a target=\"_blank\" href=https://colab.research.google.com/notebooks/data_table.ipynb>data table notebook</a>'\n",
       "            + ' to learn more about interactive tables.';\n",
       "          element.innerHTML = '';\n",
       "          dataTable['output_type'] = 'display_data';\n",
       "          await google.colab.output.renderOutput(dataTable, element);\n",
       "          const docLink = document.createElement('div');\n",
       "          docLink.innerHTML = docLinkHtml;\n",
       "          element.appendChild(docLink);\n",
       "        }\n",
       "      </script>\n",
       "    </div>\n",
       "  </div>\n",
       "  "
      ],
      "text/plain": [
       "      id                        title                    genres  \\\n",
       "0    862                    Toy Story   animation comedy family   \n",
       "1   8844                      Jumanji  adventure fantasy family   \n",
       "2  15602             Grumpier Old Men            romance comedy   \n",
       "3  31357            Waiting to Exhale      comedy drama romance   \n",
       "4  11862  Father of the Bride Part II                    comedy   \n",
       "\n",
       "                                            keywords  \\\n",
       "0  jealousy toy boy friendship friends rivalry bo...   \n",
       "1  boardgame disappearance basedonchildren'sbook ...   \n",
       "2     fishing bestfriend duringcreditsstinger oldmen   \n",
       "3  basedonnovel interracialrelationship singlemot...   \n",
       "4  baby midlifecrisis confidence aging daughter m...   \n",
       "\n",
       "                                                cast  \n",
       "0  tomhanks timallen donrickles jimvarney wallace...  \n",
       "1  robinwilliams jonathanhyde kirstendunst bradle...  \n",
       "2  waltermatthau jacklemmon ann-margret sophialor...  \n",
       "3  whitneyhouston angelabassett lorettadevine lel...  \n",
       "4  stevemartin dianekeaton martinshort kimberlywi...  "
      ]
     },
     "metadata": {},
     "output_type": "display_data"
    },
    {
     "name": "stdout",
     "output_type": "stream",
     "text": [
      "(42277, 5)\n"
     ]
    }
   ],
   "source": [
    "display(tot_df.head())\n",
    "print(tot_df.shape)"
   ]
  },
  {
   "cell_type": "markdown",
   "id": "a892b564",
   "metadata": {
    "id": "f90b89bc"
   },
   "source": [
    "In the next step, we want to remove entries with an empty title. We make a choice to keep entries with empty genres, keywords, or cast."
   ]
  },
  {
   "cell_type": "code",
   "execution_count": 18,
   "id": "aeacf658",
   "metadata": {
    "colab": {
     "base_uri": "https://localhost:8080/"
    },
    "id": "75bda7a5",
    "outputId": "d652b58c-44c8-426f-d7f9-763a2934f3be"
   },
   "outputs": [
    {
     "name": "stdout",
     "output_type": "stream",
     "text": [
      "(42276, 5)\n"
     ]
    }
   ],
   "source": [
    "# Remove rows with emnpty title\n",
    "nan_value = float(\"NaN\")\n",
    "tot_df.replace(\"\", nan_value, inplace=True) # Replace all empty values with NaN values in order to drop\n",
    "tot_df.dropna(subset = ['title'], inplace=True)\n",
    "tot_df.replace(nan_value, \"\", inplace=True) # Replace all remaining NaN values with empty values as we were only concerned with empty titles, not empty keywords\n",
    "print(tot_df.shape)"
   ]
  },
  {
   "cell_type": "markdown",
   "id": "55752e41",
   "metadata": {
    "id": "9ae2aa57"
   },
   "source": [
    "At this moment we will not be removing any data anymore, therefore it is a good time to redefine the ID's of all our movies."
   ]
  },
  {
   "cell_type": "code",
   "execution_count": 19,
   "id": "0a288ceb",
   "metadata": {
    "id": "9505a923"
   },
   "outputs": [],
   "source": [
    "tot_df['id'] = range(len(tot_df))"
   ]
  },
  {
   "cell_type": "markdown",
   "id": "2af032e0",
   "metadata": {
    "id": "2b0f0cf0"
   },
   "source": [
    "Finally, we combine all features into one column that will represent the whole movie."
   ]
  },
  {
   "cell_type": "code",
   "execution_count": 20,
   "id": "afbdb1ec",
   "metadata": {
    "colab": {
     "base_uri": "https://localhost:8080/"
    },
    "id": "4785a3d9",
    "outputId": "6acb8fdb-8d46-449d-cd6d-274ccb95a04a"
   },
   "outputs": [
    {
     "data": {
      "text/plain": [
       "0    animation comedy family jealousy toy boy frien...\n",
       "1    adventure fantasy family boardgame disappearan...\n",
       "2    romance comedy fishing bestfriend duringcredit...\n",
       "3    comedy drama romance basedonnovel interracialr...\n",
       "4    comedy baby midlifecrisis confidence aging dau...\n",
       "Name: combined, dtype: object"
      ]
     },
     "execution_count": 20,
     "metadata": {},
     "output_type": "execute_result"
    }
   ],
   "source": [
    "def createCombined(df):\n",
    "    \"\"\"\n",
    "    Combines multiple columns from a dataframe 'df' seperated by spaces.\n",
    "    \n",
    "    Args:\n",
    "        df: Pandas DataFrame\n",
    "    Returns:\n",
    "        Pandas Series\n",
    "    \"\"\"\n",
    "    return df['genres'] + ' ' + df['keywords'] + ' ' + df['cast']\n",
    "\n",
    "tot_df[\"combined\"] = tot_df.apply(createCombined, axis=1)\n",
    "tot_df[\"combined\"].head()"
   ]
  },
  {
   "cell_type": "code",
   "execution_count": 21,
   "id": "622fc2e6",
   "metadata": {
    "colab": {
     "base_uri": "https://localhost:8080/",
     "height": 337
    },
    "id": "6534606a",
    "outputId": "e12a253d-c77d-435f-9885-a1b1f39f2a59"
   },
   "outputs": [
    {
     "data": {
      "text/html": [
       "\n",
       "  <div id=\"df-4d34b2fa-5dfc-404a-9362-804e902e7ee7\">\n",
       "    <div class=\"colab-df-container\">\n",
       "      <div>\n",
       "<style scoped>\n",
       "    .dataframe tbody tr th:only-of-type {\n",
       "        vertical-align: middle;\n",
       "    }\n",
       "\n",
       "    .dataframe tbody tr th {\n",
       "        vertical-align: top;\n",
       "    }\n",
       "\n",
       "    .dataframe thead th {\n",
       "        text-align: right;\n",
       "    }\n",
       "</style>\n",
       "<table border=\"1\" class=\"dataframe\">\n",
       "  <thead>\n",
       "    <tr style=\"text-align: right;\">\n",
       "      <th></th>\n",
       "      <th>id</th>\n",
       "      <th>title</th>\n",
       "      <th>genres</th>\n",
       "      <th>keywords</th>\n",
       "      <th>cast</th>\n",
       "      <th>combined</th>\n",
       "    </tr>\n",
       "  </thead>\n",
       "  <tbody>\n",
       "    <tr>\n",
       "      <th>0</th>\n",
       "      <td>0</td>\n",
       "      <td>Toy Story</td>\n",
       "      <td>animation comedy family</td>\n",
       "      <td>jealousy toy boy friendship friends rivalry bo...</td>\n",
       "      <td>tomhanks timallen donrickles jimvarney wallace...</td>\n",
       "      <td>animation comedy family jealousy toy boy frien...</td>\n",
       "    </tr>\n",
       "    <tr>\n",
       "      <th>1</th>\n",
       "      <td>1</td>\n",
       "      <td>Jumanji</td>\n",
       "      <td>adventure fantasy family</td>\n",
       "      <td>boardgame disappearance basedonchildren'sbook ...</td>\n",
       "      <td>robinwilliams jonathanhyde kirstendunst bradle...</td>\n",
       "      <td>adventure fantasy family boardgame disappearan...</td>\n",
       "    </tr>\n",
       "    <tr>\n",
       "      <th>2</th>\n",
       "      <td>2</td>\n",
       "      <td>Grumpier Old Men</td>\n",
       "      <td>romance comedy</td>\n",
       "      <td>fishing bestfriend duringcreditsstinger oldmen</td>\n",
       "      <td>waltermatthau jacklemmon ann-margret sophialor...</td>\n",
       "      <td>romance comedy fishing bestfriend duringcredit...</td>\n",
       "    </tr>\n",
       "    <tr>\n",
       "      <th>3</th>\n",
       "      <td>3</td>\n",
       "      <td>Waiting to Exhale</td>\n",
       "      <td>comedy drama romance</td>\n",
       "      <td>basedonnovel interracialrelationship singlemot...</td>\n",
       "      <td>whitneyhouston angelabassett lorettadevine lel...</td>\n",
       "      <td>comedy drama romance basedonnovel interracialr...</td>\n",
       "    </tr>\n",
       "    <tr>\n",
       "      <th>4</th>\n",
       "      <td>4</td>\n",
       "      <td>Father of the Bride Part II</td>\n",
       "      <td>comedy</td>\n",
       "      <td>baby midlifecrisis confidence aging daughter m...</td>\n",
       "      <td>stevemartin dianekeaton martinshort kimberlywi...</td>\n",
       "      <td>comedy baby midlifecrisis confidence aging dau...</td>\n",
       "    </tr>\n",
       "  </tbody>\n",
       "</table>\n",
       "</div>\n",
       "      <button class=\"colab-df-convert\" onclick=\"convertToInteractive('df-4d34b2fa-5dfc-404a-9362-804e902e7ee7')\"\n",
       "              title=\"Convert this dataframe to an interactive table.\"\n",
       "              style=\"display:none;\">\n",
       "        \n",
       "  <svg xmlns=\"http://www.w3.org/2000/svg\" height=\"24px\"viewBox=\"0 0 24 24\"\n",
       "       width=\"24px\">\n",
       "    <path d=\"M0 0h24v24H0V0z\" fill=\"none\"/>\n",
       "    <path d=\"M18.56 5.44l.94 2.06.94-2.06 2.06-.94-2.06-.94-.94-2.06-.94 2.06-2.06.94zm-11 1L8.5 8.5l.94-2.06 2.06-.94-2.06-.94L8.5 2.5l-.94 2.06-2.06.94zm10 10l.94 2.06.94-2.06 2.06-.94-2.06-.94-.94-2.06-.94 2.06-2.06.94z\"/><path d=\"M17.41 7.96l-1.37-1.37c-.4-.4-.92-.59-1.43-.59-.52 0-1.04.2-1.43.59L10.3 9.45l-7.72 7.72c-.78.78-.78 2.05 0 2.83L4 21.41c.39.39.9.59 1.41.59.51 0 1.02-.2 1.41-.59l7.78-7.78 2.81-2.81c.8-.78.8-2.07 0-2.86zM5.41 20L4 18.59l7.72-7.72 1.47 1.35L5.41 20z\"/>\n",
       "  </svg>\n",
       "      </button>\n",
       "      \n",
       "  <style>\n",
       "    .colab-df-container {\n",
       "      display:flex;\n",
       "      flex-wrap:wrap;\n",
       "      gap: 12px;\n",
       "    }\n",
       "\n",
       "    .colab-df-convert {\n",
       "      background-color: #E8F0FE;\n",
       "      border: none;\n",
       "      border-radius: 50%;\n",
       "      cursor: pointer;\n",
       "      display: none;\n",
       "      fill: #1967D2;\n",
       "      height: 32px;\n",
       "      padding: 0 0 0 0;\n",
       "      width: 32px;\n",
       "    }\n",
       "\n",
       "    .colab-df-convert:hover {\n",
       "      background-color: #E2EBFA;\n",
       "      box-shadow: 0px 1px 2px rgba(60, 64, 67, 0.3), 0px 1px 3px 1px rgba(60, 64, 67, 0.15);\n",
       "      fill: #174EA6;\n",
       "    }\n",
       "\n",
       "    [theme=dark] .colab-df-convert {\n",
       "      background-color: #3B4455;\n",
       "      fill: #D2E3FC;\n",
       "    }\n",
       "\n",
       "    [theme=dark] .colab-df-convert:hover {\n",
       "      background-color: #434B5C;\n",
       "      box-shadow: 0px 1px 3px 1px rgba(0, 0, 0, 0.15);\n",
       "      filter: drop-shadow(0px 1px 2px rgba(0, 0, 0, 0.3));\n",
       "      fill: #FFFFFF;\n",
       "    }\n",
       "  </style>\n",
       "\n",
       "      <script>\n",
       "        const buttonEl =\n",
       "          document.querySelector('#df-4d34b2fa-5dfc-404a-9362-804e902e7ee7 button.colab-df-convert');\n",
       "        buttonEl.style.display =\n",
       "          google.colab.kernel.accessAllowed ? 'block' : 'none';\n",
       "\n",
       "        async function convertToInteractive(key) {\n",
       "          const element = document.querySelector('#df-4d34b2fa-5dfc-404a-9362-804e902e7ee7');\n",
       "          const dataTable =\n",
       "            await google.colab.kernel.invokeFunction('convertToInteractive',\n",
       "                                                     [key], {});\n",
       "          if (!dataTable) return;\n",
       "\n",
       "          const docLinkHtml = 'Like what you see? Visit the ' +\n",
       "            '<a target=\"_blank\" href=https://colab.research.google.com/notebooks/data_table.ipynb>data table notebook</a>'\n",
       "            + ' to learn more about interactive tables.';\n",
       "          element.innerHTML = '';\n",
       "          dataTable['output_type'] = 'display_data';\n",
       "          await google.colab.output.renderOutput(dataTable, element);\n",
       "          const docLink = document.createElement('div');\n",
       "          docLink.innerHTML = docLinkHtml;\n",
       "          element.appendChild(docLink);\n",
       "        }\n",
       "      </script>\n",
       "    </div>\n",
       "  </div>\n",
       "  "
      ],
      "text/plain": [
       "   id                        title                    genres  \\\n",
       "0   0                    Toy Story   animation comedy family   \n",
       "1   1                      Jumanji  adventure fantasy family   \n",
       "2   2             Grumpier Old Men            romance comedy   \n",
       "3   3            Waiting to Exhale      comedy drama romance   \n",
       "4   4  Father of the Bride Part II                    comedy   \n",
       "\n",
       "                                            keywords  \\\n",
       "0  jealousy toy boy friendship friends rivalry bo...   \n",
       "1  boardgame disappearance basedonchildren'sbook ...   \n",
       "2     fishing bestfriend duringcreditsstinger oldmen   \n",
       "3  basedonnovel interracialrelationship singlemot...   \n",
       "4  baby midlifecrisis confidence aging daughter m...   \n",
       "\n",
       "                                                cast  \\\n",
       "0  tomhanks timallen donrickles jimvarney wallace...   \n",
       "1  robinwilliams jonathanhyde kirstendunst bradle...   \n",
       "2  waltermatthau jacklemmon ann-margret sophialor...   \n",
       "3  whitneyhouston angelabassett lorettadevine lel...   \n",
       "4  stevemartin dianekeaton martinshort kimberlywi...   \n",
       "\n",
       "                                            combined  \n",
       "0  animation comedy family jealousy toy boy frien...  \n",
       "1  adventure fantasy family boardgame disappearan...  \n",
       "2  romance comedy fishing bestfriend duringcredit...  \n",
       "3  comedy drama romance basedonnovel interracialr...  \n",
       "4  comedy baby midlifecrisis confidence aging dau...  "
      ]
     },
     "execution_count": 21,
     "metadata": {},
     "output_type": "execute_result"
    }
   ],
   "source": [
    "tot_df.head()"
   ]
  },
  {
   "cell_type": "markdown",
   "id": "0c7ad657",
   "metadata": {
    "id": "0b170ed4"
   },
   "source": [
    "### Vectorization\n",
    "The initial set of raw data has currently been reduced to a more manageable dataset. From here, another step is necessary. We need a method to transform the data from textual to numerical, and this is where vectorization comes in.\n",
    "\n",
    "Vectorization turns a piece of text into a vector containing numbers. There are many different methods to do this.\n",
    "From here on, we explain four different methods to perform vectorization:"
   ]
  },
  {
   "cell_type": "markdown",
   "id": "10deb861",
   "metadata": {
    "id": "ff113c84"
   },
   "source": [
    "#### Bag-of-Words\n",
    "This method is simple and flexible, and it can be used in a variety of ways to retrieve information from text.\n",
    "\n",
    "A bag-of-words (BoW) represents text by indicating how often words appear in a text. It involves the following steps:\n",
    "\n",
    "- Constructing a vocabulary of commonly used words in the text.\n",
    "- Determining the presence of commonly used words.\n",
    "\n",
    "This method is referred to as a \"bag\" of words because all the model is concerned with is wether or not certain terms appear in the document. It does not take any information about the sequence or structure of words into account. \n",
    "\n",
    "The underlying assumption in this method is that texts containing similar words are also similar.\n",
    "\n",
    "**Pro's:**\n",
    "- Simple\n",
    "\n",
    "**Con's:**\n",
    "- Only bases itself on occurence of words, and does not capture semantics or position in text\n",
    "\n",
    "Below we see an example of a simple BoW representation:\n",
    "![Image](https://drive.google.com/uc?export=view&id=1I1yvl2sugPgCmGD3WdxgBiaJBVAPfxYs)\n",
    "[Image source](https://maelfabien.github.io/machinelearning/NLP_2/#1-bag-of-words)"
   ]
  },
  {
   "cell_type": "code",
   "execution_count": 22,
   "id": "58ee2376",
   "metadata": {
    "id": "380c54ea"
   },
   "outputs": [],
   "source": [
    "bow_vectorizer = CountVectorizer(lowercase=True, stop_words='english')\n",
    "# tokenize and build vocab\n",
    "bow_vectorizer.fit(tot_df[\"combined\"])\n",
    "# Create a Vocabulary\n",
    "# The vocabulary establishes all of the possible words we might use.\n",
    "bow_matrix = bow_vectorizer.transform(tot_df[\"combined\"])"
   ]
  },
  {
   "cell_type": "markdown",
   "id": "036b0c6e",
   "metadata": {
    "id": "90a9617b"
   },
   "source": [
    "#### TF-IDF\n",
    "One problem with using word frequencies is that highly frequent words tend to dominate the document. However, these words might not contain as much \"information\" to the model as less frequent words. One way to improve the quality of the results is to penalize frequent words that are common across all documents.\n",
    "\n",
    "This approach to scoring is called Term Frequency – Inverse Document Frequency, or TF-IDF for short, where:\n",
    "\n",
    "- **Term Frequency**: This is an algorithm that assigns a score to each word in a document based on its frequency within the document (within the headline in our case).\n",
    "\n",
    "-  **Inverse Document Frequency**: This is an algorithm which assigns a score to each term based on how common it is across all documents (all headline in our case). These scores are then used to determine the importance of each word. \n",
    "\n",
    "The scores highlight words that are distinct (i.e. are useful) in a given document.\n",
    "\n",
    "**Pro's:**\n",
    "- Takes into account that frequent words may not give too much information\n",
    "\n",
    "**Con's:**\n",
    "- Does not capture semantics or position in text\n",
    "\n",
    "![Image](https://drive.google.com/uc?export=view&id=1yNtst35MwmO2TwxPlwQWIAugiuSeBiK9)\n",
    "\n",
    "[Image source](https://medium.com/codex/document-indexing-using-tf-idf-189afd04a9fc)"
   ]
  },
  {
   "cell_type": "code",
   "execution_count": 23,
   "id": "15a2af54",
   "metadata": {
    "id": "358066a7"
   },
   "outputs": [],
   "source": [
    "Tfidf_vectorizer = TfidfVectorizer(ngram_range=(1,1), stop_words='english')\n",
    "\n",
    "# Generate matrix of word vectors\n",
    "tfidf_matrix = Tfidf_vectorizer.fit_transform(tot_df[\"combined\"])"
   ]
  },
  {
   "cell_type": "markdown",
   "id": "2229f122",
   "metadata": {
    "id": "be6f48d3"
   },
   "source": [
    "#### Word2Vec\n",
    "\n",
    "Word2Vec uses a trained neural network in order to convert words into vectors. Due to its extensive training on a wide variety of words, it excels at providing numerical representations for words that are related to one another.\n",
    "\n",
    "\n",
    "In the image below we see an illustration of several words and their vectorized representation being plotted. Some of these words are similar, and also are plotted close to one another. This shows the great strength of Word2Vec.\n",
    "\n",
    "**Pro's:**\n",
    "\n",
    "- Uses a trained neural network to calculate word vectors and therefore captures word similarity very well.\n",
    "\n",
    "**Con's:** \n",
    "\n",
    "- Takes longer to compute as the computations are not trivial.\n",
    "\n",
    "![Image](https://drive.google.com/uc?export=view&id=1-QDIV6EKHINneEYZhCexWyknA2aYuQBy)\n",
    "\n",
    "[Image source](https://www.analyticsvidhya.com/blog/2017/06/word-embeddings-count-word2veec/)"
   ]
  },
  {
   "cell_type": "code",
   "execution_count": 24,
   "id": "6e98af35",
   "metadata": {
    "id": "41a255bd"
   },
   "outputs": [],
   "source": [
    "wv = api.load('word2vec-google-news-300')"
   ]
  },
  {
   "cell_type": "code",
   "execution_count": 25,
   "id": "7ed37888",
   "metadata": {
    "colab": {
     "base_uri": "https://localhost:8080/",
     "height": 49,
     "referenced_widgets": [
      "8f87abd5870747fea53c63638ee32ae5",
      "9a85f3cd67ec46cd9b4167f602053a88",
      "24ef6b3446bb4d3bbeca86dd1b31ab97",
      "29869a5855bf4778970213c4ae59faf2",
      "df953de70a284699987ba0e3838e6380",
      "cfa306972e2d4e07910fae4d208b5075",
      "4900c80ff0b7435b95203a50c13ba708",
      "3130ebfb13274518bb01b24443bc0cf8",
      "66e0a325a8324aa8ab52a64fb58c68cf",
      "918edc6da614462c93e17b9d47b75e56",
      "87a4fec5921d453ba8565a3d521b43bd"
     ]
    },
    "id": "a52fa2d7",
    "outputId": "9fbe0b91-1d08-450d-f64b-ef8fdd17ba65"
   },
   "outputs": [
    {
     "data": {
      "application/vnd.jupyter.widget-view+json": {
       "model_id": "8f87abd5870747fea53c63638ee32ae5",
       "version_major": 2,
       "version_minor": 0
      },
      "text/plain": [
       "  0%|          | 0/42276 [00:00<?, ?it/s]"
      ]
     },
     "metadata": {},
     "output_type": "display_data"
    }
   ],
   "source": [
    "def vectorize(list_of_docs, model):\n",
    "    \"\"\"Generate vectors for list of documents using a Word Embedding\n",
    "\n",
    "    Args:\n",
    "        list_of_docs: List of documents\n",
    "        model: Gensim's Word Embedding\n",
    "\n",
    "    Returns:\n",
    "        List of document vectors\n",
    "    \"\"\"\n",
    "    features = []\n",
    "\n",
    "    for tokens in tqdm(list_of_docs):\n",
    "        zero_vector = np.zeros(model.vector_size)\n",
    "        vectors = []\n",
    "        for token in tokens.split(' '):\n",
    "            if token in model:\n",
    "                if token not in stop_words:\n",
    "                    try:\n",
    "                        vectors.append(model[token])\n",
    "                    except KeyError:\n",
    "                        continue\n",
    "        if vectors:\n",
    "            vectors = np.asarray(vectors)\n",
    "            avg_vec = vectors.mean(axis=0)\n",
    "            features.append(avg_vec)\n",
    "        else:\n",
    "            features.append(zero_vector)\n",
    "    return features\n",
    "    \n",
    "w2v_matrix = vectorize(tot_df[\"combined\"], model=wv)"
   ]
  },
  {
   "cell_type": "markdown",
   "id": "016c8fd8",
   "metadata": {
    "id": "58a9cc4a"
   },
   "source": [
    "### Cosine Similarity\n",
    "The cosine similarity calculates how similar two vectors are to one another. It establishes whether two vectors are pointing in the same direction by calculating the cosine of the angle between them. In text analysis, it is frequently used to gauge document similarity. When the data contains similar words (same actors or genres), the vectorization will result in the movies having similar vectors.\n",
    "\n",
    "Calculating the cosine similarity is done for each vector in our dataset. Movies that have a high coefficient of similarity will thus be quite similar.\n",
    "\n",
    "Below, you can see an example of different vectors and their cosine similarity.\n",
    "\n",
    "![Image](https://drive.google.com/uc?export=view&id=159ZJMNO9OP89XP2UgTXURnXM6etPPPGK)\n",
    "\n",
    "[Image Source](https://www.learndatasci.com/glossary/cosine-similarity/)"
   ]
  },
  {
   "cell_type": "code",
   "execution_count": 26,
   "id": "c21f21b5",
   "metadata": {
    "id": "3c3a96f2"
   },
   "outputs": [],
   "source": [
    "cosine_sim_bow = cosine_similarity(bow_matrix, bow_matrix) \n",
    "print(cosine_sim_bow.shape)"
   ]
  },
  {
   "cell_type": "code",
   "execution_count": 27,
   "id": "8992f9ef",
   "metadata": {
    "id": "1b143553"
   },
   "outputs": [],
   "source": [
    "cosine_sim_tfidf = cosine_similarity(tfidf_matrix, tfidf_matrix) "
   ]
  },
  {
   "cell_type": "code",
   "execution_count": 28,
   "id": "1cc0a2b1",
   "metadata": {
    "id": "70db3bab"
   },
   "outputs": [],
   "source": [
    "cosine_sim_w2v = cosine_similarity(w2v_matrix, w2v_matrix) "
   ]
  },
  {
   "cell_type": "markdown",
   "id": "c9afcea2",
   "metadata": {
    "id": "343c3c5a"
   },
   "source": [
    "Additionally, we need a second dataframe from where we can easily find the id from the movie title, as we will have a movie title as input to our movie recommender."
   ]
  },
  {
   "cell_type": "code",
   "execution_count": 29,
   "id": "954f582f",
   "metadata": {
    "id": "fe713a25"
   },
   "outputs": [],
   "source": [
    "movies = tot_df[['id', 'title']]\n",
    "movies = movies.set_index('title')"
   ]
  },
  {
   "cell_type": "markdown",
   "id": "d7a09103",
   "metadata": {
    "id": "e2e5845d"
   },
   "source": [
    "We create a function that gets the recommendations when a specific movie is given as input. In order to do so, we have to find the entry of that specific movie in the cosine similarity matrix. The reason that we redefined the movie ID's during preprocessing is because this helps us here. After deleting duplicates and empty movies, the old ID's would not correspond to the length of our newly created cosine similarity matrix anymore."
   ]
  },
  {
   "cell_type": "code",
   "execution_count": 30,
   "id": "fde4caea",
   "metadata": {
    "id": "4a784de8"
   },
   "outputs": [],
   "source": [
    "def getRecommendations(title, cosine_sim, movies=movies):\n",
    "    \"\"\"\n",
    "    Combines multiple columns from a dataframe 'df' seperated by spaces.\n",
    "    \n",
    "    Args:\n",
    "        title: Name of movie\n",
    "        cosine_sim: Cosine similarity matrix to be used\n",
    "        movies: Pandas DataFrame with movies and corresponding Id's\n",
    "    Returns:\n",
    "        A printed list of the top 10 most similar movies\n",
    "    \"\"\"\n",
    "    if title in movies.index:\n",
    "        idx = movies.loc[title]['id']\n",
    "        if not isinstance(idx, np.int64): # Used before duplicate removal, should be redundant\n",
    "            idx = idx[0]\n",
    "        similarity_scores = list(enumerate(cosine_sim[idx]))\n",
    "        similarity_scores= sorted(similarity_scores, key=lambda x: x[1], reverse=True)\n",
    "        similarity_scores= similarity_scores[1:11]\n",
    "        # (a, b) where a is id of movie, b is similarity_scores\n",
    "        movies_indices = [ind[0] for ind in similarity_scores]\n",
    "        movies = tot_df[\"title\"].iloc[movies_indices]\n",
    "        print(\"Recommendations for \"+title)\n",
    "        for movie in movies:\n",
    "            print(movie)\n",
    "    else: # Movie not in data\n",
    "        print('This movie is not contained in the database, please try another.')"
   ]
  },
  {
   "cell_type": "markdown",
   "id": "92ef0c2e",
   "metadata": {
    "id": "eb49cdf0"
   },
   "source": [
    "We try our predictions on a classic, *Fight Club*"
   ]
  },
  {
   "cell_type": "code",
   "execution_count": 31,
   "id": "3a52df92",
   "metadata": {
    "id": "d088a6a0",
    "outputId": "cb24cd21-42cf-476f-c4e6-c5ac5eb03746"
   },
   "outputs": [
    {
     "name": "stdout",
     "output_type": "stream",
     "text": [
      "\u001b[1mBag of Words:\u001b[0m\n",
      "Recommendations for Fight Club\n",
      "Lotto Land\n",
      "Ill Gotten Gains\n",
      "The Empty Mirror\n",
      "Jails, Hospitals & Hip-Hop\n",
      "Cremaster 2\n",
      "Samoure\n",
      "The Sunset Limited\n",
      "Berta's Motives\n",
      "Film Is a Girl & a Gun\n",
      "Paper Soldier\n",
      "\n",
      "\u001b[1mTF-IDF:\u001b[0m\n",
      "Recommendations for Fight Club\n",
      "Se7en\n",
      "The Game\n",
      "Steel\n",
      "Candles on Bay Street\n",
      "Boulevard\n",
      "Till Human Voices Wake Us\n",
      "Zodiac\n",
      "The Search for One-eye Jimmy\n",
      "American History X\n",
      "Logorama\n",
      "\n",
      "\u001b[1mWord2Vec:\u001b[0m\n",
      "Recommendations for Fight Club\n",
      "The Man Who Sleeps\n",
      "The Trial\n",
      "White Out, Black In\n",
      "The Aerial\n",
      "Eden and After\n",
      "Repulsion\n",
      "The Voices\n",
      "Pleasantville\n",
      "The Truman Show\n",
      "Found\n"
     ]
    }
   ],
   "source": [
    "movie = 'Fight Club'\n",
    "print(color.BOLD + 'Bag of Words:'+ color.END)\n",
    "getRecommendations(movie, cosine_sim_bow, movies)\n",
    "print()\n",
    "print(color.BOLD + 'TF-IDF:' + color.END)\n",
    "getRecommendations(movie, cosine_sim_tfidf, movies)\n",
    "print()\n",
    "print(color.BOLD + 'Word2Vec:' + color.END)\n",
    "getRecommendations(movie, cosine_sim_w2v, movies)"
   ]
  },
  {
   "cell_type": "markdown",
   "id": "f0c71b21",
   "metadata": {
    "id": "8ecf9789"
   },
   "source": [
    "When we compare our results to a movie recomender as used in Netflix, we see that the movie Seven (Se7en) actually is recommened by both Netflix and our TF-IDF model. \n",
    "\n",
    "![Image](https://drive.google.com/uc?export=view&id=1HT9iT-sn1HlnEX70m5-I3WPLgC8xcvlP)"
   ]
  },
  {
   "cell_type": "markdown",
   "id": "88c88487",
   "metadata": {
    "id": "6cfae332"
   },
   "source": [
    "When we recommend movies for *Saving Private Ryan*. The recommendations for the Bag-of-Words and TF-IDF vectorization are very similar. But all three methods output recommendations that have a strong war theme."
   ]
  },
  {
   "cell_type": "code",
   "execution_count": 32,
   "id": "73dcb37b",
   "metadata": {
    "id": "e1482ead",
    "outputId": "00b5a0b6-d9c3-44b5-fc00-2a8df9dba447"
   },
   "outputs": [
    {
     "name": "stdout",
     "output_type": "stream",
     "text": [
      "\u001b[1mBag of Words:\u001b[0m\n",
      "Recommendations for Saving Private Ryan\n",
      "Chosin\n",
      "Underfire: The Untold Story of Pfc. Tony Vaccaro\n",
      "The Kingdom of Solomon\n",
      "The Strange History of Don't Ask, Don't Tell\n",
      "The Man with the Carnation\n",
      "Taking Chance\n",
      "Shooting War\n",
      "Go for Broke!\n",
      "The Surrender of Tournavos\n",
      "MacArthur\n",
      "\n",
      "\u001b[1mTF-IDF:\u001b[0m\n",
      "Recommendations for Saving Private Ryan\n",
      "Highway of Tears\n",
      "Speed & Angels\n",
      "Crisis Hotline: Veterans Press 1\n",
      "Shooting War\n",
      "Sidewalks of New York\n",
      "Chosin\n",
      "Underfire: The Untold Story of Pfc. Tony Vaccaro\n",
      "Radiator\n",
      "When Trumpets Fade\n",
      "A Year Along the Abandoned Road\n",
      "\n",
      "\u001b[1mWord2Vec:\u001b[0m\n",
      "Recommendations for Saving Private Ryan\n",
      "G.I. Jane\n",
      "Behind Enemy Lines\n",
      "Taking Chance\n",
      "The Victors\n",
      "Fear and Desire\n",
      "The Birth of a Nation\n",
      "The Caine Mutiny\n",
      "Das Boot\n",
      "Gettysburg\n",
      "Act of Valor\n"
     ]
    }
   ],
   "source": [
    "movie = 'Saving Private Ryan'\n",
    "print(color.BOLD + 'Bag of Words:'+ color.END)\n",
    "getRecommendations(movie, cosine_sim_bow, movies)\n",
    "print()\n",
    "print(color.BOLD + 'TF-IDF:' + color.END)\n",
    "getRecommendations(movie, cosine_sim_tfidf, movies)\n",
    "print()\n",
    "print(color.BOLD + 'Word2Vec:' + color.END)\n",
    "getRecommendations(movie, cosine_sim_w2v, movies)"
   ]
  },
  {
   "cell_type": "markdown",
   "id": "7cabf1a8",
   "metadata": {
    "id": "CK4vBQMsF5G7"
   },
   "source": [
    "For a movie that is part of a series, we would expect to see other movies from that series recommended. We see this behaviour for the Bag-of-Words and TF-IDF vectorization. As in the case of *Toy Story*, other *Toy Story* movies are recommended.\n",
    "\n",
    "However, the Word2Vec vectorization does not recommend movies from the *Toy Story* franchise at all. We do see other kid's movies like *Monster's Inc* and *The Little Rascals*, showing that the model did pick up on these cues."
   ]
  },
  {
   "cell_type": "code",
   "execution_count": 33,
   "id": "a313b895",
   "metadata": {
    "id": "437bff6e",
    "outputId": "1ae89490-09a5-4e53-9824-c1e763316246"
   },
   "outputs": [
    {
     "name": "stdout",
     "output_type": "stream",
     "text": [
      "\u001b[1mBag of Words:\u001b[0m\n",
      "Recommendations for Toy Story\n",
      "Toy Story 2\n",
      "Toy Story That Time Forgot\n",
      "Toy Story 3\n",
      "Toy Story of Terror!\n",
      "Superstar Goofy\n",
      "Creature Comforts\n",
      "The Bugs Bunny/Road Runner Movie\n",
      "Dexter's Laboratory: Ego Trip\n",
      "Wow! A Talking Fish!\n",
      "Banana\n",
      "\n",
      "\u001b[1mTF-IDF:\u001b[0m\n",
      "Recommendations for Toy Story\n",
      "Toy Story 2\n",
      "Toy Story That Time Forgot\n",
      "Toy Story 3\n",
      "Toy Story of Terror!\n",
      "Ernest Goes to School\n",
      "Dr. Otto and the Riddle of the Gloom Beam\n",
      "Hawaiian Vacation\n",
      "Small Fry\n",
      "Quest for Camelot\n",
      "Superstar Goofy\n",
      "\n",
      "\u001b[1mWord2Vec:\u001b[0m\n",
      "Recommendations for Toy Story\n",
      "Peter-No-Tail\n",
      "Monsters, Inc.\n",
      "The Tangerine Bear: Home in Time for Christmas!\n",
      "Kronk's New Groove\n",
      "The Little Rascals\n",
      "Why Him?\n",
      "VeggieTales: The Ballad of Little Joe\n",
      "Barbie Diaries\n",
      "Ernest & Celestine\n",
      "Meet the Robinsons\n"
     ]
    }
   ],
   "source": [
    "movie = 'Toy Story'\n",
    "print(color.BOLD + 'Bag of Words:'+ color.END)\n",
    "getRecommendations(movie, cosine_sim_bow, movies)\n",
    "print()\n",
    "print(color.BOLD + 'TF-IDF:' + color.END)\n",
    "getRecommendations(movie, cosine_sim_tfidf, movies)\n",
    "print()\n",
    "print(color.BOLD + 'Word2Vec:' + color.END)\n",
    "getRecommendations(movie, cosine_sim_w2v, movies)"
   ]
  },
  {
   "cell_type": "markdown",
   "id": "d87a322b",
   "metadata": {
    "id": "af57bbfe"
   },
   "source": [
    "## Method 2: Analysing Reviews (Collaberative Filtering)"
   ]
  },
  {
   "cell_type": "markdown",
   "id": "ac3c14cb",
   "metadata": {
    "id": "9c028ab4"
   },
   "source": [
    "### Loading review data\n",
    "Our dataset also has data regarding the reviews that viewers have left on the movies. We have chosen to use the small review dataset consisting of 100,000 reviews, as the large dataset requires too much memory. The reviews range from 1 to 5."
   ]
  },
  {
   "cell_type": "code",
   "execution_count": 34,
   "id": "838bd558",
   "metadata": {
    "colab": {
     "base_uri": "https://localhost:8080/",
     "height": 224
    },
    "executionInfo": {
     "elapsed": 554,
     "status": "ok",
     "timestamp": 1656553066809,
     "user": {
      "displayName": "Bryan Lusse",
      "userId": "03846782266646528687"
     },
     "user_tz": -480
    },
    "id": "d092992b",
    "outputId": "aecccd49-08da-4227-92ab-0bba35a4a286"
   },
   "outputs": [
    {
     "data": {
      "text/html": [
       "\n",
       "  <div id=\"df-5ae441ea-eeb6-4d03-b07f-7863f3e46a79\">\n",
       "    <div class=\"colab-df-container\">\n",
       "      <div>\n",
       "<style scoped>\n",
       "    .dataframe tbody tr th:only-of-type {\n",
       "        vertical-align: middle;\n",
       "    }\n",
       "\n",
       "    .dataframe tbody tr th {\n",
       "        vertical-align: top;\n",
       "    }\n",
       "\n",
       "    .dataframe thead th {\n",
       "        text-align: right;\n",
       "    }\n",
       "</style>\n",
       "<table border=\"1\" class=\"dataframe\">\n",
       "  <thead>\n",
       "    <tr style=\"text-align: right;\">\n",
       "      <th></th>\n",
       "      <th>userId</th>\n",
       "      <th>movieId</th>\n",
       "      <th>rating</th>\n",
       "      <th>timestamp</th>\n",
       "    </tr>\n",
       "  </thead>\n",
       "  <tbody>\n",
       "    <tr>\n",
       "      <th>0</th>\n",
       "      <td>1</td>\n",
       "      <td>31</td>\n",
       "      <td>2.5</td>\n",
       "      <td>1260759144</td>\n",
       "    </tr>\n",
       "    <tr>\n",
       "      <th>1</th>\n",
       "      <td>1</td>\n",
       "      <td>1029</td>\n",
       "      <td>3.0</td>\n",
       "      <td>1260759179</td>\n",
       "    </tr>\n",
       "    <tr>\n",
       "      <th>2</th>\n",
       "      <td>1</td>\n",
       "      <td>1061</td>\n",
       "      <td>3.0</td>\n",
       "      <td>1260759182</td>\n",
       "    </tr>\n",
       "    <tr>\n",
       "      <th>3</th>\n",
       "      <td>1</td>\n",
       "      <td>1129</td>\n",
       "      <td>2.0</td>\n",
       "      <td>1260759185</td>\n",
       "    </tr>\n",
       "    <tr>\n",
       "      <th>4</th>\n",
       "      <td>1</td>\n",
       "      <td>1172</td>\n",
       "      <td>4.0</td>\n",
       "      <td>1260759205</td>\n",
       "    </tr>\n",
       "  </tbody>\n",
       "</table>\n",
       "</div>\n",
       "      <button class=\"colab-df-convert\" onclick=\"convertToInteractive('df-5ae441ea-eeb6-4d03-b07f-7863f3e46a79')\"\n",
       "              title=\"Convert this dataframe to an interactive table.\"\n",
       "              style=\"display:none;\">\n",
       "        \n",
       "  <svg xmlns=\"http://www.w3.org/2000/svg\" height=\"24px\"viewBox=\"0 0 24 24\"\n",
       "       width=\"24px\">\n",
       "    <path d=\"M0 0h24v24H0V0z\" fill=\"none\"/>\n",
       "    <path d=\"M18.56 5.44l.94 2.06.94-2.06 2.06-.94-2.06-.94-.94-2.06-.94 2.06-2.06.94zm-11 1L8.5 8.5l.94-2.06 2.06-.94-2.06-.94L8.5 2.5l-.94 2.06-2.06.94zm10 10l.94 2.06.94-2.06 2.06-.94-2.06-.94-.94-2.06-.94 2.06-2.06.94z\"/><path d=\"M17.41 7.96l-1.37-1.37c-.4-.4-.92-.59-1.43-.59-.52 0-1.04.2-1.43.59L10.3 9.45l-7.72 7.72c-.78.78-.78 2.05 0 2.83L4 21.41c.39.39.9.59 1.41.59.51 0 1.02-.2 1.41-.59l7.78-7.78 2.81-2.81c.8-.78.8-2.07 0-2.86zM5.41 20L4 18.59l7.72-7.72 1.47 1.35L5.41 20z\"/>\n",
       "  </svg>\n",
       "      </button>\n",
       "      \n",
       "  <style>\n",
       "    .colab-df-container {\n",
       "      display:flex;\n",
       "      flex-wrap:wrap;\n",
       "      gap: 12px;\n",
       "    }\n",
       "\n",
       "    .colab-df-convert {\n",
       "      background-color: #E8F0FE;\n",
       "      border: none;\n",
       "      border-radius: 50%;\n",
       "      cursor: pointer;\n",
       "      display: none;\n",
       "      fill: #1967D2;\n",
       "      height: 32px;\n",
       "      padding: 0 0 0 0;\n",
       "      width: 32px;\n",
       "    }\n",
       "\n",
       "    .colab-df-convert:hover {\n",
       "      background-color: #E2EBFA;\n",
       "      box-shadow: 0px 1px 2px rgba(60, 64, 67, 0.3), 0px 1px 3px 1px rgba(60, 64, 67, 0.15);\n",
       "      fill: #174EA6;\n",
       "    }\n",
       "\n",
       "    [theme=dark] .colab-df-convert {\n",
       "      background-color: #3B4455;\n",
       "      fill: #D2E3FC;\n",
       "    }\n",
       "\n",
       "    [theme=dark] .colab-df-convert:hover {\n",
       "      background-color: #434B5C;\n",
       "      box-shadow: 0px 1px 3px 1px rgba(0, 0, 0, 0.15);\n",
       "      filter: drop-shadow(0px 1px 2px rgba(0, 0, 0, 0.3));\n",
       "      fill: #FFFFFF;\n",
       "    }\n",
       "  </style>\n",
       "\n",
       "      <script>\n",
       "        const buttonEl =\n",
       "          document.querySelector('#df-5ae441ea-eeb6-4d03-b07f-7863f3e46a79 button.colab-df-convert');\n",
       "        buttonEl.style.display =\n",
       "          google.colab.kernel.accessAllowed ? 'block' : 'none';\n",
       "\n",
       "        async function convertToInteractive(key) {\n",
       "          const element = document.querySelector('#df-5ae441ea-eeb6-4d03-b07f-7863f3e46a79');\n",
       "          const dataTable =\n",
       "            await google.colab.kernel.invokeFunction('convertToInteractive',\n",
       "                                                     [key], {});\n",
       "          if (!dataTable) return;\n",
       "\n",
       "          const docLinkHtml = 'Like what you see? Visit the ' +\n",
       "            '<a target=\"_blank\" href=https://colab.research.google.com/notebooks/data_table.ipynb>data table notebook</a>'\n",
       "            + ' to learn more about interactive tables.';\n",
       "          element.innerHTML = '';\n",
       "          dataTable['output_type'] = 'display_data';\n",
       "          await google.colab.output.renderOutput(dataTable, element);\n",
       "          const docLink = document.createElement('div');\n",
       "          docLink.innerHTML = docLinkHtml;\n",
       "          element.appendChild(docLink);\n",
       "        }\n",
       "      </script>\n",
       "    </div>\n",
       "  </div>\n",
       "  "
      ],
      "text/plain": [
       "   userId  movieId  rating   timestamp\n",
       "0       1       31     2.5  1260759144\n",
       "1       1     1029     3.0  1260759179\n",
       "2       1     1061     3.0  1260759182\n",
       "3       1     1129     2.0  1260759185\n",
       "4       1     1172     4.0  1260759205"
      ]
     },
     "metadata": {},
     "output_type": "display_data"
    },
    {
     "name": "stdout",
     "output_type": "stream",
     "text": [
      "(100004, 4)\n"
     ]
    }
   ],
   "source": [
    "rating_df = pd.read_csv(data_path+'/'+'data/ratings_small.csv')\n",
    "display(rating_df.head())\n",
    "print(rating_df.shape)"
   ]
  },
  {
   "cell_type": "markdown",
   "id": "18aaca38",
   "metadata": {
    "id": "b09522f2"
   },
   "source": [
    "Additionally, we need to use another file, the *links* file. This file contains a mapping between movie ID's from the metadata file and the review file. The dataset itself is constructed from multiple other datasets that used different ID's, therefore a mapping between them is essential. We need to obtain the *metadata* ID's because that is the only source for movie names. \n",
    "\n",
    "The metadata ID is stored in the *tmdbdId* column, whereas the rating ID is stored in the *movieId* column."
   ]
  },
  {
   "cell_type": "code",
   "execution_count": 35,
   "id": "4b83caa7",
   "metadata": {
    "colab": {
     "base_uri": "https://localhost:8080/",
     "height": 224
    },
    "executionInfo": {
     "elapsed": 355,
     "status": "ok",
     "timestamp": 1656553070692,
     "user": {
      "displayName": "Bryan Lusse",
      "userId": "03846782266646528687"
     },
     "user_tz": -480
    },
    "id": "d160dd2e",
    "outputId": "7a2b66b1-f180-4799-99af-b66ee6990711"
   },
   "outputs": [
    {
     "data": {
      "text/html": [
       "\n",
       "  <div id=\"df-03f70a60-fe27-47b2-98d3-a43c40ce277a\">\n",
       "    <div class=\"colab-df-container\">\n",
       "      <div>\n",
       "<style scoped>\n",
       "    .dataframe tbody tr th:only-of-type {\n",
       "        vertical-align: middle;\n",
       "    }\n",
       "\n",
       "    .dataframe tbody tr th {\n",
       "        vertical-align: top;\n",
       "    }\n",
       "\n",
       "    .dataframe thead th {\n",
       "        text-align: right;\n",
       "    }\n",
       "</style>\n",
       "<table border=\"1\" class=\"dataframe\">\n",
       "  <thead>\n",
       "    <tr style=\"text-align: right;\">\n",
       "      <th></th>\n",
       "      <th>movieId</th>\n",
       "      <th>imdbId</th>\n",
       "      <th>tmdbId</th>\n",
       "    </tr>\n",
       "  </thead>\n",
       "  <tbody>\n",
       "    <tr>\n",
       "      <th>0</th>\n",
       "      <td>1</td>\n",
       "      <td>114709</td>\n",
       "      <td>862.0</td>\n",
       "    </tr>\n",
       "    <tr>\n",
       "      <th>1</th>\n",
       "      <td>2</td>\n",
       "      <td>113497</td>\n",
       "      <td>8844.0</td>\n",
       "    </tr>\n",
       "    <tr>\n",
       "      <th>2</th>\n",
       "      <td>3</td>\n",
       "      <td>113228</td>\n",
       "      <td>15602.0</td>\n",
       "    </tr>\n",
       "    <tr>\n",
       "      <th>3</th>\n",
       "      <td>4</td>\n",
       "      <td>114885</td>\n",
       "      <td>31357.0</td>\n",
       "    </tr>\n",
       "    <tr>\n",
       "      <th>4</th>\n",
       "      <td>5</td>\n",
       "      <td>113041</td>\n",
       "      <td>11862.0</td>\n",
       "    </tr>\n",
       "  </tbody>\n",
       "</table>\n",
       "</div>\n",
       "      <button class=\"colab-df-convert\" onclick=\"convertToInteractive('df-03f70a60-fe27-47b2-98d3-a43c40ce277a')\"\n",
       "              title=\"Convert this dataframe to an interactive table.\"\n",
       "              style=\"display:none;\">\n",
       "        \n",
       "  <svg xmlns=\"http://www.w3.org/2000/svg\" height=\"24px\"viewBox=\"0 0 24 24\"\n",
       "       width=\"24px\">\n",
       "    <path d=\"M0 0h24v24H0V0z\" fill=\"none\"/>\n",
       "    <path d=\"M18.56 5.44l.94 2.06.94-2.06 2.06-.94-2.06-.94-.94-2.06-.94 2.06-2.06.94zm-11 1L8.5 8.5l.94-2.06 2.06-.94-2.06-.94L8.5 2.5l-.94 2.06-2.06.94zm10 10l.94 2.06.94-2.06 2.06-.94-2.06-.94-.94-2.06-.94 2.06-2.06.94z\"/><path d=\"M17.41 7.96l-1.37-1.37c-.4-.4-.92-.59-1.43-.59-.52 0-1.04.2-1.43.59L10.3 9.45l-7.72 7.72c-.78.78-.78 2.05 0 2.83L4 21.41c.39.39.9.59 1.41.59.51 0 1.02-.2 1.41-.59l7.78-7.78 2.81-2.81c.8-.78.8-2.07 0-2.86zM5.41 20L4 18.59l7.72-7.72 1.47 1.35L5.41 20z\"/>\n",
       "  </svg>\n",
       "      </button>\n",
       "      \n",
       "  <style>\n",
       "    .colab-df-container {\n",
       "      display:flex;\n",
       "      flex-wrap:wrap;\n",
       "      gap: 12px;\n",
       "    }\n",
       "\n",
       "    .colab-df-convert {\n",
       "      background-color: #E8F0FE;\n",
       "      border: none;\n",
       "      border-radius: 50%;\n",
       "      cursor: pointer;\n",
       "      display: none;\n",
       "      fill: #1967D2;\n",
       "      height: 32px;\n",
       "      padding: 0 0 0 0;\n",
       "      width: 32px;\n",
       "    }\n",
       "\n",
       "    .colab-df-convert:hover {\n",
       "      background-color: #E2EBFA;\n",
       "      box-shadow: 0px 1px 2px rgba(60, 64, 67, 0.3), 0px 1px 3px 1px rgba(60, 64, 67, 0.15);\n",
       "      fill: #174EA6;\n",
       "    }\n",
       "\n",
       "    [theme=dark] .colab-df-convert {\n",
       "      background-color: #3B4455;\n",
       "      fill: #D2E3FC;\n",
       "    }\n",
       "\n",
       "    [theme=dark] .colab-df-convert:hover {\n",
       "      background-color: #434B5C;\n",
       "      box-shadow: 0px 1px 3px 1px rgba(0, 0, 0, 0.15);\n",
       "      filter: drop-shadow(0px 1px 2px rgba(0, 0, 0, 0.3));\n",
       "      fill: #FFFFFF;\n",
       "    }\n",
       "  </style>\n",
       "\n",
       "      <script>\n",
       "        const buttonEl =\n",
       "          document.querySelector('#df-03f70a60-fe27-47b2-98d3-a43c40ce277a button.colab-df-convert');\n",
       "        buttonEl.style.display =\n",
       "          google.colab.kernel.accessAllowed ? 'block' : 'none';\n",
       "\n",
       "        async function convertToInteractive(key) {\n",
       "          const element = document.querySelector('#df-03f70a60-fe27-47b2-98d3-a43c40ce277a');\n",
       "          const dataTable =\n",
       "            await google.colab.kernel.invokeFunction('convertToInteractive',\n",
       "                                                     [key], {});\n",
       "          if (!dataTable) return;\n",
       "\n",
       "          const docLinkHtml = 'Like what you see? Visit the ' +\n",
       "            '<a target=\"_blank\" href=https://colab.research.google.com/notebooks/data_table.ipynb>data table notebook</a>'\n",
       "            + ' to learn more about interactive tables.';\n",
       "          element.innerHTML = '';\n",
       "          dataTable['output_type'] = 'display_data';\n",
       "          await google.colab.output.renderOutput(dataTable, element);\n",
       "          const docLink = document.createElement('div');\n",
       "          docLink.innerHTML = docLinkHtml;\n",
       "          element.appendChild(docLink);\n",
       "        }\n",
       "      </script>\n",
       "    </div>\n",
       "  </div>\n",
       "  "
      ],
      "text/plain": [
       "   movieId  imdbId   tmdbId\n",
       "0        1  114709    862.0\n",
       "1        2  113497   8844.0\n",
       "2        3  113228  15602.0\n",
       "3        4  114885  31357.0\n",
       "4        5  113041  11862.0"
      ]
     },
     "metadata": {},
     "output_type": "display_data"
    },
    {
     "name": "stdout",
     "output_type": "stream",
     "text": [
      "(9125, 3)\n"
     ]
    }
   ],
   "source": [
    "links_df = pd.read_csv(data_path+'/'+'data/links_small.csv')\n",
    "display(links_df.head())\n",
    "print(links_df.shape)"
   ]
  },
  {
   "cell_type": "code",
   "execution_count": 36,
   "id": "6d6888b1",
   "metadata": {
    "executionInfo": {
     "elapsed": 340,
     "status": "ok",
     "timestamp": 1656553078210,
     "user": {
      "displayName": "Bryan Lusse",
      "userId": "03846782266646528687"
     },
     "user_tz": -480
    },
    "id": "4c094234"
   },
   "outputs": [],
   "source": [
    "movie_dict = links_df.set_index('movieId').to_dict() # Make dictionary\n",
    "rating_df['movieId'] = rating_df['movieId'].apply(lambda x: movie_dict['tmdbId'][x]) # Change movieId to tmdbdId"
   ]
  },
  {
   "cell_type": "markdown",
   "id": "b5ce2bb7",
   "metadata": {
    "id": "d3394f06"
   },
   "source": [
    "### EDA\n",
    "When analysing the data, we see that a small amount of movies have a very high amount of reviews, whereas the majority has a small amount of reviews."
   ]
  },
  {
   "cell_type": "code",
   "execution_count": 37,
   "id": "e6d79908",
   "metadata": {
    "colab": {
     "base_uri": "https://localhost:8080/",
     "height": 317
    },
    "executionInfo": {
     "elapsed": 1120,
     "status": "ok",
     "timestamp": 1656553081493,
     "user": {
      "displayName": "Bryan Lusse",
      "userId": "03846782266646528687"
     },
     "user_tz": -480
    },
    "id": "8043b835",
    "outputId": "90c94a5a-4b9b-44d0-e79a-d9e9bc42d6f8"
   },
   "outputs": [
    {
     "data": {
      "text/plain": [
       "array([[<matplotlib.axes._subplots.AxesSubplot object at 0x7fe151c62d10>]],\n",
       "      dtype=object)"
      ]
     },
     "execution_count": 37,
     "metadata": {},
     "output_type": "execute_result"
    },
    {
     "data": {
      "image/png": "[encoded data removed]",
      "text/plain": [
       "<Figure size 432x288 with 1 Axes>"
      ]
     },
     "metadata": {
      "needs_background": "light"
     },
     "output_type": "display_data"
    }
   ],
   "source": [
    "rating_df.hist(['movieId'], bins=200)"
   ]
  },
  {
   "cell_type": "markdown",
   "id": "0b02a839",
   "metadata": {
    "id": "f358ef49"
   },
   "source": [
    "We see that many movies have a low amount of reviews. For the benefit of our model, lets find and remove movies with less than 10 reviews:"
   ]
  },
  {
   "cell_type": "code",
   "execution_count": 38,
   "id": "981eabc3",
   "metadata": {
    "colab": {
     "base_uri": "https://localhost:8080/"
    },
    "executionInfo": {
     "elapsed": 353,
     "status": "ok",
     "timestamp": 1656553084061,
     "user": {
      "displayName": "Bryan Lusse",
      "userId": "03846782266646528687"
     },
     "user_tz": -480
    },
    "id": "fd11043e",
    "outputId": "55af8e20-59ef-45d1-dfb7-adcc36c92162"
   },
   "outputs": [
    {
     "name": "stdout",
     "output_type": "stream",
     "text": [
      "(81941, 4)\n"
     ]
    }
   ],
   "source": [
    "grouped_rating_df = rating_df[['movieId', 'userId', 'rating']].groupby('movieId').agg({'userId':'count', 'rating':'mean'}).sort_values('rating', ascending=False)\n",
    "movie_list = grouped_rating_df[grouped_rating_df['userId'] < 10].index.tolist()\n",
    "\n",
    "rating_df = rating_df[~rating_df['movieId'].isin(movie_list)]\n",
    "print(rating_df.shape)"
   ]
  },
  {
   "cell_type": "markdown",
   "id": "51a63a76",
   "metadata": {
    "id": "b6ac34ce"
   },
   "source": [
    "At this moment we are left with only 82,000 reviews.\n",
    "To make sure that we can acces the name of every movie, we only select movies that are in the *metadata* file."
   ]
  },
  {
   "cell_type": "code",
   "execution_count": 39,
   "id": "70eac237",
   "metadata": {
    "colab": {
     "base_uri": "https://localhost:8080/"
    },
    "executionInfo": {
     "elapsed": 4,
     "status": "ok",
     "timestamp": 1656553085935,
     "user": {
      "displayName": "Bryan Lusse",
      "userId": "03846782266646528687"
     },
     "user_tz": -480
    },
    "id": "c960c053",
    "outputId": "39e07a93-0dfd-4855-bbfb-a35998fb6253"
   },
   "outputs": [
    {
     "name": "stdout",
     "output_type": "stream",
     "text": [
      "(81809, 4)\n"
     ]
    }
   ],
   "source": [
    "movies_in_df = metadata_df[metadata_df.id.isin(grouped_rating_df.index.tolist())]['id'].values\n",
    "\n",
    "rating_df = rating_df[rating_df['movieId'].isin(movies_in_df)]\n",
    "print(rating_df.shape)"
   ]
  },
  {
   "cell_type": "markdown",
   "id": "ece74b28",
   "metadata": {
    "id": "13d51e25"
   },
   "source": [
    "If we look at the amount of unique occurences, we see that the leftover 82,000 reviews have been made by only 671 reviewers. Furthermore, we have reviews for 2200 movies."
   ]
  },
  {
   "cell_type": "code",
   "execution_count": 40,
   "id": "fe762111",
   "metadata": {
    "colab": {
     "base_uri": "https://localhost:8080/"
    },
    "executionInfo": {
     "elapsed": 4,
     "status": "ok",
     "timestamp": 1656553088055,
     "user": {
      "displayName": "Bryan Lusse",
      "userId": "03846782266646528687"
     },
     "user_tz": -480
    },
    "id": "cd28e417",
    "outputId": "cac1e27c-2e0e-4a54-c389-bc887e83e87b"
   },
   "outputs": [
    {
     "name": "stdout",
     "output_type": "stream",
     "text": [
      "userId         671\n",
      "movieId       2241\n",
      "rating          10\n",
      "timestamp    64141\n",
      "dtype: int64\n"
     ]
    }
   ],
   "source": [
    "print(rating_df.nunique())"
   ]
  },
  {
   "cell_type": "markdown",
   "id": "8496f254",
   "metadata": {
    "id": "f27bea63"
   },
   "source": [
    "From the reviews we can find the 10 most reviewed movies present in our metadata"
   ]
  },
  {
   "cell_type": "code",
   "execution_count": 41,
   "id": "1f16d253",
   "metadata": {
    "colab": {
     "base_uri": "https://localhost:8080/"
    },
    "executionInfo": {
     "elapsed": 3,
     "status": "ok",
     "timestamp": 1656553089946,
     "user": {
      "displayName": "Bryan Lusse",
      "userId": "03846782266646528687"
     },
     "user_tz": -480
    },
    "id": "ff7c8b93",
    "outputId": "222194f6-7ff9-459d-ce89-9cd0b7eb5898",
    "scrolled": false
   },
   "outputs": [
    {
     "name": "stdout",
     "output_type": "stream",
     "text": [
      "Forrest Gump                   Reviews: 341\n",
      "Pulp Fiction                   Reviews: 324\n",
      "The Shawshank Redemption       Reviews: 311\n",
      "The Silence of the Lambs       Reviews: 304\n",
      "Star Wars                      Reviews: 291\n",
      "Jurassic Park                  Reviews: 274\n",
      "The Matrix                     Reviews: 259\n",
      "Toy Story                      Reviews: 247\n",
      "Schindler's List               Reviews: 244\n",
      "Terminator 2: Judgment Day     Reviews: 237\n"
     ]
    }
   ],
   "source": [
    "nr_of_ratings = rating_df['movieId'].value_counts()\n",
    "\n",
    "keys = nr_of_ratings.index.tolist()\n",
    "reviews = nr_of_ratings.values\n",
    "for key, review in zip(keys[0:10], reviews[0:10]):   \n",
    "    print('{:<30s} {:<10s}'.format(metadata_df[metadata_df['id'] == key]['title'].tolist()[0], 'Reviews: ' + str(review)))"
   ]
  },
  {
   "cell_type": "markdown",
   "id": "c3b76c01",
   "metadata": {
    "id": "70170e08"
   },
   "source": [
    "And we can find the 10 highest reviewed movies."
   ]
  },
  {
   "cell_type": "code",
   "execution_count": 42,
   "id": "c606ef90",
   "metadata": {
    "colab": {
     "base_uri": "https://localhost:8080/"
    },
    "executionInfo": {
     "elapsed": 437,
     "status": "ok",
     "timestamp": 1656553094096,
     "user": {
      "displayName": "Bryan Lusse",
      "userId": "03846782266646528687"
     },
     "user_tz": -480
    },
    "id": "2fca01e1",
    "outputId": "191f8b9f-a6ab-40cc-924f-29becd40335a"
   },
   "outputs": [
    {
     "name": "stdout",
     "output_type": "stream",
     "text": [
      "The Best Years of Our Lives                                            Rating: 4.636363636363637\n",
      "Inherit the Wind                                                       Rating: 4.541666666666667\n",
      "The Godfather                                                          Rating: 4.4875\n",
      "The Shawshank Redemption                                               Rating: 4.487138263665595\n",
      "Tom Jones                                                              Rating: 4.458333333333333\n",
      "Gladiator 1992                                                         Rating: 4.454545454545454\n",
      "On the Waterfront                                                      Rating: 4.448275862068965\n",
      "When We Were Kings                                                     Rating: 4.4375\n",
      "All About Eve                                                          Rating: 4.434210526315789\n",
      "Ran                                                                    Rating: 4.423076923076923\n"
     ]
    }
   ],
   "source": [
    "mean_rating_df = rating_df[['movieId', 'userId', 'rating']].groupby('movieId').agg({'userId':'count', 'rating':'mean'}).sort_values('rating', ascending=False)\n",
    "\n",
    "keys = mean_rating_df.index.tolist()\n",
    "ratings = mean_rating_df['rating'].tolist()\n",
    "for key, rating in zip(keys[0:10],ratings[0:10]):   \n",
    "    print('{:<70s} {:<10s}'.format(metadata_df[metadata_df['id'] == key]['title'].tolist()[0], 'Rating: ' + str(rating)))\n"
   ]
  },
  {
   "cell_type": "markdown",
   "id": "15af8b82",
   "metadata": {
    "id": "87064da0"
   },
   "source": [
    "### SVD\n",
    "Singular value decomposition (SVD) assumes that a matrix (for example, a $m$ x $n$ matrix) can be decomposed as:\n",
    "\n",
    "$$ M = U \\cdot \\Sigma \\cdot V^T$$\n",
    "\n",
    "where $U$ is a $m$ x $m$ matrix, $\\Sigma$ is a diagonal matrix of $m$ x $n$, and $V^T$ is a $n$ x $n$ matrix. Matrixes $U$ and $V$ provide information about the rows and columns in the main matrix $M$, which in our case represents the movies and users\n",
    "\n",
    "In this way, the original matrix can be represented by multiple matrices of a smaller dimension. SVD is therefore, at its core, a form of dimensionality reduction. In our case, this helps as it makes it easier to describe different users and movies and easier to calculate which ones are similar.\n",
    "\n",
    "Using this information, we can predict the ratings users will give movies they have not yet seen. When a rating is good, this person should get that movie recommended to them.\n",
    "\n",
    "For a more in depth explanation, please see [this](https://jaketae.github.io/study/svd/) link or [this](https://sifter.org/~simon/journal/20061211.html) explanation by the creator of the SVD method for movie recommendations himself, Simon Funk."
   ]
  },
  {
   "cell_type": "code",
   "execution_count": 43,
   "id": "b5d32b8f",
   "metadata": {
    "colab": {
     "base_uri": "https://localhost:8080/"
    },
    "executionInfo": {
     "elapsed": 4686,
     "status": "ok",
     "timestamp": 1656553108856,
     "user": {
      "displayName": "Bryan Lusse",
      "userId": "03846782266646528687"
     },
     "user_tz": -480
    },
    "id": "0e29cb2d",
    "outputId": "238a8135-9cc4-48de-c217-ddf4b39e7dfd"
   },
   "outputs": [
    {
     "data": {
      "text/plain": [
       "<surprise.prediction_algorithms.matrix_factorization.SVD at 0x7fe151c32e10>"
      ]
     },
     "execution_count": 43,
     "metadata": {},
     "output_type": "execute_result"
    }
   ],
   "source": [
    "# First train an SVD algorithm on the movielens dataset.\n",
    "reader = Reader(rating_scale = (0,5))\n",
    "data = Dataset.load_from_df(rating_df[['userId','movieId','rating']], reader)\n",
    "trainset = data.build_full_trainset()\n",
    "algo = SVD()\n",
    "algo.fit(trainset)"
   ]
  },
  {
   "cell_type": "code",
   "execution_count": 44,
   "id": "7c10209a",
   "metadata": {
    "colab": {
     "base_uri": "https://localhost:8080/"
    },
    "executionInfo": {
     "elapsed": 863,
     "status": "ok",
     "timestamp": 1656554913166,
     "user": {
      "displayName": "Bryan Lusse",
      "userId": "03846782266646528687"
     },
     "user_tz": -480
    },
    "id": "d693db26",
    "outputId": "4ede4439-b09f-491e-d636-634220d7bee8"
   },
   "outputs": [
    {
     "name": "stdout",
     "output_type": "stream",
     "text": [
      ">> Starting dump\n",
      ">> Dump done\n",
      "/content/gdrive/My Drive/movie-recommendation/svd.pickle\n"
     ]
    }
   ],
   "source": [
    "## Save trained model\n",
    "model_filename = data_path+'/'+\"svd.pickle\"\n",
    "print(\">> Starting dump\")\n",
    "dump.dump(model_filename, algo=algo)\n",
    "print (\">> Dump done\")\n",
    "print(model_filename)"
   ]
  },
  {
   "cell_type": "code",
   "execution_count": 45,
   "id": "4cb208d9",
   "metadata": {
    "colab": {
     "base_uri": "https://localhost:8080/"
    },
    "executionInfo": {
     "elapsed": 3,
     "status": "ok",
     "timestamp": 1656554916715,
     "user": {
      "displayName": "Bryan Lusse",
      "userId": "03846782266646528687"
     },
     "user_tz": -480
    },
    "id": "oqocK46ZY8p2",
    "outputId": "7b3ff194-a7ba-47bf-848f-15f24dc8eda6"
   },
   "outputs": [
    {
     "name": "stdout",
     "output_type": "stream",
     "text": [
      ">> Loading dump\n",
      ">> Loaded dump\n"
     ]
    }
   ],
   "source": [
    "## Load previously saved model\n",
    "print(\">> Loading dump\")\n",
    "_, algo = dump.load(model_filename)\n",
    "print(\">> Loaded dump\")"
   ]
  },
  {
   "cell_type": "markdown",
   "id": "64b409c9",
   "metadata": {
    "id": "G6E0YgJIRzdd"
   },
   "source": [
    "In order to retrieve the movie title from the ID, we construct a dataframe"
   ]
  },
  {
   "cell_type": "code",
   "execution_count": 46,
   "id": "b0eb9694",
   "metadata": {
    "executionInfo": {
     "elapsed": 405,
     "status": "ok",
     "timestamp": 1656554348823,
     "user": {
      "displayName": "Bryan Lusse",
      "userId": "03846782266646528687"
     },
     "user_tz": -480
    },
    "id": "RTvXQW3UNFjm"
   },
   "outputs": [],
   "source": [
    "movies = metadata_df[['id', 'title']]\n",
    "movies = movies.set_index('id')"
   ]
  },
  {
   "cell_type": "code",
   "execution_count": 47,
   "id": "2da52fba",
   "metadata": {
    "executionInfo": {
     "elapsed": 358,
     "status": "ok",
     "timestamp": 1656554351096,
     "user": {
      "displayName": "Bryan Lusse",
      "userId": "03846782266646528687"
     },
     "user_tz": -480
    },
    "id": "2IulVpMzPwSL"
   },
   "outputs": [],
   "source": [
    "def get_top_n(predictions, n=10):\n",
    "    \"\"\"Return the top-N recommendation for each user from a set of predictions.\n",
    "\n",
    "    Args:\n",
    "        predictions(list of Prediction objects): The list of predictions, as\n",
    "            returned by the test method of the SVD algorithm.\n",
    "        n(int): The number of recommendation to output for each user. Default\n",
    "            is 10.\n",
    "\n",
    "    Returns:\n",
    "        A dict where keys are user (raw) ids and values are lists of tuples:\n",
    "          [(movie title, rating estimation), ...] of size n.\n",
    "    \"\"\"\n",
    "\n",
    "    # First map the predictions to each user.\n",
    "    top_n = defaultdict(list)\n",
    "    for uid, iid, true_r, est, _ in predictions:\n",
    "        movie_name = movies.loc[iid]['title']\n",
    "        top_n[uid].append((movie_name, est))\n",
    "\n",
    "    # Then sort the predictions for each user and retrieve the k highest ones.\n",
    "    for uid, user_ratings in top_n.items():\n",
    "        user_ratings.sort(key=lambda x: x[1], reverse=True)\n",
    "        top_n[uid] = user_ratings[:n]\n",
    "\n",
    "    return top_n"
   ]
  },
  {
   "cell_type": "markdown",
   "id": "0437819a",
   "metadata": {
    "id": "qZhzXBlXYysA"
   },
   "source": [
    "Using our trained model, we can make predictions on ratings for unseen movies for everyone. From there we print the 10 most recommended movies:"
   ]
  },
  {
   "cell_type": "code",
   "execution_count": 48,
   "id": "b65ab3d7",
   "metadata": {
    "colab": {
     "base_uri": "https://localhost:8080/"
    },
    "executionInfo": {
     "elapsed": 209550,
     "status": "ok",
     "timestamp": 1656554564057,
     "user": {
      "displayName": "Bryan Lusse",
      "userId": "03846782266646528687"
     },
     "user_tz": -480
    },
    "id": "8a5c2d31",
    "outputId": "cb6bf9de-7de7-4b41-edab-e53b964a9487"
   },
   "outputs": [
    {
     "name": "stdout",
     "output_type": "stream",
     "text": [
      "1 ['The Shawshank Redemption', 'Amélie', 'Ran', 'The Remains of the Day', \"Singin' in the Rain\", 'The African Queen', 'Roger & Me', 'Rear Window', 'Paris, Texas', \"Howl's Moving Castle\"]\n",
      "2 ['Mr. Smith Goes to Washington', 'The Godfather', 'The Treasure of the Sierra Madre', 'Roger & Me', 'Casablanca', 'The Maltese Falcon', 'Memento', 'Lawrence of Arabia', 'Sunset Boulevard', \"All the President's Men\"]\n",
      "3 ['The African Queen', 'Lock, Stock and Two Smoking Barrels', 'It Happened One Night', 'Cinema Paradiso', 'Cool Hand Luke', 'Smoke', \"Howl's Moving Castle\", 'Lawrence of Arabia', 'Harry Potter and the Deathly Hallows: Part 2', 'The Pianist']\n",
      "4 ['Gandhi', 'The Usual Suspects', \"Schindler's List\", 'The Shawshank Redemption', 'Run Lola Run', 'A Close Shave', 'Good Will Hunting', 'Life Is Beautiful', 'Catch Me If You Can', 'Fargo']\n",
      "5 ['Roger & Me', 'Modern Times', 'It Happened One Night', 'Star Wars', 'On the Waterfront', 'The Shawshank Redemption', 'Spirited Away', 'The African Queen', 'Sunset Boulevard', 'Ran']\n",
      "6 ['The Godfather', 'Star Wars', 'Raging Bull', 'On the Waterfront', 'North by Northwest', 'His Girl Friday', 'Casablanca', 'All About Eve', 'Ran', 'The Princess Bride']\n",
      "7 ['The Godfather', 'The Godfather: Part II', \"Schindler's List\", 'The Lord of the Rings: The Return of the King', \"One Flew Over the Cuckoo's Nest\", 'The Usual Suspects', 'The Lord of the Rings: The Fellowship of the Ring', 'Seven Samurai', 'The Silence of the Lambs', 'Raging Bull']\n",
      "8 ['The African Queen', 'It Happened One Night', 'The Killing Fields', 'Spirited Away', 'The Departed', 'No Country for Old Men', 'All About Eve', 'The Philadelphia Story', 'Sunset Boulevard', 'Roger & Me']\n",
      "9 ['Pulp Fiction', 'The Lord of the Rings: The Return of the King', 'Dog Day Afternoon', 'The Dark Knight', 'North by Northwest', 'The African Queen', 'The Usual Suspects', 'Star Wars', 'The Treasure of the Sierra Madre', \"All the President's Men\"]\n",
      "10 [\"Singin' in the Rain\", 'It Happened One Night', 'The Third Man', \"One Flew Over the Cuckoo's Nest\", 'The Godfather', 'Blood Simple', 'The Pianist', 'North by Northwest', 'All About Eve', 'To Kill a Mockingbird']\n",
      "11 ['All About Eve', 'The Shawshank Redemption', 'Raging Bull', 'Chinatown', 'The Dark Knight', 'Taxi Driver', \"Schindler's List\", 'The Godfather', 'Three Colors: Red', 'It Happened One Night']\n",
      "12 ['On the Waterfront', 'It Happened One Night', 'Cinema Paradiso', 'Three Colors: Red', 'The Matrix', 'The Shawshank Redemption', 'Roger & Me', 'Run Lola Run', 'Breaking Away', \"All the President's Men\"]\n",
      "13 ['Sunset Boulevard', 'To Kill a Mockingbird', 'Lock, Stock and Two Smoking Barrels', \"All the President's Men\", 'All About Eve', 'City of God', 'Y Tu Mamá También', 'Mister Roberts', 'Three Colors: Blue', 'On the Waterfront']\n",
      "14 ['The Lord of the Rings: The Fellowship of the Ring', 'The Godfather: Part II', 'The Usual Suspects', 'The Godfather', 'All About Eve', 'The Shawshank Redemption', 'Sunset Boulevard', 'Fight Club', 'Modern Times', 'Star Wars']\n",
      "15 ['The Killing Fields', 'Coming Home', 'Once Upon a Time in America', 'Grave of the Fireflies', 'The Last Detail', 'The Seventh Seal', 'Five Easy Pieces', 'Stalag 17', \"Miller's Crossing\", 'Sleeper']\n",
      "16 ['Seven Samurai', \"Singin' in the Rain\", 'Roger & Me', 'It Happened One Night', 'Memento', 'This Is Spinal Tap', 'Fargo', 'The Philadelphia Story', 'Rear Window', 'Mister Roberts']\n",
      "17 ['All About Eve', 'Casino', 'Raging Bull', 'The Wolf of Wall Street', 'On the Waterfront', 'Happiness', 'The Empire Strikes Back', 'A Night at the Opera', 'Seven Samurai', 'Close Encounters of the Third Kind']\n",
      "18 ['The Godfather', 'All About Eve', 'The Shawshank Redemption', 'The Godfather: Part II', 'It Happened One Night', 'Sunset Boulevard', 'Raging Bull', 'Cinema Paradiso', 'The Usual Suspects', 'The Third Man']\n",
      "19 ['Roger & Me', 'Spirited Away', \"Singin' in the Rain\", 'The Prestige', 'A Close Shave', 'Oldboy', 'Modern Times', 'The Gold Rush', 'Strangers on a Train', 'Duck Soup']\n",
      "20 ['Sunset Boulevard', \"Singin' in the Rain\", 'The African Queen', 'Butch Cassidy and the Sundance Kid', 'The Departed', 'Modern Times', 'Midnight in Paris', 'The Green Mile', 'The Grand Budapest Hotel', 'Cinema Paradiso']\n",
      "21 ['The Shawshank Redemption', 'Modern Times', 'Three Colors: Blue', 'A Close Shave', 'Tom Jones', 'Toy Story 3', 'Gladiator 1992', 'Rushmore', 'M', 'Lawrence of Arabia']\n",
      "22 ['Sunset Boulevard', 'Roger & Me', 'The Name of the Rose', 'Donnie Darko', 'Trainspotting', '12 Angry Men', 'All About Eve', 'Amélie', 'Raging Bull', 'Hotel Rwanda']\n",
      "23 ['Smoke', 'In the Name of the Father', 'Swingers', 'Once Upon a Time in the West', 'The Killing Fields', 'Roger & Me', 'Princess Mononoke', 'Night of the Living Dead', 'The Martian', 'Moon']\n",
      "24 ['The African Queen', 'Cinema Paradiso', 'Modern Times', 'The Godfather', 'The Philadelphia Story', 'The Pianist', 'The Shawshank Redemption', 'A Close Shave', 'Sunset Boulevard', \"Howl's Moving Castle\"]\n",
      "25 ['The Godfather', 'Chinatown', 'The Shawshank Redemption', 'On the Waterfront', 'Three Colors: Red', 'Cinema Paradiso', 'Ran', 'To Kill a Mockingbird', 'The African Queen', 'The Treasure of the Sierra Madre']\n",
      "26 ['Princess Mononoke', 'The Godfather: Part II', 'All About Eve', 'On the Waterfront', 'The Philadelphia Story', 'Cool Hand Luke', 'Cinema Paradiso', 'In the Name of the Father', 'Night of the Living Dead', \"Schindler's List\"]\n",
      "27 ['Cinema Paradiso', 'The Shawshank Redemption', 'It Happened One Night', 'The African Queen', 'North by Northwest', 'Raging Bull', 'The Producers', 'All About Eve', 'The Empire Strikes Back', 'Casablanca']\n",
      "28 ['Raging Bull', 'Butch Cassidy and the Sundance Kid', 'The African Queen', 'The Godfather', 'It Happened One Night', 'Lawrence of Arabia', 'Sunset Boulevard', 'Naked', 'Star Wars', 'Cool Hand Luke']\n",
      "29 ['The Shawshank Redemption', 'All About Eve', 'Big Night', 'Sunset Boulevard', 'The Godfather: Part II', 'Cinema Paradiso', 'When We Were Kings', 'Mister Roberts', '12 Angry Men', \"Singin' in the Rain\"]\n",
      "30 ['The Wrong Trousers', 'The Dark Knight', 'All About Eve', 'Double Indemnity', 'Ran', 'Monty Python and the Holy Grail', 'In Bruges', 'A Close Shave', 'Hamlet', 'Lawrence of Arabia']\n",
      "31 ['Raging Bull', 'The Maltese Falcon', 'The African Queen', 'All About Eve', 'A Close Shave', 'Fargo', 'Casablanca', 'Cinema Paradiso', 'On the Waterfront', 'M']\n",
      "32 ['City of God', 'The Best Years of Our Lives', 'It Happened One Night', 'Modern Times', 'Ran', 'Casablanca', 'The Third Man', 'Young Frankenstein', 'The Godfather', 'Taxi Driver']\n",
      "33 ['All About Eve', 'Amores perros', \"One Flew Over the Cuckoo's Nest\", 'Reservoir Dogs', 'The Remains of the Day', 'The Lord of the Rings: The Fellowship of the Ring', 'Raging Bull', 'Sunset Boulevard', 'Taxi Driver', 'The Treasure of the Sierra Madre']\n",
      "34 ['It Happened One Night', 'The Shawshank Redemption', 'Spirited Away', 'Cinema Paradiso', 'Sunset Boulevard', 'Duck Soup', 'North by Northwest', \"It's a Wonderful Life\", 'Tom Jones', '12 Angry Men']\n",
      "35 ['The Godfather', 'The Lord of the Rings: The Return of the King', 'Star Wars', \"One Flew Over the Cuckoo's Nest\", \"Singin' in the Rain\", 'The Dark Knight', 'Citizen Kane', 'The Usual Suspects', 'Rush', 'Apocalypse Now']\n",
      "36 ['The Godfather: Part II', 'The Empire Strikes Back', 'All About Eve', 'The Godfather', 'The Lord of the Rings: The Fellowship of the Ring', 'It Happened One Night', 'Psycho', 'The Lord of the Rings: The Return of the King', 'North by Northwest', 'Raging Bull']\n",
      "37 ['Life Is Beautiful', 'Sunset Boulevard', 'All About Eve', 'The Godfather', 'The Shawshank Redemption', 'Pulp Fiction', 'The Lord of the Rings: The Fellowship of the Ring', 'Hamlet', 'Roger & Me', 'Fargo']\n",
      "38 ['It Happened One Night', 'The African Queen', 'The Treasure of the Sierra Madre', 'Modern Times', 'Casablanca', 'A Close Shave', 'Rear Window', 'Cool Hand Luke', 'Sunset Boulevard', 'Chinatown']\n",
      "39 ['The Philadelphia Story', 'The Godfather: Part II', 'Modern Times', 'The Shawshank Redemption', 'Ran', 'The Pianist', 'Taxi Driver', 'The African Queen', 'The Treasure of the Sierra Madre', 'It Happened One Night']\n",
      "40 ['Ran', 'Modern Times', 'The Godfather', 'City of God', 'Cool Hand Luke', 'Sunset Boulevard', 'Lawrence of Arabia', 'The Shawshank Redemption', 'The Godfather: Part II', 'Blood Simple']\n",
      "41 ['The Pianist', 'Modern Times', 'The Philadelphia Story', 'The Treasure of the Sierra Madre', 'All About Eve', 'The Godfather: Part II', \"Singin' in the Rain\", 'Sunset Boulevard', \"One Flew Over the Cuckoo's Nest\", 'The Shawshank Redemption']\n",
      "42 ['Blood Simple', 'Raging Bull', 'The African Queen', 'Ran', 'Casablanca', 'North by Northwest', \"One Flew Over the Cuckoo's Nest\", 'Fight Club', 'Vertigo', 'Big Night']\n",
      "43 ['Seven Samurai', 'It Happened One Night', 'The Treasure of the Sierra Madre', 'Dr. Strangelove or: How I Learned to Stop Worrying and Love the Bomb', 'The Godfather', 'The Lives of Others', 'Citizen Kane', 'The Silence of the Lambs', 'All About Eve', 'Dog Day Afternoon']\n",
      "44 [\"Schindler's List\", 'Gandhi', 'The Godfather: Part II', 'The Godfather', 'It Happened One Night', 'Chinatown', 'Raging Bull', 'The Maltese Falcon', 'The Usual Suspects', 'Hoop Dreams']\n",
      "45 ['Roger & Me', 'The Shawshank Redemption', 'Cool Hand Luke', 'The African Queen', 'All About Eve', 'Ran', 'It Happened One Night', 'Lawrence of Arabia', 'Modern Times', 'The Producers']\n",
      "46 ['Cinema Paradiso', 'Ben-Hur', 'Gandhi', 'Cape Fear', 'The French Connection', 'The Gods Must Be Crazy', 'Blazing Saddles', 'Sense and Sensibility', 'Se7en', 'The Usual Suspects']\n",
      "47 [\"Singin' in the Rain\", 'Ran', 'City of God', 'The Godfather', 'Swingers', 'Sunset Boulevard', 'Strangers on a Train', 'The Pianist', 'The Shawshank Redemption', 'It Happened One Night']\n",
      "48 ['Raging Bull', 'Cinema Paradiso', 'Reservoir Dogs', 'The Shawshank Redemption', 'Modern Times', 'On the Waterfront', 'North by Northwest', 'Sunset Boulevard', 'Roger & Me', 'Ran']\n",
      "49 ['It Happened One Night', 'The Shawshank Redemption', 'All About Eve', 'Chinatown', 'Lock, Stock and Two Smoking Barrels', 'Roger & Me', 'Cinema Paradiso', 'The Third Man', 'Raging Bull', 'Ran']\n",
      "50 [\"Singin' in the Rain\", 'All About Eve', 'Raging Bull', 'Cinema Paradiso', 'His Girl Friday', 'Big Night', 'American Beauty', 'On the Waterfront', 'North by Northwest', 'Roger & Me']\n",
      "51 ['Cinema Paradiso', \"Schindler's List\", 'The Shawshank Redemption', 'Sunset Boulevard', 'The African Queen', 'The Lord of the Rings: The Fellowship of the Ring', 'Mister Roberts', 'The Philadelphia Story', 'All About Eve', 'The Third Man']\n",
      "52 ['Cinema Paradiso', 'The Shawshank Redemption', 'There Will Be Blood', 'All About Eve', 'Duck Soup', 'Cool Hand Luke', 'The African Queen', 'Dr. Strangelove or: How I Learned to Stop Worrying and Love the Bomb', 'In Bruges', 'Sunset Boulevard']\n",
      "53 ['The Shawshank Redemption', 'It Happened One Night', 'The Lord of the Rings: The Fellowship of the Ring', 'Three Colors: Blue', 'Roger & Me', 'The Godfather: Part II', 'The Graduate', 'Big Night', 'Das Boot', 'The Silence of the Lambs']\n",
      "54 ['On the Waterfront', 'The Maltese Falcon', 'Psycho', 'Saving Private Ryan', 'Chinatown', 'The Killing Fields', 'Midnight in Paris', 'The African Queen', \"Schindler's List\", 'The Pianist']\n",
      "55 ['It Happened One Night', 'Lock, Stock and Two Smoking Barrels', 'Sunset Boulevard', 'The Shawshank Redemption', 'Modern Times', 'The Philadelphia Story', 'The Maltese Falcon', 'Mister Roberts', 'Diva', 'American History X']\n",
      "56 ['Little Big Man', 'Cool Hand Luke', 'The Maltese Falcon', \"Singin' in the Rain\", 'Tom Jones', 'The Philadelphia Story', 'Brazil', 'The Last Emperor', 'The African Queen', 'In the Name of the Father']\n",
      "57 ['The Dark Knight', 'Modern Times', 'Pulp Fiction', 'Fight Club', 'Inception', 'The Pianist', 'Double Indemnity', 'The Usual Suspects', \"All the President's Men\", 'A Grand Day Out']\n",
      "58 ['The Shawshank Redemption', 'All About Eve', 'Lock, Stock and Two Smoking Barrels', 'Forrest Gump', 'Y Tu Mamá También', 'Crash', 'Sunset Boulevard', 'Swingers', 'Good Will Hunting', 'There Will Be Blood']\n",
      "59 ['Star Wars', 'Oldboy', 'All About Eve', 'Full Metal Jacket', 'Sunset Boulevard', 'Raging Bull', 'North by Northwest', 'Double Indemnity', 'The Treasure of the Sierra Madre', 'Seven Samurai']\n",
      "60 ['City of God', 'All About Eve', 'The Shawshank Redemption', 'Gladiator 1992', 'Monty Python and the Holy Grail', 'The Usual Suspects', 'Lock, Stock and Two Smoking Barrels', 'Braveheart', \"Schindler's List\", 'The Lord of the Rings: The Fellowship of the Ring']\n",
      "61 ['Three Colors: Red', 'Roger & Me', \"Schindler's List\", 'The Empire Strikes Back', 'Three Colors: Blue', 'Exotica', 'Fight Club', 'The Maltese Falcon', 'Toy Story 3', 'M']\n",
      "62 ['The Godfather: Part II', 'Lock, Stock and Two Smoking Barrels', 'The Godfather', 'Vertigo', 'Raging Bull', 'Ran', 'Blood Simple', 'All About Eve', 'Cool Hand Luke', 'Modern Times']\n",
      "63 ['Pulp Fiction', 'Return of the Jedi', 'The Martian', 'Cool Hand Luke', 'The Empire Strikes Back', 'The Philadelphia Story', 'The Seventh Seal', 'Cinema Paradiso', 'All About Eve', 'Election']\n",
      "64 ['American Beauty', 'Roger & Me', 'Run Lola Run', 'The Empire Strikes Back', 'On the Waterfront', 'The Usual Suspects', 'The Philadelphia Story', 'Midnight Cowboy', 'The Godfather', 'City of God']\n",
      "65 ['His Girl Friday', 'Rear Window', \"Singin' in the Rain\", 'The Treasure of the Sierra Madre', 'Sunset Boulevard', 'A Close Shave', 'The Silence of the Lambs', 'Seven Samurai', 'To Kill a Mockingbird', 'The Departed']\n",
      "66 ['The Lord of the Rings: The Fellowship of the Ring', 'On the Waterfront', 'Pulp Fiction', 'The Lord of the Rings: The Two Towers', 'Sunset Boulevard', 'Roger & Me', 'Crimes and Misdemeanors', 'The Third Man', 'The Philadelphia Story', \"One Flew Over the Cuckoo's Nest\"]\n",
      "67 ['The African Queen', 'Citizen Kane', \"Singin' in the Rain\", 'Inglourious Basterds', 'The Godfather', 'Taxi Driver', \"Schindler's List\", 'Night of the Living Dead', 'The Departed', 'Casablanca']\n",
      "68 ['The African Queen', 'Roger & Me', 'Modern Times', 'Butch Cassidy and the Sundance Kid', 'The Third Man', 'Sunset Boulevard', 'The Silence of the Lambs', 'A Close Shave', \"Singin' in the Rain\", 'Harry Potter and the Deathly Hallows: Part 2']\n",
      "69 ['City of God', 'North by Northwest', 'Roger & Me', 'Toy Story 3', 'The Godfather', 'Cinema Paradiso', 'All About Eve', \"Singin' in the Rain\", 'Raging Bull', 'Rear Window']\n",
      "70 ['Cinema Paradiso', 'The Usual Suspects', \"Schindler's List\", 'The Shawshank Redemption', 'Fight Club', 'V for Vendetta', 'The Godfather', 'The Maltese Falcon', 'Monty Python and the Holy Grail', 'The Empire Strikes Back']\n",
      "71 ['All About Eve', 'The African Queen', 'The Lord of the Rings: The Fellowship of the Ring', 'The Maltese Falcon', \"It's a Wonderful Life\", 'The Killing Fields', 'Sunset Boulevard', 'Seven Samurai', 'Night of the Living Dead', 'The Treasure of the Sierra Madre']\n",
      "72 ['Cool Hand Luke', 'Ran', 'The Treasure of the Sierra Madre', 'Modern Times', 'The African Queen', 'The Philadelphia Story', 'All About Eve', 'Cinema Paradiso', 'Crimes and Misdemeanors', 'On the Waterfront']\n",
      "73 ['The Maltese Falcon', 'All About Eve', 'In the Name of the Father', 'Smoke', 'Roger & Me', 'On the Waterfront', 'The Philadelphia Story', 'North by Northwest', 'Psycho', 'When We Were Kings']\n",
      "74 ['All About Eve', 'Ran', 'Modern Times', 'City of God', 'It Happened One Night', 'His Girl Friday', 'Mister Roberts', 'Shrek', 'A Christmas Story', 'Lawrence of Arabia']\n",
      "75 ['A Close Shave', 'Raging Bull', \"All the President's Men\", 'Chinatown', 'Good Will Hunting', 'Pirates of the Caribbean: The Curse of the Black Pearl', 'The Madness of King George', 'The African Queen', 'The Spanish Prisoner', 'Big Night']\n",
      "76 ['The Shawshank Redemption', 'The Philadelphia Story', 'City of God', 'The Maltese Falcon', 'Modern Times', 'All About Eve', 'Sunset Boulevard', 'On the Waterfront', 'North by Northwest', \"Singin' in the Rain\"]\n",
      "77 ['Cinema Paradiso', 'Cool Hand Luke', 'Modern Times', 'All About Eve', 'The African Queen', 'Reservoir Dogs', 'It Happened One Night', \"Singin' in the Rain\", 'The Usual Suspects', 'Roger & Me']\n",
      "78 ['Cool Hand Luke', 'Run Lola Run', 'A Grand Day Out', 'Life Is Beautiful', 'Sunset Boulevard', 'All About Eve', 'Raise the Red Lantern', 'On the Waterfront', 'The Avengers', 'The Philadelphia Story']\n",
      "79 ['The Shawshank Redemption', 'All About Eve', \"It's a Wonderful Life\", 'The Hurt Locker', 'City of God', 'On the Waterfront', 'M', 'Sunset Boulevard', 'North by Northwest', 'Mister Roberts']\n",
      "80 ['The Shawshank Redemption', 'Pulp Fiction', 'Happiness', 'The Professional', \"One Flew Over the Cuckoo's Nest\", 'Modern Times', 'The African Queen', 'Run Lola Run', \"It's a Wonderful Life\", 'The Godfather']\n",
      "81 ['The African Queen', 'The Godfather', 'North by Northwest', 'The Third Man', 'It Happened One Night', 'Raging Bull', 'Modern Times', 'His Girl Friday', 'Ran', 'Roger & Me']\n",
      "82 ['Cinema Paradiso', 'The Godfather', 'The Empire Strikes Back', 'Modern Times', 'Ran', 'The Godfather: Part II', 'Chinatown', 'All About Eve', 'The Maltese Falcon', 'Inglourious Basterds']\n",
      "83 ['City of God', 'Modern Times', 'Taxi Driver', 'The Seventh Seal', 'Midnight in Paris', 'Seven Samurai', 'On the Waterfront', 'Bonnie and Clyde', 'The Hudsucker Proxy', 'The Conversation']\n",
      "84 ['Modern Times', 'The Shawshank Redemption', 'Raging Bull', 'There Will Be Blood', 'The Godfather', 'All About Eve', 'My Neighbor Totoro', \"Schindler's List\", 'Tom Jones', 'Sunset Boulevard']\n",
      "85 ['Star Wars', \"One Flew Over the Cuckoo's Nest\", 'The Pianist', 'Modern Times', 'Taxi Driver', \"Singin' in the Rain\", 'Psycho', 'It Happened One Night', 'A Close Shave', 'Die Hard']\n",
      "86 ['The Godfather', 'The Usual Suspects', 'Raging Bull', 'In Bruges', 'All About Eve', 'The Lord of the Rings: The Fellowship of the Ring', 'Roger & Me', 'Annie Hall', 'Ran', 'The Lord of the Rings: The Return of the King']\n",
      "87 ['It Happened One Night', 'The Producers', 'Lawrence of Arabia', 'The Shawshank Redemption', 'Rear Window', 'All About Eve', 'Sunset Boulevard', 'Psycho', 'Pulp Fiction', 'The Graduate']\n",
      "88 ['All About Eve', 'The Wrong Trousers', 'The Producers', 'Dr. Strangelove or: How I Learned to Stop Worrying and Love the Bomb', 'The Treasure of the Sierra Madre', 'Ran', 'His Girl Friday', 'The Usual Suspects', 'Lawrence of Arabia', 'Gladiator 1992']\n",
      "89 ['Cinema Paradiso', 'Gandhi', 'The Usual Suspects', 'The Remains of the Day', 'Trainspotting', 'Happiness', 'American Beauty', 'Vertigo', 'The Maltese Falcon', 'The Wizard of Oz']\n",
      "90 ['A Close Shave', 'The Matrix', 'The Shawshank Redemption', 'The Godfather: Part II', 'The African Queen', 'Lawrence of Arabia', 'The Philadelphia Story', 'Casablanca', 'The Maltese Falcon', 'Sunset Boulevard']\n",
      "91 ['The Usual Suspects', 'The Princess Bride', 'Roger & Me', 'The Pianist', 'Three Colors: Red', \"Singin' in the Rain\", 'North by Northwest', 'All About Eve', 'Big Night', '12 Angry Men']\n",
      "92 ['Chinatown', 'The Sweet Hereafter', 'City of God', 'On the Waterfront', 'Smoke', 'The Godfather', 'Cinema Paradiso', 'Raging Bull', 'The Prestige', 'The Philadelphia Story']\n",
      "93 ['The Shawshank Redemption', 'The Producers', 'Roger & Me', 'On the Waterfront', 'The Usual Suspects', 'The Maltese Falcon', 'Cinema Paradiso', 'Chinatown', 'L.A. Confidential', 'It Happened One Night']\n",
      "94 ['Raging Bull', 'Monty Python and the Holy Grail', 'All About Eve', 'Night of the Living Dead', 'Duck Soup', 'Rear Window', 'The Third Man', 'Stand by Me', '12 Angry Men', \"Singin' in the Rain\"]\n",
      "95 ['Cinema Paradiso', 'Se7en', \"Schindler's List\", 'The Shawshank Redemption', 'The Godfather', 'Reservoir Dogs', 'Seven Samurai', 'Fargo', 'Harry Potter and the Deathly Hallows: Part 2', 'Casablanca']\n",
      "96 ['The Best Years of Our Lives', 'Pulp Fiction', 'The Lord of the Rings: The Return of the King', 'To Kill a Mockingbird', 'Modern Times', 'City of God', 'Cinema Paradiso', \"Singin' in the Rain\", \"All the President's Men\", 'The Dark Knight']\n",
      "97 ['Ran', 'The Treasure of the Sierra Madre', 'The Remains of the Day', 'Cool Hand Luke', 'Butch Cassidy and the Sundance Kid', 'Tom Jones', 'The Philadelphia Story', 'The African Queen', 'Sunset Boulevard', 'The Breakfast Club']\n",
      "98 ['Cinema Paradiso', 'The Usual Suspects', 'The Shawshank Redemption', 'Stand by Me', 'Cool Hand Luke', 'Run Lola Run', 'Sunset Boulevard', 'All About Eve', \"It's a Wonderful Life\", '12 Angry Men']\n",
      "99 ['Sunset Boulevard', 'Fantastic Mr. Fox', 'A Close Shave', 'M', 'Rosencrantz & Guildenstern Are Dead', 'Chinatown', \"Howl's Moving Castle\", 'All About Eve', 'Raging Bull', 'Spirited Away']\n",
      "100 ['The Godfather', 'The Godfather: Part II', 'Modern Times', 'Seven Samurai', 'Chinatown', 'Dr. Strangelove or: How I Learned to Stop Worrying and Love the Bomb', 'Ran', \"Singin' in the Rain\", 'Rear Window', \"Schindler's List\"]\n",
      "101 ['All About Eve', 'The Godfather: Part II', 'The Godfather', 'Roger & Me', 'Pulp Fiction', 'Fargo', 'Raging Bull', 'Ran', 'Mister Roberts', 'On the Waterfront']\n",
      "102 ['There Will Be Blood', 'Oldboy', 'City of God', 'The Departed', 'Swingers', 'Grosse Pointe Blank', 'My Neighbor Totoro', 'Princess Mononoke', 'Winnie the Pooh and the Blustery Day', 'Shadowlands']\n",
      "103 ['The African Queen', \"Howl's Moving Castle\", 'The Godfather', 'The Killing Fields', 'Monty Python and the Holy Grail', 'Chinatown', 'Fargo', 'The Philadelphia Story', 'Roger & Me', 'Raging Bull']\n",
      "104 ['Roger & Me', 'All About Eve', 'It Happened One Night', 'The Usual Suspects', 'The Third Man', 'Sunset Boulevard', 'The Treasure of the Sierra Madre', 'Cool Hand Luke', 'Taxi Driver', 'Ran']\n",
      "105 ['The Pianist', \"Schindler's List\", 'Rear Window', 'Raging Bull', 'All About Eve', 'Psycho', 'The Treasure of the Sierra Madre', 'Seven Samurai', 'Smoke', 'Lawrence of Arabia']\n",
      "106 ['The Godfather', 'Casablanca', 'Tom Jones', 'The Shawshank Redemption', 'The Godfather: Part II', 'Apocalypse Now', \"Schindler's List\", 'Raiders of the Lost Ark', 'The Treasure of the Sierra Madre', 'Taxi Driver']\n",
      "107 ['The Godfather', 'The Godfather: Part II', 'The Shawshank Redemption', \"One Flew Over the Cuckoo's Nest\", 'Modern Times', 'The Philadelphia Story', 'Y Tu Mamá También', 'Raging Bull', 'The Matrix', 'Psycho']\n",
      "108 ['Psycho', 'Sunset Boulevard', 'All About Eve', 'The Godfather: Part II', 'The Pianist', 'The Shawshank Redemption', 'City of God', 'Eat Drink Man Woman', 'The Maltese Falcon', 'My Neighbor Totoro']\n",
      "109 ['The African Queen', 'Modern Times', 'Mr. Smith Goes to Washington', 'Seven Samurai', 'Taxi Driver', 'The Departed', 'Eternal Sunshine of the Spotless Mind', 'The Philadelphia Story', 'O Brother, Where Art Thou?', 'It Happened One Night']\n",
      "110 ['Cinema Paradiso', 'The French Connection', 'Braveheart', 'American Beauty', 'Fight Club', 'Eternal Sunshine of the Spotless Mind', 'Letters from Iwo Jima', 'The Dark Knight', 'The Godfather', 'Vertigo']\n",
      "111 ['The Godfather', 'The Godfather: Part II', 'When We Were Kings', 'The Philadelphia Story', 'Chinatown', 'Amadeus', 'On the Waterfront', 'Raging Bull', 'Mister Roberts', \"One Flew Over the Cuckoo's Nest\"]\n",
      "112 ['The Godfather: Part II', 'Cool Hand Luke', 'It Happened One Night', 'The Philadelphia Story', 'Oldboy', 'The Godfather', 'Modern Times', \"One Flew Over the Cuckoo's Nest\", 'Lawrence of Arabia', 'Fargo']\n",
      "113 ['Cinema Paradiso', 'Ben-Hur', 'Gandhi', 'The French Connection', 'Blazing Saddles', 'The Usual Suspects', 'Circle of Friends', 'Pulp Fiction', 'Shallow Grave', 'Much Ado About Nothing']\n",
      "114 ['The Shawshank Redemption', 'Sunset Boulevard', 'Modern Times', 'The African Queen', 'Tom Jones', 'The Third Man', 'Roger & Me', 'It Happened One Night', 'There Will Be Blood', 'Monty Python and the Holy Grail']\n",
      "115 ['The Godfather', 'The African Queen', 'All About Eve', 'Amadeus', 'Roger & Me', 'Ran', 'The Maltese Falcon', \"Schindler's List\", 'Raging Bull', 'Modern Times']\n",
      "116 [\"Who's Afraid of Virginia Woolf?\", 'Memento', 'The Godfather: Part II', \"Schindler's List\", 'The Godfather', 'It Happened One Night', 'All About Eve', 'Harry Potter and the Deathly Hallows: Part 2', 'Seven Samurai', 'Roger & Me']\n",
      "117 ['It Happened One Night', 'All About Eve', 'On the Waterfront', 'The Treasure of the Sierra Madre', 'Butch Cassidy and the Sundance Kid', 'Run Lola Run', 'The Usual Suspects', 'The Killing Fields', 'Sunset Boulevard', 'American Beauty']\n",
      "118 ['The Wrong Trousers', 'The Godfather', 'Raging Bull', 'Casablanca', 'The Shawshank Redemption', 'Cinema Paradiso', 'Seven Samurai', 'The Lord of the Rings: The Return of the King', 'Gandhi', 'The Killing Fields']\n",
      "119 ['Inception', 'Blood Simple', 'Amores perros', 'Memento', 'The Lord of the Rings: The Fellowship of the Ring', 'Amélie', 'Ran', 'The Dark Knight', 'The Departed', 'Big Night']\n",
      "120 ['Raging Bull', 'The Shawshank Redemption', 'It Happened One Night', 'The Lord of the Rings: The Fellowship of the Ring', 'Gladiator 1992', 'Smoke', 'A Close Shave', 'M', 'Eat Drink Man Woman', 'The Lord of the Rings: The Two Towers']\n",
      "121 ['Cinema Paradiso', 'All About Eve', 'The Lord of the Rings: The Fellowship of the Ring', \"Singin' in the Rain\", 'The Godfather: Part II', 'The Godfather', 'Annie Hall', 'Mister Roberts', 'The Killing Fields', 'Modern Times']\n",
      "122 ['The Godfather', 'North by Northwest', \"Singin' in the Rain\", 'Casablanca', 'All About Eve', 'It Happened One Night', 'Cinema Paradiso', 'Sunset Boulevard', 'To Kill a Mockingbird', 'Ran']\n",
      "123 ['Modern Times', 'Taxi Driver', 'The African Queen', 'Sunset Boulevard', 'To Kill a Mockingbird', 'A Close Shave', \"Singin' in the Rain\", 'Big Night', 'Raiders of the Lost Ark', 'Roger & Me']\n",
      "124 ['City of God', \"Singin' in the Rain\", 'The Godfather: Part II', 'Modern Times', 'It Happened One Night', 'Monty Python and the Holy Grail', 'All About Eve', 'Raging Bull', 'Harry Potter and the Deathly Hallows: Part 2', 'The Conversation']\n",
      "125 [\"Schindler's List\", 'The Player', 'A Close Shave', 'Modern Times', 'The Wrong Trousers', 'The Conversation', 'Midnight Cowboy', \"Singin' in the Rain\", 'Ran', 'Raging Bull']\n",
      "126 ['Sunset Boulevard', 'All About Eve', 'The Godfather', 'Modern Times', 'The African Queen', 'City of God', 'Cinema Paradiso', 'On the Waterfront', 'Mister Roberts', 'North by Northwest']\n",
      "127 ['The Maltese Falcon', 'Sunset Boulevard', 'Lock, Stock and Two Smoking Barrels', 'Modern Times', 'The Philadelphia Story', 'Smoke', 'Psycho', 'All About Eve', 'The Third Man', 'On the Waterfront']\n",
      "128 ['The Dark Knight', 'Eat Drink Man Woman', 'Sunset Boulevard', 'To Kill a Mockingbird', 'The Third Man', 'My Neighbor Totoro', 'The Godfather', 'Charade', 'The Wrong Trousers', 'The Lord of the Rings: The Return of the King']\n",
      "129 ['The Shawshank Redemption', 'The Godfather', 'The African Queen', 'Ran', 'Vertigo', 'City of God', '12 Angry Men', 'Happiness', 'The Dark Knight', 'Pulp Fiction']\n",
      "130 ['Chinatown', 'The Third Man', 'City of God', 'Three Colors: White', 'Raging Bull', 'Ran', 'All About Eve', 'Gladiator 1992', 'The Conversation', 'Modern Times']\n",
      "131 ['Roger & Me', 'Ran', 'Annie Hall', 'North by Northwest', 'The Shawshank Redemption', 'Dr. Strangelove or: How I Learned to Stop Worrying and Love the Bomb', 'The Graduate', 'It Happened One Night', 'The Usual Suspects', 'Rear Window']\n",
      "132 ['Cool Hand Luke', 'The Usual Suspects', 'The Philadelphia Story', 'Modern Times', 'There Will Be Blood', 'Spirited Away', 'The Godfather', 'The Shawshank Redemption', 'Run Lola Run', \"One Flew Over the Cuckoo's Nest\"]\n",
      "133 ['Cool Hand Luke', 'Y Tu Mamá También', 'A Beautiful Mind', 'Monty Python and the Holy Grail', 'Sunset Boulevard', 'It Happened One Night', \"Howl's Moving Castle\", 'North by Northwest', 'Persuasion', 'The Third Man']\n",
      "134 ['Lawrence of Arabia', 'It Happened One Night', 'Roger & Me', 'On the Waterfront', 'Sunset Boulevard', 'Mr. Smith Goes to Washington', 'Cool Hand Luke', 'The Cabinet of Dr. Caligari', 'The African Queen', 'His Girl Friday']\n",
      "135 ['The Godfather', 'Modern Times', 'Star Wars', 'City of God', 'The Godfather: Part II', 'Fight Club', 'Casablanca', 'The Third Man', 'Cool Hand Luke', 'The Bridge on the River Kwai']\n",
      "136 ['Modern Times', 'The Seventh Seal', 'The African Queen', 'It Happened One Night', 'Roger & Me', 'All About Eve', 'The Third Man', 'Body Heat', 'Lawrence of Arabia', 'City of God']\n",
      "137 ['North by Northwest', 'Good Will Hunting', 'The Shawshank Redemption', 'Double Indemnity', 'Crash', 'Happiness', 'The Intouchables', 'Rear Window', 'Modern Times', \"All the President's Men\"]\n",
      "138 ['Eternal Sunshine of the Spotless Mind', 'The Wrong Trousers', 'Trainspotting', 'Chinatown', 'North by Northwest', 'Dr. Strangelove or: How I Learned to Stop Worrying and Love the Bomb', 'Zodiac', 'Seven Samurai', 'Casablanca', \"Who's Afraid of Virginia Woolf?\"]\n",
      "139 ['The Godfather', 'Sunset Boulevard', 'The Godfather: Part II', 'Star Wars', 'North by Northwest', 'City of God', 'The Lord of the Rings: The Return of the King', 'The Lord of the Rings: The Fellowship of the Ring', 'All About Eve', 'Modern Times']\n",
      "140 ['Happiness', 'All About Eve', 'The Godfather: Part II', 'Pulp Fiction', 'Chinatown', 'North by Northwest', 'Stand by Me', 'The Bridge on the River Kwai', 'The Dark Knight', 'The Godfather']\n",
      "141 ['The Godfather: Part II', 'All About Eve', 'The Godfather', 'Sunset Boulevard', 'The Usual Suspects', 'Memento', 'Monty Python and the Holy Grail', 'Casablanca', 'The Third Man', 'The Pianist']\n",
      "142 ['Double Indemnity', 'Cool Hand Luke', 'The Godfather', 'Modern Times', 'Sunset Boulevard', 'It Happened One Night', 'The Godfather: Part II', 'The Producers', 'Cinema Paradiso', 'All About Eve']\n",
      "143 ['Lawrence of Arabia', 'GoodFellas', 'Taxi Driver', 'Some Like It Hot', \"One Flew Over the Cuckoo's Nest\", 'The African Queen', 'There Will Be Blood', 'All About Eve', 'Life of Brian', 'The Philadelphia Story']\n",
      "144 ['The Shawshank Redemption', 'Rear Window', 'The Godfather', 'Modern Times', 'Ran', 'Much Ado About Nothing', 'Cinema Paradiso', 'The Treasure of the Sierra Madre', 'Henry V', 'Happiness']\n",
      "145 ['Gandhi', 'The Usual Suspects', 'Shallow Grave', 'The Fugitive', 'Much Ado About Nothing', \"Schindler's List\", 'The Shawshank Redemption', 'The Princess Bride', 'Happiness', 'The Sixth Sense']\n",
      "146 ['Modern Times', 'The Godfather', 'All About Eve', 'A Close Shave', 'City of God', \"Singin' in the Rain\", 'The Third Man', 'North by Northwest', \"Schindler's List\", 'Ran']\n",
      "147 ['The Godfather', 'The Shawshank Redemption', 'Cool Hand Luke', 'The Godfather: Part II', 'Modern Times', 'The African Queen', 'Happiness', 'There Will Be Blood', 'The Pianist', 'The Philadelphia Story']\n",
      "148 ['The Godfather: Part II', 'The Shawshank Redemption', 'City of God', 'The Godfather', 'Midnight Cowboy', 'On the Waterfront', 'To Kill a Mockingbird', 'All About Eve', 'Star Wars', 'The African Queen']\n",
      "149 ['Cinema Paradiso', 'The African Queen', 'All About Eve', 'Raging Bull', 'Modern Times', 'Vertigo', 'The Graduate', 'Ran', 'Double Indemnity', 'There Will Be Blood']\n",
      "150 ['Raging Bull', 'Smoke', 'The Wrong Trousers', 'Breathless', 'Life Is Beautiful', 'Citizen Kane', 'Midnight in Paris', 'The Prestige', 'It Happened One Night', 'Three Colors: Blue']\n",
      "151 [\"Singin' in the Rain\", 'The Godfather', 'Ran', 'Modern Times', 'It Happened One Night', 'Happiness', 'The Third Man', 'In the Name of the Father', 'The Shawshank Redemption', 'The Treasure of the Sierra Madre']\n",
      "152 ['All About Eve', 'Sunset Boulevard', 'Raging Bull', 'The African Queen', \"Howl's Moving Castle\", 'Lock, Stock and Two Smoking Barrels', 'The General', 'The Seventh Seal', 'Princess Mononoke', 'Big Night']\n",
      "153 ['Sunset Boulevard', 'It Happened One Night', 'Chinatown', 'Dr. Strangelove or: How I Learned to Stop Worrying and Love the Bomb', 'Modern Times', 'Roger & Me', 'North by Northwest', 'Rear Window', 'When We Were Kings', 'A Close Shave']\n",
      "154 [\"Singin' in the Rain\", 'Modern Times', 'All About Eve', 'It Happened One Night', 'Cinema Paradiso', 'The Shawshank Redemption', 'Vertigo', 'Midnight in Paris', 'Roger & Me', 'Mr. Smith Goes to Washington']\n",
      "155 ['The Godfather', 'The Godfather: Part II', 'The Usual Suspects', 'All About Eve', 'Seven Samurai', 'The Lord of the Rings: The Return of the King', 'Rear Window', 'Psycho', 'Three Colors: Red', 'City of God']\n",
      "156 ['Three Colors: Red', \"Singin' in the Rain\", 'Sunset Boulevard', 'On the Waterfront', 'Modern Times', 'Spirited Away', 'Crimes and Misdemeanors', 'Taxi Driver', 'The African Queen', 'The Manchurian Candidate']\n",
      "157 ['The Godfather: Part II', 'The Godfather', 'Fargo', 'All About Eve', 'Vertigo', 'Cinema Paradiso', 'Chinatown', 'Rear Window', 'Reservoir Dogs', 'Annie Hall']\n",
      "158 ['City of God', 'All About Eve', 'Modern Times', \"Schindler's List\", 'The Godfather', 'The Maltese Falcon', 'Vertigo', \"Singin' in the Rain\", 'It Happened One Night', 'On the Waterfront']\n",
      "159 ['All About Eve', 'The Producers', 'M', 'Smoke', \"Howl's Moving Castle\", 'Harry Potter and the Deathly Hallows: Part 2', 'The Conversation', \"One Flew Over the Cuckoo's Nest\", 'The Hustler', 'Reservoir Dogs']\n",
      "160 ['The Remains of the Day', 'The Philadelphia Story', 'Roger & Me', \"Singin' in the Rain\", 'The Treasure of the Sierra Madre', 'It Happened One Night', 'The African Queen', 'Modern Times', 'Harry Potter and the Half-Blood Prince', \"All the President's Men\"]\n",
      "161 ['Happiness', 'It Happened One Night', 'Sunset Boulevard', 'The Treasure of the Sierra Madre', 'The Usual Suspects', 'Big Night', 'Run Lola Run', 'The Third Man', 'Ran', 'Three Colors: Red']\n",
      "162 ['Lawrence of Arabia', 'City of God', 'Roger & Me', 'Harry Potter and the Deathly Hallows: Part 2', 'On the Waterfront', 'The Shawshank Redemption', 'Chinatown', 'Reservoir Dogs', 'The Godfather', 'The Philadelphia Story']\n",
      "163 ['Annie Hall', 'The Maltese Falcon', 'Fargo', 'There Will Be Blood', 'Chinatown', 'Run Lola Run', 'Modern Times', 'Rear Window', 'To Kill a Mockingbird', 'The Third Man']\n",
      "164 ['Modern Times', 'Cool Hand Luke', 'The African Queen', 'There Will Be Blood', 'The Philadelphia Story', 'Cinema Paradiso', 'All About Eve', 'On the Waterfront', 'The Godfather', 'The Treasure of the Sierra Madre']\n",
      "165 ['The African Queen', 'Raging Bull', 'M', 'Rain Man', 'Modern Times', 'Happiness', 'Notorious', 'It Happened One Night', 'A Close Shave', 'Three Colors: Blue']\n",
      "166 ['Life Is Beautiful', 'Modern Times', 'Cinema Paradiso', 'The Shawshank Redemption', 'The Usual Suspects', 'Crimes and Misdemeanors', 'The Godfather', 'Ran', 'The Lord of the Rings: The Return of the King', 'Rear Window']\n",
      "167 ['The Shawshank Redemption', 'Tom Jones', 'The African Queen', 'Modern Times', 'Smoke', 'Ran', 'Fargo', 'To Kill a Mockingbird', 'Cool Hand Luke', 'Sunset Boulevard']\n",
      "168 ['Fight Club', 'A Close Shave', 'Roger & Me', 'Raging Bull', 'The Godfather', 'On the Waterfront', 'The Player', 'All About Eve', \"Schindler's List\", 'Rear Window']\n",
      "169 ['The Godfather', 'Three Colors: Red', 'Modern Times', 'Cinema Paradiso', 'Inside Man', 'Chinatown', 'The Best Years of Our Lives', 'It Happened One Night', 'On the Waterfront', 'The Third Man']\n",
      "170 ['The Usual Suspects', 'It Happened One Night', 'The Shawshank Redemption', 'The General', 'The Seventh Seal', 'The Departed', 'A Grand Day Out', 'Das Boot', 'Raging Bull', 'Modern Times']\n",
      "171 ['It Happened One Night', 'The Philadelphia Story', 'Psycho', 'The Shawshank Redemption', 'Modern Times', 'The Seventh Seal', 'Dr. Strangelove or: How I Learned to Stop Worrying and Love the Bomb', 'Ran', 'On the Waterfront', 'The Godfather: Part II']\n",
      "172 ['The Godfather', 'Sunset Boulevard', 'The Godfather: Part II', 'The Silence of the Lambs', 'Roger & Me', 'The Treasure of the Sierra Madre', \"One Flew Over the Cuckoo's Nest\", 'Cool Hand Luke', 'Modern Times', 'The Philadelphia Story']\n",
      "173 ['It Happened One Night', 'The Godfather', 'Sunset Boulevard', 'The Shawshank Redemption', 'The Philadelphia Story', 'The African Queen', 'On the Waterfront', 'Taxi Driver', 'Modern Times', 'The Empire Strikes Back']\n",
      "174 ['Mister Roberts', 'The Godfather: Part II', 'Modern Times', 'The Shawshank Redemption', 'A Close Shave', 'Roger & Me', 'Butch Cassidy and the Sundance Kid', 'Sunset Boulevard', 'The African Queen', 'Gladiator']\n",
      "175 ['The Lord of the Rings: The Return of the King', 'Ran', 'Roger & Me', \"Howl's Moving Castle\", 'Raging Bull', 'The African Queen', 'The Philadelphia Story', 'Sunset Boulevard', 'The Shawshank Redemption', 'The Godfather']\n",
      "176 ['The Shawshank Redemption', 'The Philadelphia Story', 'Cinema Paradiso', 'Rebecca', 'Roger & Me', 'Mister Roberts', 'Sunset Boulevard', '12 Angry Men', \"Schindler's List\", \"It's a Wonderful Life\"]\n",
      "177 [\"Schindler's List\", 'The Shawshank Redemption', 'Star Wars', 'The Godfather', 'Amadeus', 'Roger & Me', 'A Grand Day Out', 'Harry Potter and the Deathly Hallows: Part 2', 'All About Eve', 'Swingers']\n",
      "178 ['On the Waterfront', 'Happiness', 'The Lord of the Rings: The Fellowship of the Ring', 'Blood Simple', 'All About Eve', 'Butch Cassidy and the Sundance Kid', 'Life Is Beautiful', 'Monty Python and the Holy Grail', 'Memento', 'The Philadelphia Story']\n",
      "179 ['City of God', 'The Shawshank Redemption', 'Modern Times', 'All About Eve', 'North by Northwest', 'Cinema Paradiso', 'Cool Hand Luke', 'Monty Python and the Holy Grail', 'The African Queen', 'Sunset Boulevard']\n",
      "180 ['Sunset Boulevard', 'It Happened One Night', 'A Close Shave', 'Cinema Paradiso', 'The African Queen', 'On the Waterfront', 'Casablanca', 'Modern Times', 'All About Eve', 'The Godfather: Part II']\n",
      "181 ['Cinema Paradiso', 'The Godfather', 'Vertigo', 'Sunset Boulevard', 'Ran', 'The Grand Budapest Hotel', 'The Philadelphia Story', 'The Maltese Falcon', 'It Happened One Night', 'Raiders of the Lost Ark']\n",
      "182 ['The Matrix', 'Eat Drink Man Woman', 'Run Lola Run', 'Much Ado About Nothing', 'Lock, Stock and Two Smoking Barrels', 'My Neighbor Totoro', 'Butch Cassidy and the Sundance Kid', 'Cinema Paradiso', 'Raiders of the Lost Ark', 'The Shawshank Redemption']\n",
      "183 ['It Happened One Night', 'The Philadelphia Story', 'The Treasure of the Sierra Madre', 'Ran', 'Roger & Me', 'The African Queen', 'Spirited Away', 'Sunset Boulevard', 'A Close Shave', 'Trainspotting']\n",
      "184 ['The Godfather', 'Roger & Me', 'The Godfather: Part II', 'Sunset Boulevard', 'Seven Samurai', 'Star Wars', \"Singin' in the Rain\", 'Casablanca', 'The Philadelphia Story', 'The Lord of the Rings: The Two Towers']\n",
      "185 ['The Godfather', 'It Happened One Night', 'The Godfather: Part II', 'Snatch', 'Cinema Paradiso', 'The Sixth Sense', 'All About Eve', 'Memento', 'Reservoir Dogs', 'The Philadelphia Story']\n",
      "186 ['The Godfather: Part II', 'Sunset Boulevard', 'The Godfather', 'Casablanca', 'Butch Cassidy and the Sundance Kid', 'Raging Bull', 'City of God', 'All About Eve', 'Cinema Paradiso', \"Singin' in the Rain\"]\n",
      "187 ['Modern Times', 'The Imitation Game', 'The Seventh Seal', 'It Happened One Night', 'Ran', 'Amadeus', 'Midnight Cowboy', 'Rear Window', 'Gandhi', 'The Maltese Falcon']\n",
      "188 ['Modern Times', 'The Third Man', 'Harry Potter and the Deathly Hallows: Part 2', 'It Happened One Night', 'The Empire Strikes Back', 'Raiders of the Lost Ark', 'Casablanca', 'Ran', 'This Is Spinal Tap', 'Cinema Paradiso']\n",
      "189 ['Se7en', 'Star Wars', 'It Happened One Night', 'On the Waterfront', 'Eternal Sunshine of the Spotless Mind', 'Roger & Me', 'The Lord of the Rings: The Fellowship of the Ring', 'The Philadelphia Story', 'Leon: The Professional', 'The Hurt Locker']\n",
      "190 [\"Schindler's List\", 'The Pianist', 'The Shawshank Redemption', 'Seven Samurai', 'The Lord of the Rings: The Fellowship of the Ring', 'Modern Times', 'The Godfather', 'Rear Window', 'The Lord of the Rings: The Return of the King', 'North by Northwest']\n",
      "191 ['Fargo', 'Cool Hand Luke', 'Little Big Man', 'The Godfather', 'Swingers', 'Cinema Paradiso', '12 Angry Men', \"Howl's Moving Castle\", 'Memento', 'The African Queen']\n",
      "192 ['The Godfather: Part II', 'Apocalypse Now', 'City of God', \"Singin' in the Rain\", 'Rear Window', 'The Godfather', 'The African Queen', 'All About Eve', 'Raging Bull', 'Psycho']\n",
      "193 ['The Lord of the Rings: The Return of the King', 'Modern Times', 'Ran', 'Rebecca', \"One Flew Over the Cuckoo's Nest\", 'City of God', 'Cool Hand Luke', 'The Lord of the Rings: The Two Towers', 'Cinema Paradiso', 'Hamlet']\n",
      "194 ['Ran', 'All About Eve', 'Raging Bull', 'City of God', 'The Godfather', 'Roger & Me', 'Taxi Driver', 'Modern Times', 'Psycho', 'Sunset Boulevard']\n",
      "195 ['Moon', 'Delicatessen', 'Rear Window', 'On the Waterfront', 'Run Lola Run', 'Vertigo', 'The Help', 'The Conversation', 'Spirited Away', 'Dr. Strangelove or: How I Learned to Stop Worrying and Love the Bomb']\n",
      "196 ['It Happened One Night', 'A Grand Day Out', 'The African Queen', 'Cinema Paradiso', 'The Shawshank Redemption', 'Modern Times', 'When We Were Kings', 'Ran', 'Chinatown', 'The Killer']\n",
      "197 ['The Lord of the Rings: The Return of the King', 'Raiders of the Lost Ark', 'The Lord of the Rings: The Two Towers', 'Sunset Boulevard', \"Singin' in the Rain\", '12 Angry Men', 'Raging Bull', 'Roger & Me', 'Modern Times', 'West Side Story']\n",
      "198 ['Happiness', 'The Dark Knight', 'It Happened One Night', \"Singin' in the Rain\", 'All About Eve', 'On the Waterfront', 'Butch Cassidy and the Sundance Kid', 'Shadowlands', 'Strangers on a Train', \"All the President's Men\"]\n",
      "199 ['All About Eve', 'Raging Bull', 'The Philadelphia Story', 'The Godfather: Part II', 'Roger & Me', 'North by Northwest', 'The Seventh Seal', 'Big Night', 'A Close Shave', 'It Happened One Night']\n",
      "200 ['The Lord of the Rings: The Two Towers', 'The Lord of the Rings: The Fellowship of the Ring', 'Raiders of the Lost Ark', 'Spirited Away', 'The Lord of the Rings: The Return of the King', 'Chinatown', 'Moon', 'The Godfather', 'Monty Python and the Holy Grail', 'The Godfather: Part II']\n",
      "201 ['The Godfather', 'All About Eve', 'The Dark Knight', 'Happiness', 'Blood Simple', '12 Angry Men', 'The Maltese Falcon', 'Inherit the Wind', 'Lock, Stock and Two Smoking Barrels', 'Reservoir Dogs']\n",
      "202 ['The Usual Suspects', 'Roger & Me', 'All About Eve', 'The Wrong Trousers', 'Cool Hand Luke', 'Vertigo', 'Seven Samurai', 'A Close Shave', 'Happiness', 'It Happened One Night']\n",
      "203 ['All About Eve', 'The African Queen', '12 Angry Men', 'Roger & Me', 'A Close Shave', 'Cool Hand Luke', 'It Happened One Night', 'Happiness', 'Star Wars', 'To Kill a Mockingbird']\n",
      "204 ['All About Eve', 'The African Queen', \"Singin' in the Rain\", 'The Shawshank Redemption', 'Dr. Strangelove or: How I Learned to Stop Worrying and Love the Bomb', 'Night of the Living Dead', 'Ran', 'Roger & Me', 'City of God', 'The Third Man']\n",
      "205 ['The Shawshank Redemption', 'It Happened One Night', 'Sunset Boulevard', 'Cool Hand Luke', 'Modern Times', 'Ran', 'The Green Mile', 'Big Night', 'My Life as a Dog', 'The Third Man']\n",
      "206 ['It Happened One Night', 'The Matrix', 'Memento', 'The Shawshank Redemption', 'The Pianist', 'Chinatown', 'Ran', 'Rear Window', 'Smoke', 'All About Eve']\n",
      "207 ['The Treasure of the Sierra Madre', 'Chinatown', 'This Is Spinal Tap', 'Three Colors: Red', 'Delicatessen', 'The Godfather', 'Crumb', 'Ran', 'Modern Times', 'Reservoir Dogs']\n",
      "208 ['The Seventh Seal', 'Seven Samurai', 'Roger & Me', 'On the Waterfront', 'City of God', 'The Godfather: Part II', 'The Philadelphia Story', 'The Empire Strikes Back', 'The Godfather', 'A Close Shave']\n",
      "209 ['Casablanca', 'The Shawshank Redemption', 'The African Queen', 'All About Eve', 'North by Northwest', 'Star Wars', 'Lawrence of Arabia', 'Blood Simple', 'Cinema Paradiso', 'Chinatown']\n",
      "210 ['The Shawshank Redemption', 'North by Northwest', 'The Philadelphia Story', 'Pulp Fiction', 'All About Eve', 'To Kill a Mockingbird', 'Cool Hand Luke', 'Modern Times', 'The Treasure of the Sierra Madre', 'The Seventh Seal']\n",
      "211 ['Pulp Fiction', 'The Shawshank Redemption', \"It's a Wonderful Life\", 'Ran', 'Chinatown', 'Blood Simple', 'Three Colors: Red', 'The Godfather', 'It Happened One Night', 'Harry Potter and the Deathly Hallows: Part 2']\n",
      "212 ['Sunset Boulevard', 'Mister Roberts', 'Spirited Away', 'The Empire Strikes Back', 'The Maltese Falcon', 'All About Eve', 'Glory', 'My Neighbor Totoro', 'Inherit the Wind', 'Raging Bull']\n",
      "213 ['His Girl Friday', \"All the President's Men\", 'The Treasure of the Sierra Madre', 'A Grand Day Out', 'Chariots of Fire', 'Wings of Desire', 'It Happened One Night', 'Les Miserables', 'The City of Lost Children', 'Roger & Me']\n",
      "214 ['Modern Times', 'Ran', 'Monty Python and the Holy Grail', 'The Maltese Falcon', 'All About Eve', 'Raging Bull', 'M', 'The Conversation', 'The Third Man', 'The Prestige']\n",
      "215 ['Hamlet', 'The Lord of the Rings: The Fellowship of the Ring', 'Happiness', 'The Lord of the Rings: The Return of the King', 'Ran', 'Raging Bull', 'The Third Man', 'City of God', 'Gladiator 1992', 'The Pianist']\n",
      "216 ['Pulp Fiction', 'The Godfather', 'Roger & Me', 'North by Northwest', 'Monty Python and the Holy Grail', 'The Usual Suspects', 'The Pianist', 'Swingers', 'The Godfather: Part II', 'The Departed']\n",
      "217 ['Cinema Paradiso', 'The Shawshank Redemption', 'The Sixth Sense', 'Fight Club', 'Raiders of the Lost Ark', 'Roger & Me', \"One Flew Over the Cuckoo's Nest\", 'A Close Shave', 'Exotica', 'Lock, Stock and Two Smoking Barrels']\n",
      "218 ['Three Colors: Red', 'The Godfather: Part II', 'Cinema Paradiso', 'The Godfather', 'Psycho', 'All About Eve', 'Night of the Living Dead', 'Raging Bull', 'Cool Hand Luke', 'Notorious']\n",
      "219 ['Modern Times', 'The African Queen', \"Singin' in the Rain\", 'The Imitation Game', 'Cool Hand Luke', 'The Maltese Falcon', 'Lock, Stock and Two Smoking Barrels', 'Sunset Boulevard', 'Brazil', 'No Country for Old Men']\n",
      "220 ['The Shawshank Redemption', 'Roger & Me', 'Gladiator 1992', 'Raging Bull', 'The Usual Suspects', 'A Christmas Story', 'The Empire Strikes Back', 'Run Lola Run', 'All About Eve', 'Memento']\n",
      "221 ['Rear Window', 'The Maltese Falcon', 'Modern Times', 'The Godfather', 'The Shawshank Redemption', \"Singin' in the Rain\", 'Chinatown', 'The Philadelphia Story', 'The Departed', 'The Silence of the Lambs']\n",
      "222 ['The Godfather', 'Roger & Me', 'Raging Bull', 'The Godfather: Part II', 'Pulp Fiction', 'The Killing Fields', 'The Good, the Bad and the Ugly', \"All the President's Men\", 'Fight Club', 'Charade']\n",
      "223 ['The Shawshank Redemption', 'All About Eve', 'The Usual Suspects', 'M', 'The Godfather', 'Cinema Paradiso', 'It Happened One Night', 'The African Queen', 'Once Upon a Time in the West', 'Trainspotting']\n",
      "224 ['The Shawshank Redemption', 'Modern Times', 'It Happened One Night', 'Sunset Boulevard', 'Cinema Paradiso', 'City of God', 'Gladiator 1992', 'An Ideal Husband', 'All About Eve', 'The Third Man']\n",
      "225 ['The Shawshank Redemption', 'A Close Shave', 'Lock, Stock and Two Smoking Barrels', 'Ran', 'Modern Times', 'Three Colors: Blue', 'Roger & Me', 'The Treasure of the Sierra Madre', \"Singin' in the Rain\", 'Rear Window']\n",
      "226 ['The Lord of the Rings: The Fellowship of the Ring', \"Schindler's List\", 'Cinema Paradiso', 'A Grand Day Out', 'Mister Roberts', 'Raging Bull', 'The Usual Suspects', 'The Godfather', 'Chinatown', 'The Lord of the Rings: The Return of the King']\n",
      "227 ['City of God', 'Modern Times', \"Singin' in the Rain\", 'The Maltese Falcon', 'Happiness', 'The Godfather', 'Roger & Me', 'All About Eve', 'Three Colors: Red', \"Schindler's List\"]\n",
      "228 ['Pulp Fiction', 'The Shawshank Redemption', 'Roger & Me', 'A Close Shave', 'Sunset Boulevard', 'The African Queen', 'Swingers', 'The Godfather', 'Reservoir Dogs', \"Singin' in the Rain\"]\n",
      "229 ['Modern Times', \"Schindler's List\", 'The Shawshank Redemption', 'All About Eve', 'The Third Man', 'Sunset Boulevard', 'It Happened One Night', 'Casablanca', 'On the Waterfront', 'The Maltese Falcon']\n",
      "230 ['Young Frankenstein', 'On the Waterfront', 'Chinatown', 'The Pianist', 'The Godfather', 'Raiders of the Lost Ark', 'The Third Man', 'The Wrong Trousers', 'Modern Times', 'The Best Years of Our Lives']\n",
      "231 ['The Shawshank Redemption', 'Ran', 'Modern Times', 'Seven Samurai', 'The Third Man', 'Citizen Kane', 'Dr. Strangelove or: How I Learned to Stop Worrying and Love the Bomb', 'His Girl Friday', \"Singin' in the Rain\", 'Young Frankenstein']\n",
      "232 ['The Fugitive', 'Mary Poppins', 'Modern Times', 'Spirited Away', 'City of God', 'Lock, Stock and Two Smoking Barrels', 'The General', 'Blood Simple', 'Fight Club', 'Being John Malkovich']\n",
      "233 ['All About Eve', 'The Shawshank Redemption', 'Sunset Boulevard', 'The Godfather', 'The Philadelphia Story', 'There Will Be Blood', 'Modern Times', 'The Princess Bride', 'No Country for Old Men', 'American Beauty']\n",
      "234 ['All About Eve', 'The Godfather: Part II', 'The Godfather', 'Roger & Me', 'Big Night', 'Cool Hand Luke', 'Happiness', 'Raging Bull', 'The Philadelphia Story', 'Lawrence of Arabia']\n",
      "235 ['Trainspotting', 'Happiness', 'The Godfather', 'Roger & Me', \"One Flew Over the Cuckoo's Nest\", 'The Godfather: Part II', 'The Pianist', 'Life Is Beautiful', 'North by Northwest', 'Sunset Boulevard']\n",
      "236 ['Cool Hand Luke', 'There Will Be Blood', 'October Sky', 'The Treasure of the Sierra Madre', 'Amélie', 'Hoop Dreams', 'Moon', 'It Happened One Night', 'The Name of the Rose', 'Harvey']\n",
      "237 ['A Close Shave', 'The Godfather', 'The Godfather: Part II', 'The Lord of the Rings: The Return of the King', 'Roger & Me', 'Raging Bull', 'The Philadelphia Story', 'The Maltese Falcon', 'Psycho', 'The Pianist']\n",
      "238 ['It Happened One Night', 'All About Eve', 'Cool Hand Luke', 'Sunset Boulevard', 'The African Queen', 'Modern Times', 'Seven Samurai', 'Roger & Me', 'Psycho', 'The Third Man']\n",
      "239 ['The Shawshank Redemption', 'Fight Club', 'A Close Shave', 'Pulp Fiction', 'The Godfather', \"One Flew Over the Cuckoo's Nest\", 'Modern Times', 'The Godfather: Part II', 'The Maltese Falcon', 'Snatch']\n",
      "240 ['Cool Hand Luke', 'Modern Times', 'The Godfather: Part II', 'The Godfather', 'The African Queen', \"Singin' in the Rain\", 'Seven Samurai', 'Lock, Stock and Two Smoking Barrels', 'The Treasure of the Sierra Madre', 'All About Eve']\n",
      "241 ['The Godfather: Part II', 'Psycho', 'Raging Bull', 'The Godfather', 'A Close Shave', 'The Sweet Hereafter', 'The Empire Strikes Back', 'The Seventh Seal', 'City of God', 'Lawrence of Arabia']\n",
      "242 ['Cinema Paradiso', 'The Remains of the Day', 'Happiness', 'Fight Club', 'The Dark Knight', 'Roger & Me', 'The Pianist', 'The Bridge on the River Kwai', 'A Close Shave', 'Harry Potter and the Deathly Hallows: Part 2']\n",
      "243 ['The Godfather', 'Roger & Me', 'City of God', 'Taxi Driver', 'Chinatown', 'Three Colors: Red', 'The Godfather: Part II', 'Cool Hand Luke', 'The Maltese Falcon', 'When We Were Kings']\n",
      "244 ['Cinema Paradiso', '12 Angry Men', 'Roger & Me', 'Pulp Fiction', 'Inglourious Basterds', 'Chinatown', \"All the President's Men\", 'Harry Potter and the Deathly Hallows: Part 2', 'Three Colors: Red', 'The Treasure of the Sierra Madre']\n",
      "245 ['Ran', 'Three Colors: Red', 'It Happened One Night', 'The Bridge on the River Kwai', 'Strangers on a Train', 'The Conversation', 'Three Colors: Blue', 'Monty Python and the Holy Grail', 'Diva', 'The African Queen']\n",
      "246 ['The African Queen', 'On the Waterfront', 'Stand by Me', 'Sunset Boulevard', \"All the President's Men\", 'Crumb', 'To Kill a Mockingbird', 'There Will Be Blood', 'Monty Python and the Holy Grail', 'Princess Mononoke']\n",
      "247 ['The Lord of the Rings: The Fellowship of the Ring', 'It Happened One Night', \"All the President's Men\", 'Roger & Me', 'Rear Window', 'Charade', 'Eternal Sunshine of the Spotless Mind', 'The Godfather', 'Taxi Driver', 'The Lord of the Rings: The Two Towers']\n",
      "248 ['Cinema Paradiso', 'The Usual Suspects', 'The Shawshank Redemption', 'Happiness', 'The Godfather', 'Roger & Me', 'The Pianist', 'Sunset Boulevard', 'The Third Man', 'The Treasure of the Sierra Madre']\n",
      "249 ['The African Queen', 'The Shawshank Redemption', 'The Treasure of the Sierra Madre', 'There Will Be Blood', '12 Angry Men', 'The Pianist', 'Modern Times', 'Strangers on a Train', 'Psycho', 'Big Night']\n",
      "250 ['Modern Times', 'The Philadelphia Story', 'Casablanca', 'Roger & Me', 'The Third Man', 'Fargo', 'In the Name of the Father', 'Smoke', 'A Close Shave', 'The Maltese Falcon']\n",
      "251 ['The Shawshank Redemption', 'Roger & Me', 'Sunset Boulevard', 'The African Queen', 'It Happened One Night', 'The Philadelphia Story', '12 Angry Men', 'Rear Window', 'To Kill a Mockingbird', 'An Ideal Husband']\n",
      "252 ['Ran', 'North by Northwest', 'Lock, Stock and Two Smoking Barrels', 'All About Eve', 'Three Colors: White', 'The Dark Knight', 'Crumb', 'Raging Bull', 'Big Night', 'The Treasure of the Sierra Madre']\n",
      "253 ['Modern Times', \"Schindler's List\", 'The Dark Knight', 'The Wrong Trousers', 'Lock, Stock and Two Smoking Barrels', 'Cinema Paradiso', 'Midnight Cowboy', 'Thank You for Smoking', 'Ran', 'Rabbit-Proof Fence']\n",
      "254 ['All About Eve', 'The Treasure of the Sierra Madre', 'A Close Shave', 'Big Night', 'Raging Bull', 'Annie Hall', 'The Killing Fields', 'Psycho', 'Seven Samurai', 'The Godfather']\n",
      "255 ['The Godfather', 'The Usual Suspects', 'Trainspotting', 'The Godfather: Part II', 'The Shawshank Redemption', 'Full Metal Jacket', 'Pulp Fiction', 'Memento', 'The Silence of the Lambs', 'On the Waterfront']\n",
      "256 ['Raging Bull', 'The Godfather: Part II', 'All About Eve', 'The Godfather', 'Roger & Me', 'City of God', 'Citizen Kane', 'The Philadelphia Story', 'Lawrence of Arabia', 'Swingers']\n",
      "257 ['The Lord of the Rings: The Two Towers', 'Lawrence of Arabia', 'North by Northwest', 'Delicatessen', 'Ran', 'Smoke', 'The Godfather', 'The Conversation', 'All About Eve', 'Spirited Away']\n",
      "258 [\"Schindler's List\", 'The Shawshank Redemption', 'The Lord of the Rings: The Return of the King', 'The Lord of the Rings: The Fellowship of the Ring', 'Chinatown', 'The Lord of the Rings: The Two Towers', 'When We Were Kings', 'The Godfather', 'Good Will Hunting', 'Cinema Paradiso']\n",
      "259 ['Sunset Boulevard', 'American History X', 'Ran', 'The Killing Fields', 'Modern Times', 'City of God', 'All About Eve', 'The Godfather', 'Y Tu Mamá También', 'Raging Bull']\n",
      "260 ['The Lord of the Rings: The Return of the King', 'The Lord of the Rings: The Fellowship of the Ring', 'The Lord of the Rings: The Two Towers', \"Schindler's List\", 'The Godfather: Part II', 'Roger & Me', 'Seven Samurai', 'All About Eve', 'Life Is Beautiful', 'The Third Man']\n",
      "261 ['Modern Times', 'Ran', 'It Happened One Night', 'Roger & Me', 'Dog Day Afternoon', 'The Lives of Others', 'Cinema Paradiso', 'Sunset Boulevard', 'The Treasure of the Sierra Madre', \"Singin' in the Rain\"]\n",
      "262 ['Hoop Dreams', 'Chinatown', 'Nausicaä of the Valley of the Wind', 'The Usual Suspects', 'Roger & Me', 'Blade Runner', '12 Angry Men', 'Source Code', 'Touch of Evil', 'It Happened One Night']\n",
      "263 ['City of God', 'Roger & Me', 'Sunset Boulevard', 'It Happened One Night', \"Singin' in the Rain\", 'On the Waterfront', 'The Third Man', 'The Philadelphia Story', 'The Prestige', 'The Hurt Locker']\n",
      "264 ['The Shawshank Redemption', 'Sunset Boulevard', 'Raging Bull', 'My Neighbor Totoro', 'North by Northwest', 'Modern Times', 'Roman Holiday', 'The Philadelphia Story', 'Lawrence of Arabia', 'Harry Potter and the Deathly Hallows: Part 2']\n",
      "265 ['It Happened One Night', 'All About Eve', 'Gladiator 1992', 'Vertigo', 'Midnight in Paris', 'The Godfather: Part II', 'The Imitation Game', 'The Shawshank Redemption', 'Three Colors: Red', 'Three Colors: Blue']\n",
      "266 ['The Godfather', \"Singin' in the Rain\", 'Modern Times', 'The Philadelphia Story', 'The Godfather: Part II', 'The African Queen', 'Roger & Me', 'Star Wars', 'Fargo', 'Ran']\n",
      "267 ['Fargo', 'Modern Times', 'The Godfather', 'Dr. Strangelove or: How I Learned to Stop Worrying and Love the Bomb', 'Ran', 'Cinema Paradiso', 'It Happened One Night', 'All About Eve', 'Citizen Kane', 'Life Is Beautiful']\n",
      "268 ['Raging Bull', 'The Third Man', 'The Godfather: Part II', 'Happiness', 'Swingers', \"Who's Afraid of Virginia Woolf?\", 'The Best Years of Our Lives', 'Inherit the Wind', 'Three Colors: Red', 'On the Waterfront']\n",
      "269 ['The Shawshank Redemption', \"Singin' in the Rain\", 'The Philadelphia Story', 'The African Queen', 'Fargo', 'Sunset Boulevard', 'Modern Times', 'Taxi Driver', 'A Close Shave', 'All About Eve']\n",
      "270 ['The Godfather', 'Fargo', 'The Philadelphia Story', 'Roger & Me', 'Raging Bull', 'Taxi Driver', 'Rear Window', 'Casablanca', 'Seven Samurai', 'When We Were Kings']\n",
      "271 [\"Singin' in the Rain\", 'Modern Times', 'On the Waterfront', 'Rear Window', 'Cinema Paradiso', \"Schindler's List\", 'The Godfather', 'Chinatown', 'The African Queen', 'City of God']\n",
      "272 ['The Lord of the Rings: The Return of the King', 'Citizen Kane', 'All About Eve', 'The Shawshank Redemption', 'On the Waterfront', 'The Lord of the Rings: The Two Towers', 'Life Is Beautiful', 'The Third Man', \"Schindler's List\", 'It Happened One Night']\n",
      "273 ['Modern Times', 'Cinema Paradiso', 'City of God', 'Roger & Me', \"Singin' in the Rain\", 'Lock, Stock and Two Smoking Barrels', 'The Philadelphia Story', 'The Shawshank Redemption', 'It Happened One Night', 'Wings of Desire']\n",
      "274 ['The Godfather', 'To Kill a Mockingbird', 'All About Eve', 'Sunset Boulevard', 'On the Waterfront', 'City of God', 'The Godfather: Part II', 'Roger & Me', \"Singin' in the Rain\", 'Cinema Paradiso']\n",
      "275 ['Gone with the Wind', 'Modern Times', 'The African Queen', 'It Happened One Night', 'Monty Python and the Holy Grail', 'Ran', 'North by Northwest', 'Roger & Me', '12 Angry Men', 'The Pianist']\n",
      "276 ['The Usual Suspects', 'On the Waterfront', 'The Shawshank Redemption', 'Modern Times', 'A Close Shave', 'The African Queen', 'All About Eve', 'Pulp Fiction', 'GoodFellas', 'Rear Window']\n",
      "277 ['Pulp Fiction', 'Cool Hand Luke', 'Roger & Me', 'North by Northwest', 'Little Miss Sunshine', 'Run Lola Run', 'Lawrence of Arabia', 'Cinema Paradiso', 'Harry Potter and the Deathly Hallows: Part 2', '12 Angry Men']\n",
      "278 ['Happiness', 'The Third Man', 'Ran', 'The Shawshank Redemption', 'All About Eve', 'The African Queen', 'City of God', 'Big Night', 'The Treasure of the Sierra Madre', 'Vertigo']\n",
      "279 ['The Godfather', 'City of God', 'Swingers', \"Singin' in the Rain\", 'Gandhi', 'Run Lola Run', 'The Godfather: Part II', 'Three Colors: Red', 'Modern Times', 'Ran']\n",
      "280 ['The Godfather', 'The Maltese Falcon', 'The Lord of the Rings: The Two Towers', 'Chinatown', 'The Philadelphia Story', 'It Happened One Night', 'Roger & Me', 'The Shawshank Redemption', 'The Lord of the Rings: The Return of the King', 'Midnight in Paris']\n",
      "281 ['The Shawshank Redemption', 'The Godfather: Part II', '2001: A Space Odyssey', 'Run Lola Run', 'The Wrong Trousers', 'Three Colors: White', 'The Graduate', 'The Maltese Falcon', 'Raging Bull', 'Ran']\n",
      "282 ['It Happened One Night', 'Life Is Beautiful', 'The African Queen', 'Modern Times', 'Sunset Boulevard', 'Lilo & Stitch', 'The Imitation Game', '12 Angry Men', 'The Third Man', 'Wings of Desire']\n",
      "283 ['All About Eve', 'Gladiator 1992', 'There Will Be Blood', 'Toy Story 3', 'Tom Jones', \"Howl's Moving Castle\", 'Ran', 'Ponyo', 'Lock, Stock and Two Smoking Barrels', 'Heathers']\n",
      "284 ['Cinema Paradiso', 'Sunset Boulevard', 'Modern Times', 'City of God', 'The Maltese Falcon', 'Lock, Stock and Two Smoking Barrels', 'Ran', 'It Happened One Night', 'All About Eve', 'Scott Pilgrim vs. the World']\n",
      "285 ['American History X', 'The Lord of the Rings: The Return of the King', 'Run Lola Run', 'All That Jazz', 'Memento', 'All About Eve', 'Snatch', 'The Lord of the Rings: The Fellowship of the Ring', 'Blade Runner', 'City of God']\n",
      "286 ['The Shawshank Redemption', 'It Happened One Night', 'Modern Times', \"Singin' in the Rain\", 'The Wrong Trousers', 'Raging Bull', 'The Imitation Game', 'The African Queen', 'Lawrence of Arabia', 'The Third Man']\n",
      "287 ['Cinema Paradiso', 'The French Connection', 'The Usual Suspects', 'Pulp Fiction', 'Much Ado About Nothing', 'The Remains of the Day', 'The Shawshank Redemption', 'Happiness', 'The Sixth Sense', 'American Beauty']\n",
      "288 ['The Shawshank Redemption', 'Modern Times', 'Smoke', 'The Prestige', 'Rear Window', 'The Philadelphia Story', 'Crumb', 'Gandhi', 'Roman Holiday', 'The Godfather: Part II']\n",
      "289 ['Modern Times', 'The Shawshank Redemption', 'All About Eve', 'Star Wars', 'City of God', 'The Third Man', 'The Dark Knight', 'The Godfather: Part II', 'Run Lola Run', 'The Sound of Music']\n",
      "290 ['Cinema Paradiso', 'Much Ado About Nothing', 'The Shawshank Redemption', 'The Maltese Falcon', 'Psycho', 'Amadeus', 'Roger & Me', 'A Christmas Story', \"One Flew Over the Cuckoo's Nest\", 'The Graduate']\n",
      "291 ['Cool Hand Luke', 'Roger & Me', 'All About Eve', 'The Maltese Falcon', 'Raging Bull', 'The Godfather', 'Dr. Strangelove or: How I Learned to Stop Worrying and Love the Bomb', 'North by Northwest', 'The Godfather: Part II', 'The African Queen']\n",
      "292 ['Lock, Stock and Two Smoking Barrels', 'All About Eve', 'Modern Times', 'It Happened One Night', 'The Philadelphia Story', 'The Seventh Seal', 'Das Boot', 'Raging Bull', 'Rear Window', 'Ran']\n",
      "293 ['Sunset Boulevard', 'Modern Times', 'Spirited Away', 'The Shawshank Redemption', 'It Happened One Night', 'District 9', 'All About Eve', 'Ran', 'Double Indemnity', 'The Treasure of the Sierra Madre']\n",
      "294 ['It Happened One Night', 'Sunset Boulevard', 'Mister Roberts', 'Cinema Paradiso', 'The Usual Suspects', 'The Producers', 'His Girl Friday', 'Harry Potter and the Half-Blood Prince', 'The Treasure of the Sierra Madre', 'Roger & Me']\n",
      "295 [\"All the President's Men\", 'Roger & Me', 'Three Colors: Red', 'It Happened One Night', 'Sunset Boulevard', 'Cinema Paradiso', 'The African Queen', 'Three Colors: White', 'Swingers', 'The Pianist']\n",
      "296 ['Star Wars', 'Roger & Me', 'All About Eve', 'Taxi Driver', \"Schindler's List\", 'Raging Bull', 'The Shawshank Redemption', 'Blood Simple', 'Raiders of the Lost Ark', 'The Lord of the Rings: The Fellowship of the Ring']\n",
      "297 [\"Schindler's List\", 'The Usual Suspects', 'Run Lola Run', 'Vertigo', 'All About Eve', 'North by Northwest', 'Gandhi', 'Sunset Boulevard', 'Amadeus', 'Swingers']\n",
      "298 ['Cinema Paradiso', 'The Usual Suspects', 'Forrest Gump', 'The Godfather', 'The Maltese Falcon', 'Reservoir Dogs', 'Monty Python and the Holy Grail', 'Apocalypse Now', 'GoodFellas', 'Psycho']\n",
      "299 ['City of God', 'To Kill a Mockingbird', 'The Godfather', 'All About Eve', 'The Third Man', 'The Godfather: Part II', 'Raging Bull', 'The Usual Suspects', 'Smoke', 'The Treasure of the Sierra Madre']\n",
      "300 ['The Shawshank Redemption', 'Roger & Me', 'It Happened One Night', 'Ran', \"Singin' in the Rain\", 'Paths of Glory', 'The Godfather', 'Cinema Paradiso', 'The Usual Suspects', 'On the Waterfront']\n",
      "301 ['Modern Times', 'Cinema Paradiso', 'The Godfather: Part II', 'The Godfather', 'Ran', 'Pulp Fiction', 'Life Is Beautiful', 'Trainspotting', \"One Flew Over the Cuckoo's Nest\", 'All About Eve']\n",
      "302 ['The Shawshank Redemption', \"Schindler's List\", 'Cool Hand Luke', 'The Treasure of the Sierra Madre', \"It's a Wonderful Life\", 'Chinatown', '12 Angry Men', 'Big Night', 'Modern Times', 'To Kill a Mockingbird']\n",
      "303 ['All About Eve', 'City of God', 'Ran', 'On the Waterfront', 'The Philadelphia Story', 'Roger & Me', 'The Maltese Falcon', 'Shadowlands', 'Modern Times', 'Sunset Boulevard']\n",
      "304 ['All About Eve', 'The Godfather: Part II', 'Lawrence of Arabia', 'Amélie', 'Run Lola Run', 'Sunset Boulevard', 'Chinatown', 'The Godfather', 'The Maltese Falcon', 'Dr. Strangelove or: How I Learned to Stop Worrying and Love the Bomb']\n",
      "305 ['The Lord of the Rings: The Return of the King', 'The Godfather', 'The Usual Suspects', 'Modern Times', 'It Happened One Night', 'The Third Man', 'City of God', 'Happiness', 'Cinema Paradiso', \"Schindler's List\"]\n",
      "306 ['The African Queen', 'His Girl Friday', '12 Angry Men', 'Searching for Bobby Fischer', 'A Close Shave', 'Double Indemnity', 'To Kill a Mockingbird', 'Dr. Strangelove or: How I Learned to Stop Worrying and Love the Bomb', 'Mister Roberts', 'Harry Potter and the Deathly Hallows: Part 2']\n",
      "307 ['Run Lola Run', 'Modern Times', 'Cinema Paradiso', 'Ran', 'Gladiator 1992', \"Howl's Moving Castle\", 'The Philadelphia Story', 'Star Wars', 'The African Queen', 'All About Eve']\n",
      "308 ['The Shawshank Redemption', 'The Treasure of the Sierra Madre', 'All About Eve', 'Ran', 'The Imitation Game', 'His Girl Friday', '12 Angry Men', 'Gladiator 1992', 'Raiders of the Lost Ark', 'Crimes and Misdemeanors']\n",
      "309 [\"Singin' in the Rain\", 'On the Waterfront', 'All About Eve', 'Modern Times', 'The Philadelphia Story', 'Roger & Me', 'The Pianist', 'Cinema Paradiso', 'North by Northwest', 'Ran']\n",
      "310 ['Chinatown', 'The Shawshank Redemption', 'The Killing Fields', 'The Godfather', 'The Maltese Falcon', 'Gladiator 1992', 'In Bruges', 'Rear Window', \"All the President's Men\", 'North by Northwest']\n",
      "311 ['Drive', 'RED', 'Eastern Promises', 'The Dark Knight', 'The Grand Budapest Hotel', 'Cinema Paradiso', 'Modern Times', 'The Incredibles', 'Exotica', 'Rabbit-Proof Fence']\n",
      "312 ['Psycho', 'Vertigo', 'Little Big Man', 'Toy Story 3', 'The Seventh Seal', 'The Dark Knight', 'Amores perros', 'Annie Hall', 'The Perks of Being a Wallflower', 'Seven Samurai']\n",
      "313 ['All Quiet on the Western Front', 'Ran', 'The Killer', 'The Third Man', 'Gandhi', '12 Angry Men', 'Eat Drink Man Woman', 'Midnight Express', 'Strangers on a Train', 'About Time']\n",
      "314 ['Raging Bull', 'The Godfather', 'The Godfather: Part II', 'Ran', 'Happiness', 'Cool Hand Luke', 'It Happened One Night', 'The Bridge on the River Kwai', \"Schindler's List\", '12 Angry Men']\n",
      "315 ['The Shawshank Redemption', 'The Usual Suspects', 'Lock, Stock and Two Smoking Barrels', 'It Happened One Night', 'City of God', 'The Big Lebowski', 'The Pianist', 'Castle in the Sky', 'Braveheart', 'The Killing Fields']\n",
      "316 ['It Happened One Night', 'Roger & Me', 'On the Waterfront', 'Rebecca', 'Raging Bull', 'Sunset Boulevard', 'Cinema Paradiso', \"All the President's Men\", \"Howl's Moving Castle\", 'Gandhi']\n",
      "317 ['The African Queen', 'Modern Times', 'The Best Years of Our Lives', \"Singin' in the Rain\", 'The Philadelphia Story', 'The Lord of the Rings: The Fellowship of the Ring', 'The Third Man', 'Sunset Boulevard', 'All About Eve', 'The Maltese Falcon']\n",
      "318 ['Ran', 'Midnight in Paris', 'The Shawshank Redemption', 'The African Queen', 'Modern Times', 'Cinema Paradiso', 'Paths of Glory', 'It Happened One Night', 'Roger & Me', 'The French Connection']\n",
      "319 ['Sunset Boulevard', 'The Shawshank Redemption', 'Raging Bull', 'Crumb', 'The Treasure of the Sierra Madre', 'Taxi Driver', 'The Philadelphia Story', 'Swingers', 'Mr. Smith Goes to Washington', 'The Lord of the Rings: The Fellowship of the Ring']\n",
      "320 ['It Happened One Night', 'The Godfather', 'The African Queen', 'Chinatown', 'Big Night', 'The Dark Knight', 'On the Waterfront', 'All About Eve', 'Cool Hand Luke', 'Raging Bull']\n",
      "321 ['City of God', 'Cool Hand Luke', 'The Philadelphia Story', \"Singin' in the Rain\", 'The Treasure of the Sierra Madre', 'Scott Pilgrim vs. the World', 'The Shawshank Redemption', 'Strangers on a Train', 'The African Queen', 'The Godfather']\n",
      "322 ['The Maltese Falcon', 'The Shawshank Redemption', 'Cool Hand Luke', 'Modern Times', 'Run Lola Run', 'American Beauty', 'It Happened One Night', 'Psycho', 'Raging Bull', 'The Godfather: Part II']\n",
      "323 ['Modern Times', 'The African Queen', 'Cinema Paradiso', 'It Happened One Night', 'The Third Man', 'Roger & Me', 'Notorious', \"Singin' in the Rain\", 'The Maltese Falcon', 'The Godfather: Part II']\n",
      "324 ['Modern Times', 'It Happened One Night', 'All About Eve', \"Singin' in the Rain\", 'The Seventh Seal', 'Sunset Boulevard', 'The African Queen', 'On the Waterfront', '12 Angry Men', 'Psycho']\n",
      "325 ['The Godfather', 'Butch Cassidy and the Sundance Kid', 'Raging Bull', 'The Godfather: Part II', 'Star Wars', 'The Shawshank Redemption', 'Fargo', 'Reservoir Dogs', 'Amores perros', 'Pulp Fiction']\n",
      "326 ['Run Lola Run', 'Modern Times', \"Howl's Moving Castle\", 'Rebecca', 'The Godfather', 'The Shawshank Redemption', 'Chinatown', 'The Usual Suspects', 'Pulp Fiction', 'Butch Cassidy and the Sundance Kid']\n",
      "327 ['Sunset Boulevard', 'All About Eve', 'Roger & Me', 'Cool Hand Luke', 'The African Queen', 'The Godfather: Part II', 'It Happened One Night', 'The Shawshank Redemption', 'Crimes and Misdemeanors', 'Cinema Paradiso']\n",
      "328 ['Sunset Boulevard', 'It Happened One Night', 'The Philadelphia Story', 'Modern Times', 'All About Eve', 'Casablanca', 'The Godfather: Part II', 'Cinema Paradiso', 'Midnight in Paris', 'Psycho']\n",
      "329 ['The Shawshank Redemption', 'Roger & Me', 'It Happened One Night', 'Modern Times', 'Pulp Fiction', 'All About Eve', 'His Girl Friday', 'Cool Hand Luke', 'The Godfather: Part II', 'Raiders of the Lost Ark']\n",
      "330 ['Life Is Beautiful', 'Modern Times', 'The Godfather', 'The Philadelphia Story', 'City of God', 'It Happened One Night', 'The African Queen', 'Ran', 'Annie Hall', 'Gladiator 1992']\n",
      "331 ['Star Wars', 'North by Northwest', 'Three Colors: Red', 'Raging Bull', \"Singin' in the Rain\", 'Modern Times', 'American Beauty', 'The Empire Strikes Back', 'The Shawshank Redemption', 'The Sixth Sense']\n",
      "332 ['The African Queen', 'The Shawshank Redemption', 'Lawrence of Arabia', 'To Kill a Mockingbird', 'The Imitation Game', 'The Treasure of the Sierra Madre', 'The Philadelphia Story', 'On the Waterfront', 'There Will Be Blood', 'City of God']\n",
      "333 ['Modern Times', 'On the Waterfront', 'Ran', 'It Happened One Night', 'Sunset Boulevard', 'Roger & Me', 'Good Will Hunting', 'City of God', 'My Neighbor Totoro', 'The Remains of the Day']\n",
      "334 ['Stand by Me', 'On the Waterfront', 'The Third Man', 'Chinatown', 'Happiness', 'Mr. Smith Goes to Washington', 'The African Queen', 'Sunset Boulevard', 'It Happened One Night', 'Ran']\n",
      "335 [\"Schindler's List\", 'The Shawshank Redemption', 'Raging Bull', 'Chinatown', 'The Pianist', 'Cool Hand Luke', 'All About Eve', 'Run Lola Run', 'Rear Window', 'Harry Potter and the Deathly Hallows: Part 2']\n",
      "336 [\"All the President's Men\", 'Cinema Paradiso', 'The Shawshank Redemption', 'The Dark Knight', 'Big Night', 'The Usual Suspects', 'Midnight Cowboy', 'Waking Ned', 'The Pianist', 'Three Colors: Red']\n",
      "337 ['A Close Shave', 'The Shawshank Redemption', 'The Wrong Trousers', 'Three Colors: Blue', 'Roger & Me', 'Das Boot', 'Ran', 'Lock, Stock and Two Smoking Barrels', 'Fargo', 'The Usual Suspects']\n",
      "338 ['Casablanca', 'All About Eve', 'Modern Times', 'The Godfather', 'It Happened One Night', 'The African Queen', 'The Godfather: Part II', 'Raging Bull', 'North by Northwest', 'The Departed']\n",
      "339 ['It Happened One Night', 'Cinema Paradiso', 'Cool Hand Luke', 'The African Queen', 'Modern Times', 'Tom Jones', 'The Treasure of the Sierra Madre', 'Raging Bull', 'Seven Samurai', 'Ran']\n",
      "340 ['Roger & Me', 'The Third Man', 'It Happened One Night', \"Singin' in the Rain\", 'On the Waterfront', 'The Maltese Falcon', 'Sunset Boulevard', 'Ran', 'Modern Times', 'The Treasure of the Sierra Madre']\n",
      "341 ['Three Colors: Red', 'The Lord of the Rings: The Fellowship of the Ring', 'The Shawshank Redemption', 'Ran', 'On the Waterfront', 'The Princess Bride', 'The Usual Suspects', 'The Pianist', 'Raiders of the Lost Ark', 'The Dark Knight']\n",
      "342 ['Cinema Paradiso', 'The African Queen', 'It Happened One Night', 'Modern Times', 'Amélie', 'Smoke', 'Roger & Me', 'Taxi Driver', 'All About Eve', 'On the Waterfront']\n",
      "343 [\"Schindler's List\", 'All About Eve', \"Singin' in the Rain\", 'North by Northwest', 'The Godfather: Part II', 'Sunset Boulevard', 'Cinema Paradiso', 'The Shawshank Redemption', 'Roger & Me', 'The Usual Suspects']\n",
      "344 ['Memento', 'The Godfather', 'Lock, Stock and Two Smoking Barrels', 'Life Is Beautiful', 'Amélie', 'The Lord of the Rings: The Two Towers', 'City of God', 'The Godfather: Part II', 'Run Lola Run', 'Fargo']\n",
      "345 ['All About Eve', 'Dr. Strangelove or: How I Learned to Stop Worrying and Love the Bomb', 'The Dark Knight', 'Reservoir Dogs', 'The Best Years of Our Lives', 'Little Big Man', 'Das Boot', 'The Maltese Falcon', \"Howl's Moving Castle\", 'Amélie']\n",
      "346 ['City of God', 'Gladiator 1992', 'The Grand Budapest Hotel', 'High Fidelity', 'His Girl Friday', 'On the Waterfront', 'The Philadelphia Story', 'Spartacus', 'The Quiet American', 'Taxi Driver']\n",
      "347 ['Cinema Paradiso', 'The Killing Fields', 'Her', 'On the Waterfront', 'Roger & Me', 'It Happened One Night', \"All the President's Men\", 'Chinatown', 'Stand by Me', 'Fight Club']\n",
      "348 ['The African Queen', 'Mr. Smith Goes to Washington', 'Ran', 'The Dark Knight', 'The Princess Bride', 'The Shawshank Redemption', 'Modern Times', 'Midnight in Paris', 'It Happened One Night', 'Hoop Dreams']\n",
      "349 ['Sunset Boulevard', 'Ran', 'The Maltese Falcon', 'City of God', 'Inception', 'On the Waterfront', 'Swingers', 'Chinatown', 'Modern Times', 'Tom Jones']\n",
      "350 ['The Lord of the Rings: The Two Towers', 'Taxi Driver', 'Roger & Me', 'All About Eve', 'When We Were Kings', 'Paths of Glory', 'It Happened One Night', 'Monty Python and the Holy Grail', 'The Lord of the Rings: The Return of the King', 'Amadeus']\n",
      "351 ['The Shawshank Redemption', 'The Godfather: Part II', 'It Happened One Night', 'Raging Bull', 'Cinema Paradiso', 'The Third Man', 'Fight Club', 'Happiness', 'Star Wars', 'GoodFellas']\n",
      "352 ['Modern Times', 'Sunset Boulevard', 'Roger & Me', 'Cinema Paradiso', 'A Close Shave', 'His Girl Friday', 'All About Eve', 'Psycho', 'Harry Potter and the Deathly Hallows: Part 2', 'Butch Cassidy and the Sundance Kid']\n",
      "353 ['Lawrence of Arabia', 'The Philadelphia Story', 'Modern Times', 'The African Queen', 'Happiness', 'Run Lola Run', 'Ran', 'The Godfather: Part II', 'Roger & Me', 'Touch of Evil']\n",
      "354 ['The Usual Suspects', 'The Maltese Falcon', 'All About Eve', 'The Lord of the Rings: The Fellowship of the Ring', 'Chinatown', 'Big Night', \"Singin' in the Rain\", 'Seven Samurai', 'The Godfather', 'The Third Man']\n",
      "355 ['Raging Bull', 'Roger & Me', \"All the President's Men\", \"Ferris Bueller's Day Off\", 'Seven Samurai', 'The Pianist', 'GoodFellas', 'Cinema Paradiso', 'The Killing Fields', 'A Close Shave']\n",
      "356 [\"Singin' in the Rain\", 'The African Queen', 'The Pianist', 'Hoop Dreams', 'The Lord of the Rings: The Return of the King', 'Paprika', 'Notorious', 'Modern Times', 'A Close Shave', 'Psycho']\n",
      "357 ['Happiness', 'The Godfather', 'The Empire Strikes Back', 'Roger & Me', 'Taxi Driver', 'The Lord of the Rings: The Two Towers', 'The Lord of the Rings: The Fellowship of the Ring', 'Crumb', 'Three Colors: Blue', 'All About Eve']\n",
      "358 ['Dr. Strangelove or: How I Learned to Stop Worrying and Love the Bomb', 'The Wild Bunch', 'Close Encounters of the Third Kind', 'Ran', 'Life of Brian', 'Being John Malkovich', 'Apocalypse Now', 'Her', 'Once Upon a Time in the West', 'Memento']\n",
      "359 ['All About Eve', 'Vertigo', 'Cinema Paradiso', 'Psycho', 'Taxi Driver', 'The Usual Suspects', 'The African Queen', 'Paths of Glory', 'Chinatown', \"Singin' in the Rain\"]\n",
      "360 ['The Shawshank Redemption', 'The African Queen', 'All About Eve', 'Three Colors: Blue', 'Roger & Me', 'It Happened One Night', 'Tom Jones', 'The Philadelphia Story', \"Singin' in the Rain\", 'Donnie Darko']\n",
      "361 ['The Shawshank Redemption', 'Mister Roberts', 'American History X', 'A Close Shave', 'Casablanca', 'The Philadelphia Story', 'Raging Bull', 'Sunset Boulevard', \"Schindler's List\", 'Roman Holiday']\n",
      "362 ['All About Eve', 'The Philadelphia Story', 'Gladiator 1992', 'City of God', 'The Treasure of the Sierra Madre', 'It Happened One Night', 'The Seventh Seal', 'Three Colors: Red', 'Modern Times', 'A Close Shave']\n",
      "363 ['The Godfather', 'Rear Window', 'Searching for Bobby Fischer', 'Mister Roberts', 'Modern Times', 'Sunset Boulevard', 'The Conversation', 'Casablanca', 'The African Queen', 'Raging Bull']\n",
      "364 ['My Fair Lady', 'Mister Roberts', 'Roman Holiday', 'Brazil', 'Snatch', 'The Philadelphia Story', 'The Producers', 'Lawrence of Arabia', 'Sunset Boulevard', 'The Great Escape']\n",
      "365 ['The African Queen', 'Roger & Me', 'Raiders of the Lost Ark', 'Lawrence of Arabia', 'It Happened One Night', 'Happiness', 'Sunset Boulevard', 'The Shawshank Redemption', 'Indiana Jones and the Last Crusade', 'Inherit the Wind']\n",
      "366 ['Psycho', 'Sunset Boulevard', \"One Flew Over the Cuckoo's Nest\", 'The Pianist', 'The Godfather: Part II', 'Pulp Fiction', 'City of God', 'Cool Hand Luke', 'To Kill a Mockingbird', 'North by Northwest']\n",
      "367 ['Pulp Fiction', 'The Shawshank Redemption', 'The Godfather: Part II', 'All About Eve', 'The Godfather', 'Crimes and Misdemeanors', 'The Usual Suspects', 'Gladiator 1992', '12 Angry Men', 'The Philadelphia Story']\n",
      "368 ['The Prestige', \"Singin' in the Rain\", 'The Shawshank Redemption', '12 Angry Men', 'City of God', 'The Philadelphia Story', 'The Godfather', 'The Godfather: Part II', \"One Flew Over the Cuckoo's Nest\", 'Roger & Me']\n",
      "369 ['City of God', 'Lawrence of Arabia', '12 Angry Men', 'Cool Hand Luke', 'Roger & Me', 'Amélie', \"Singin' in the Rain\", 'Raiders of the Lost Ark', 'The Godfather', 'M']\n",
      "370 ['Roger & Me', 'The Godfather', 'The Godfather: Part II', 'Cinema Paradiso', 'L.A. Confidential', \"All the President's Men\", 'The Usual Suspects', 'Vertigo', 'Rear Window', 'The Graduate']\n",
      "371 [\"Schindler's List\", 'Cinema Paradiso', 'Tom Jones', 'Modern Times', \"It's a Wonderful Life\", 'Fantastic Mr. Fox', 'Strangers on a Train', 'Midnight in Paris', 'Exotica', 'The Seventh Seal']\n",
      "372 ['Sunset Boulevard', 'Raiders of the Lost Ark', 'The Philadelphia Story', 'The Maltese Falcon', 'Modern Times', 'All About Eve', 'Crimes and Misdemeanors', 'The Usual Suspects', 'The Shawshank Redemption', 'The Matrix']\n",
      "373 ['Run Lola Run', 'The Player', 'All About Eve', 'The Maltese Falcon', 'The Killer', 'Three Colors: Red', 'Ran', 'Spirited Away', 'Dr. Strangelove or: How I Learned to Stop Worrying and Love the Bomb', 'Full Metal Jacket']\n",
      "374 ['Modern Times', 'The Shawshank Redemption', 'A Close Shave', 'The Godfather', 'The Sixth Sense', 'The Godfather: Part II', 'The Third Man', 'The Wrong Trousers', 'All About Eve', 'Sunset Boulevard']\n",
      "375 ['The Shawshank Redemption', 'The Treasure of the Sierra Madre', 'It Happened One Night', 'Ran', 'The Empire Strikes Back', 'The Producers', 'Butch Cassidy and the Sundance Kid', 'The Princess Bride', 'Star Wars', 'On the Waterfront']\n",
      "376 ['The Maltese Falcon', 'Raging Bull', \"Singin' in the Rain\", 'The Killer', 'Raiders of the Lost Ark', 'The African Queen', 'Tom Jones', 'Big Night', 'Mister Roberts', \"All the President's Men\"]\n",
      "377 ['The Godfather', 'Modern Times', 'Cool Hand Luke', 'The Godfather: Part II', 'Sunset Boulevard', 'The Shawshank Redemption', 'All About Eve', 'There Will Be Blood', 'The Philadelphia Story', 'To Kill a Mockingbird']\n",
      "378 ['Cool Hand Luke', 'The Godfather: Part II', 'There Will Be Blood', 'The Godfather', 'It Happened One Night', 'Cinema Paradiso', 'Lawrence of Arabia', 'Life of Brian', 'Butch Cassidy and the Sundance Kid', 'Gladiator 1992']\n",
      "379 ['It Happened One Night', 'The Philadelphia Story', 'The Godfather: Part II', 'North by Northwest', 'Mister Roberts', 'Cinema Paradiso', 'City of God', 'How to Train Your Dragon', \"Singin' in the Rain\", 'All About Eve']\n",
      "380 ['Psycho', 'It Happened One Night', 'The Maltese Falcon', 'On the Waterfront', 'Modern Times', 'The Wolf of Wall Street', 'Taxi Driver', 'Three Colors: Red', 'Chinatown', 'Crimes and Misdemeanors']\n",
      "381 ['City of God', 'American History X', 'The Third Man', 'Raiders of the Lost Ark', 'Midnight Cowboy', 'All About Eve', 'When We Were Kings', 'Das Boot', 'Gladiator 1992', 'Annie Hall']\n",
      "382 ['All About Eve', 'City of God', 'Modern Times', 'Gandhi', 'The Producers', 'Return of the Jedi', 'The Wizard of Oz', 'Lock, Stock and Two Smoking Barrels', 'The Intouchables', 'Rabbit-Proof Fence']\n",
      "383 ['Fight Club', 'The Shawshank Redemption', 'Modern Times', 'The Godfather', 'The Philadelphia Story', 'The Lord of the Rings: The Two Towers', 'The Lord of the Rings: The Return of the King', 'Reservoir Dogs', 'Roger & Me', 'Butch Cassidy and the Sundance Kid']\n",
      "384 ['Raging Bull', 'The Shawshank Redemption', 'Taxi Driver', 'Citizen Kane', 'Happiness', 'GoodFellas', 'All About Eve', 'The African Queen', 'The Graduate', 'Roger & Me']\n",
      "385 ['Roger & Me', 'His Girl Friday', 'Sunset Boulevard', 'A Close Shave', 'Mr. Smith Goes to Washington', 'Casablanca', 'The Godfather', 'Memento', \"Singin' in the Rain\", 'Star Wars']\n",
      "386 ['The Godfather', 'Chinatown', 'Rear Window', 'The Third Man', 'Casablanca', 'Young Frankenstein', 'Citizen Kane', 'The Silence of the Lambs', 'All About Eve', 'The Maltese Falcon']\n",
      "387 ['The Lord of the Rings: The Fellowship of the Ring', 'Eat Drink Man Woman', 'Memento', 'Seven Samurai', 'The Lord of the Rings: The Return of the King', 'A Close Shave', 'Sunset Boulevard', 'Roger & Me', 'Chinatown', 'Mystery Science Theater 3000: The Movie']\n",
      "388 ['The Conversation', 'Smoke', 'Harry Potter and the Deathly Hallows: Part 2', \"Who's Afraid of Virginia Woolf?\", 'Inception', 'Exotica', 'On the Waterfront', 'A Close Shave', 'In the Bedroom', 'Deliverance']\n",
      "389 ['Roger & Me', 'Butch Cassidy and the Sundance Kid', 'The Godfather', 'Casablanca', 'Star Wars', \"Schindler's List\", \"Singin' in the Rain\", 'The Lord of the Rings: The Fellowship of the Ring', 'The Lord of the Rings: The Return of the King', 'Fargo']\n",
      "390 ['Cinema Paradiso', 'It Happened One Night', 'To Kill a Mockingbird', 'Delicatessen', 'City of God', 'Happiness', 'Amélie', 'The Maltese Falcon', 'The Bridge on the River Kwai', 'Sunset Boulevard']\n",
      "391 ['The Godfather', 'The Godfather: Part II', 'Return of the Jedi', 'Lock, Stock and Two Smoking Barrels', 'The Empire Strikes Back', 'The Conversation', 'This Is Spinal Tap', 'The Game', 'On the Waterfront', 'Roger & Me']\n",
      "392 ['It Happened One Night', 'Raging Bull', 'Taxi Driver', 'The Sixth Sense', 'The Shawshank Redemption', 'Modern Times', 'All About Eve', 'Roger & Me', 'Memento', 'Ran']\n",
      "393 ['Taxi Driver', 'Ran', 'The Usual Suspects', 'Fargo', \"Singin' in the Rain\", 'All About Eve', 'Roger & Me', 'Lawrence of Arabia', 'Chinatown', 'Harry Potter and the Deathly Hallows: Part 2']\n",
      "394 ['American History X', 'Fight Club', 'Lock, Stock and Two Smoking Barrels', 'Modern Times', 'On the Waterfront', 'The Grand Budapest Hotel', 'Cinema Paradiso', 'The Fog of War', 'Waking Ned', 'City of God']\n",
      "395 ['Ran', \"Schindler's List\", 'All About Eve', 'City of God', 'The Third Man', 'Patton', 'Psycho', \"One Flew Over the Cuckoo's Nest\", 'Midnight in Paris', 'It Happened One Night']\n",
      "396 ['The Godfather', 'Star Wars', 'North by Northwest', 'Roger & Me', 'American Beauty', 'The Maltese Falcon', 'GoodFellas', 'Citizen Kane', \"One Flew Over the Cuckoo's Nest\", 'The Godfather: Part II']\n",
      "397 ['The African Queen', 'The Philadelphia Story', 'It Happened One Night', 'The Godfather', 'The Empire Strikes Back', \"Singin' in the Rain\", 'The Princess Bride', 'The Usual Suspects', 'A Close Shave', 'City of God']\n",
      "398 ['The Philadelphia Story', 'Roger & Me', 'On the Waterfront', 'The African Queen', 'Taxi Driver', 'The Pianist', 'All About Eve', 'Empire of the Sun', 'Casablanca', 'City of God']\n",
      "399 ['The Treasure of the Sierra Madre', 'Chinatown', 'Vertigo', 'The Producers', 'My Neighbor Totoro', 'All About Eve', 'The Philadelphia Story', 'The Maltese Falcon', 'Delicatessen', 'Sunset Boulevard']\n",
      "400 [\"Singin' in the Rain\", 'Chinatown', 'The Godfather', 'Ran', 'Rear Window', 'Taxi Driver', 'The Conversation', 'All About Eve', 'Hoop Dreams', 'Citizen Kane']\n",
      "401 ['Cinema Paradiso', 'Sense and Sensibility', 'The Usual Suspects', 'Pulp Fiction', 'The Silence of the Lambs', 'The Shawshank Redemption', 'Trainspotting', 'The Princess Bride', 'Happiness', 'American Beauty']\n",
      "402 ['The Shawshank Redemption', 'It Happened One Night', 'On the Waterfront', 'Cinema Paradiso', 'Sunset Boulevard', 'The Godfather: Part II', 'All About Eve', 'Roger & Me', 'Mister Roberts', 'The Maltese Falcon']\n",
      "403 ['The Godfather', 'Modern Times', 'The Godfather: Part II', 'City of God', 'Sunset Boulevard', 'Chinatown', 'Raging Bull', 'Citizen Kane', 'Ran', 'Gladiator 1992']\n",
      "404 ['The Shawshank Redemption', 'The Godfather: Part II', 'In the Name of the Father', 'Cinema Paradiso', 'The Philadelphia Story', 'Mister Roberts', 'City of God', 'Smoke', 'Ran', 'Lock, Stock and Two Smoking Barrels']\n",
      "405 ['There Will Be Blood', 'Sunset Boulevard', 'Gandhi', 'The Philadelphia Story', 'The Shawshank Redemption', 'The Sound of Music', 'Double Indemnity', 'Mister Roberts', 'The Lives of Others', \"One Flew Over the Cuckoo's Nest\"]\n",
      "406 ['The African Queen', 'The Shawshank Redemption', 'The Treasure of the Sierra Madre', 'Harvey', 'Roger & Me', \"Singin' in the Rain\", 'Delicatessen', \"Schindler's List\", 'On the Waterfront', 'The Best Years of Our Lives']\n",
      "407 ['Cinema Paradiso', 'The Godfather', 'Life Is Beautiful', 'Sunset Boulevard', 'Chinatown', 'The Godfather: Part II', \"One Flew Over the Cuckoo's Nest\", 'Lock, Stock and Two Smoking Barrels', 'Roger & Me', 'North by Northwest']\n",
      "408 ['The Lord of the Rings: The Return of the King', 'The Shawshank Redemption', 'Life Is Beautiful', 'The Philadelphia Story', 'All About Eve', 'The Lord of the Rings: The Two Towers', 'The Lord of the Rings: The Fellowship of the Ring', \"It's a Wonderful Life\", 'The Deer Hunter', 'North by Northwest']\n",
      "409 ['Star Wars', 'The Empire Strikes Back', 'Raiders of the Lost Ark', 'The Lord of the Rings: The Two Towers', 'The Silence of the Lambs', \"Schindler's List\", 'Chinatown', 'The Lord of the Rings: The Fellowship of the Ring', \"All the President's Men\", 'The Lord of the Rings: The Return of the King']\n",
      "410 ['City of God', 'Sunset Boulevard', 'The Pianist', 'Lock, Stock and Two Smoking Barrels', \"Singin' in the Rain\", 'Midnight in Paris', 'The Philadelphia Story', 'On the Waterfront', 'Roger & Me', 'Gladiator 1992']\n",
      "411 ['Fight Club', 'The Silence of the Lambs', 'The Dark Knight', 'A Close Shave', 'The Matrix', 'Reservoir Dogs', 'Das Boot', 'The Prestige', 'Star Wars', 'Mary Poppins']\n",
      "412 ['Stand by Me', 'It Happened One Night', 'Waking Ned', 'The Dark Knight', 'Raging Bull', 'The Lord of the Rings: The Return of the King', 'Pirates of the Caribbean: The Curse of the Black Pearl', 'Papillon', 'On the Waterfront', 'Blood Simple']\n",
      "413 ['City of God', 'Sunset Boulevard', 'Modern Times', 'It Happened One Night', 'The Maltese Falcon', 'Cool Hand Luke', 'The Best Years of Our Lives', 'The Godfather', 'To Kill a Mockingbird', 'The African Queen']\n",
      "414 ['Casablanca', 'The Godfather', \"One Flew Over the Cuckoo's Nest\", \"Singin' in the Rain\", 'The Matrix', 'City of God', 'The Philadelphia Story', 'All About Eve', 'Fight Club', 'The Empire Strikes Back']\n",
      "415 ['Modern Times', 'It Happened One Night', 'The Shawshank Redemption', 'The Philadelphia Story', 'The Maltese Falcon', 'Ran', 'Little Miss Sunshine', 'On the Waterfront', 'The Lord of the Rings: The Fellowship of the Ring', 'My Neighbor Totoro']\n",
      "416 ['City of God', 'Modern Times', 'Lock, Stock and Two Smoking Barrels', 'Ran', 'Sunset Boulevard', 'Roger & Me', 'M', 'Rear Window', 'The Treasure of the Sierra Madre', \"Singin' in the Rain\"]\n",
      "417 ['Three Colors: Red', 'The Killing Fields', 'Chinatown', 'All About Eve', 'City of God', 'Night of the Living Dead', 'Roger & Me', 'The Maltese Falcon', 'Ran', 'The Shawshank Redemption']\n",
      "418 ['The Shawshank Redemption', \"Schindler's List\", 'The Bourne Identity', 'The Philadelphia Story', 'The Remains of the Day', 'Star Wars', 'It Happened One Night', 'The Producers', 'Dallas Buyers Club', 'Three Colors: Blue']\n",
      "419 ['The Shawshank Redemption', 'The African Queen', 'The Treasure of the Sierra Madre', 'His Girl Friday', \"All the President's Men\", 'Sunset Boulevard', 'Y Tu Mamá También', 'Pulp Fiction', \"Singin' in the Rain\", 'All About Eve']\n",
      "420 ['Pulp Fiction', 'Raging Bull', 'A Close Shave', 'The Godfather', 'Modern Times', 'Fargo', 'Gladiator 1992', 'The Shawshank Redemption', 'The Godfather: Part II', 'The Sixth Sense']\n",
      "421 ['The Lord of the Rings: The Return of the King', 'Pulp Fiction', 'The Lord of the Rings: The Fellowship of the Ring', 'Cool Hand Luke', 'It Happened One Night', 'Memento', \"Schindler's List\", 'Roger & Me', 'The African Queen', 'Modern Times']\n",
      "422 ['Annie Hall', 'Roger & Me', 'It Happened One Night', 'Three Colors: Red', 'Taxi Driver', 'The Usual Suspects', 'Eternal Sunshine of the Spotless Mind', \"All the President's Men\", 'All About Eve', 'Life of Brian']\n",
      "423 ['The Usual Suspects', 'American Beauty', 'The Treasure of the Sierra Madre', 'All About Eve', 'Hoop Dreams', 'Casablanca', 'The General', 'The Killing Fields', 'Dog Day Afternoon', 'Roger & Me']\n",
      "424 ['The Shawshank Redemption', 'On the Waterfront', 'His Girl Friday', 'It Happened One Night', 'North by Northwest', 'The Usual Suspects', 'To Kill a Mockingbird', 'The Professional', 'Happiness', 'All About Eve']\n",
      "425 ['A Close Shave', 'Psycho', \"Singin' in the Rain\", 'All About Eve', 'The Third Man', 'The Philadelphia Story', 'The Killing Fields', 'City of God', 'The Dark Knight', 'Charade']\n",
      "426 ['City of God', 'Raging Bull', 'North by Northwest', 'Three Colors: Red', 'Sunset Boulevard', 'M', 'The Third Man', 'Cinema Paradiso', 'All About Eve', 'It Happened One Night']\n",
      "427 ['A Close Shave', 'Star Wars', \"One Flew Over the Cuckoo's Nest\", \"Singin' in the Rain\", 'Chinatown', 'Midnight in Paris', 'Swingers', 'The Pianist', 'It Happened One Night', 'The Shawshank Redemption']\n",
      "428 ['Chinatown', 'Vertigo', 'The Maltese Falcon', 'Cool Hand Luke', 'Citizen Kane', 'L.A. Confidential', 'City of God', 'Alien', 'Blade Runner', 'Aliens']\n",
      "429 [\"Singin' in the Rain\", 'The Godfather', 'Swingers', 'City of God', 'It Happened One Night', 'To Kill a Mockingbird', 'The Usual Suspects', 'Roger & Me', 'In the Name of the Father', 'The Seventh Seal']\n",
      "430 ['All About Eve', 'Letters from Iwo Jima', 'Taxi Driver', 'The Remains of the Day', 'The African Queen', 'Little Big Man', 'Annie Hall', 'Rushmore', 'Cool Hand Luke', 'Ran']\n",
      "431 ['Sunset Boulevard', 'City of God', 'Smoke', 'His Girl Friday', 'The Godfather', 'It Happened One Night', 'All About Eve', 'Y Tu Mamá También', 'Cinema Paradiso', 'Gladiator 1992']\n",
      "432 [\"Schindler's List\", 'Star Wars', 'Roger & Me', 'The Lord of the Rings: The Two Towers', 'The Lord of the Rings: The Fellowship of the Ring', 'All About Eve', \"All the President's Men\", 'His Girl Friday', 'Psycho', 'Cinema Paradiso']\n",
      "433 ['Chinatown', 'The African Queen', 'The Maltese Falcon', 'M', 'Psycho', 'The Shining', 'Harvey', 'Rear Window', 'Ran', \"Singin' in the Rain\"]\n",
      "434 ['The Killing Fields', 'All About Eve', 'Being John Malkovich', 'Memento', 'Three Colors: White', 'Psycho', 'Strangers on a Train', 'Five Easy Pieces', 'Se7en', 'Seven Samurai']\n",
      "435 ['The Shawshank Redemption', 'The Lord of the Rings: The Fellowship of the Ring', 'The African Queen', 'The Philadelphia Story', 'All About Eve', 'The Maltese Falcon', 'On the Waterfront', 'Raging Bull', 'Raiders of the Lost Ark', 'Mister Roberts']\n",
      "436 ['Cool Hand Luke', 'Chinatown', 'The Killing Fields', 'The African Queen', 'Delicatessen', 'The Treasure of the Sierra Madre', 'All About Eve', \"Singin' in the Rain\", 'The Shawshank Redemption', 'The Empire Strikes Back']\n",
      "437 ['Modern Times', 'Citizen Kane', \"Singin' in the Rain\", 'The Third Man', 'Raging Bull', 'All About Eve', 'His Girl Friday', 'The Godfather', 'Sunset Boulevard', 'North by Northwest']\n",
      "438 ['The African Queen', 'Run Lola Run', 'Cool Hand Luke', 'His Girl Friday', 'Psycho', 'All About Eve', 'The Treasure of the Sierra Madre', 'City of God', 'Ran', 'Lawrence of Arabia']\n",
      "439 ['Fight Club', \"One Flew Over the Cuckoo's Nest\", 'The Matrix', 'Taxi Driver', 'City of God', 'The Maltese Falcon', 'Trainspotting', 'GoodFellas', 'Sunset Boulevard', 'Once Upon a Time in the West']\n",
      "440 ['City of God', 'Sunset Boulevard', \"Schindler's List\", 'Chinatown', 'The Godfather', 'Roger & Me', \"Ferris Bueller's Day Off\", 'Night of the Living Dead', \"All the President's Men\", 'All About Eve']\n",
      "441 ['All About Eve', 'The Godfather: Part II', 'Sunset Boulevard', 'The Philadelphia Story', 'Mister Roberts', 'Vertigo', \"Singin' in the Rain\", 'The Graduate', 'The Usual Suspects', 'Ran']\n",
      "442 ['Inception', 'Modern Times', 'The African Queen', \"All the President's Men\", 'North by Northwest', 'Three Colors: Blue', 'A Close Shave', 'The Pianist', 'The Graduate', 'On the Waterfront']\n",
      "443 ['Cinema Paradiso', 'The Usual Suspects', 'Pulp Fiction', 'Trainspotting', 'Happiness', 'American Beauty', 'Fight Club', 'The Godfather', 'Vertigo', 'The Maltese Falcon']\n",
      "444 ['Pulp Fiction', 'The Shawshank Redemption', 'Fargo', \"Schindler's List\", 'Raging Bull', 'The Godfather', 'A Close Shave', 'The Usual Suspects', 'This Is Spinal Tap', 'Chinatown']\n",
      "445 ['Cinema Paradiso', 'It Happened One Night', 'The African Queen', 'Sunset Boulevard', 'In Bruges', 'On the Waterfront', 'Modern Times', 'Good Will Hunting', 'Fight Club', 'To Kill a Mockingbird']\n",
      "446 ['Cinema Paradiso', 'Gandhi', 'The Godfather', 'The Maltese Falcon', 'Psycho', 'This Is Spinal Tap', 'Roger & Me', \"One Flew Over the Cuckoo's Nest\", 'The Godfather: Part II', 'Three Colors: Red']\n",
      "447 ['It Happened One Night', 'Ran', 'The Maltese Falcon', 'Run Lola Run', 'Raging Bull', 'Butch Cassidy and the Sundance Kid', 'The Best Years of Our Lives', 'On the Waterfront', 'City of God', 'Cool Hand Luke']\n",
      "448 ['The Usual Suspects', 'Fight Club', 'The Godfather', 'The Godfather: Part II', 'Taxi Driver', 'Ran', 'Raging Bull', 'The Prestige', 'City of God', 'All About Eve']\n",
      "449 ['The Maltese Falcon', 'Happiness', 'M', 'North by Northwest', 'The Usual Suspects', 'It Happened One Night', 'Raging Bull', 'The Godfather', \"Who's Afraid of Virginia Woolf?\", 'Ran']\n",
      "450 ['Modern Times', 'There Will Be Blood', 'Amadeus', 'A Close Shave', 'The African Queen', 'Gladiator 1992', 'The Treasure of the Sierra Madre', 'The Remains of the Day', 'To Kill a Mockingbird', 'Love and Death']\n",
      "451 ['The Shawshank Redemption', 'Cool Hand Luke', 'Her', 'The Maltese Falcon', 'On the Waterfront', 'Sunset Boulevard', 'The Godfather', 'Inglourious Basterds', 'Psycho', 'The Godfather: Part II']\n",
      "452 ['The Dark Knight', 'His Girl Friday', 'Roman Holiday', 'Ran', 'Strangers on a Train', 'Hoop Dreams', 'The Wrong Trousers', 'Gladiator 1992', 'Mister Roberts', 'A Close Shave']\n",
      "453 ['Happiness', 'It Happened One Night', 'The Third Man', 'Modern Times', 'Roger & Me', 'Life Is Beautiful', 'Sunset Boulevard', 'All About Eve', 'City of God', 'North by Northwest']\n",
      "454 ['Modern Times', 'The Maltese Falcon', 'On the Waterfront', 'A Close Shave', 'Cool Hand Luke', 'Double Indemnity', 'Ran', 'Sunset Boulevard', 'The Philadelphia Story', 'The African Queen']\n",
      "455 ['Cinema Paradiso', 'Modern Times', 'Cool Hand Luke', 'The Sixth Sense', 'The African Queen', 'Sunset Boulevard', 'Mister Roberts', 'All About Eve', 'The Shawshank Redemption', 'Lock, Stock and Two Smoking Barrels']\n",
      "456 ['Roger & Me', 'Sunset Boulevard', 'It Happened One Night', 'Modern Times', 'The Seventh Seal', 'The Shawshank Redemption', 'The Godfather', 'All About Eve', 'Casablanca', 'Cinema Paradiso']\n",
      "457 ['The Godfather: Part II', 'Dr. Strangelove or: How I Learned to Stop Worrying and Love the Bomb', 'The Pianist', 'Airplane!', 'Love and Death', 'To Kill a Mockingbird', 'Cinema Paradiso', 'Modern Times', 'The Maltese Falcon', 'Mr. Smith Goes to Washington']\n",
      "458 ['North by Northwest', 'Rear Window', \"Singin' in the Rain\", 'The Killing Fields', 'Cinema Paradiso', 'The Usual Suspects', 'Stand by Me', \"All the President's Men\", 'It Happened One Night', 'Chinatown']\n",
      "459 ['The Godfather', 'All About Eve', 'The Departed', \"One Flew Over the Cuckoo's Nest\", 'The Godfather: Part II', 'Raging Bull', 'The Shawshank Redemption', 'The Third Man', 'Casablanca', 'The Maltese Falcon']\n",
      "460 ['All About Eve', 'Dr. Strangelove or: How I Learned to Stop Worrying and Love the Bomb', 'Chinatown', 'Modern Times', 'Vertigo', 'The General', 'The Conversation', 'City of God', 'Harry Potter and the Deathly Hallows: Part 2', 'Apocalypse Now']\n",
      "461 ['Dr. Strangelove or: How I Learned to Stop Worrying and Love the Bomb', 'North by Northwest', 'Raging Bull', 'The Conversation', 'Three Colors: Red', 'A Fish Called Wanda', \"All the President's Men\", 'On the Waterfront', 'Close Encounters of the Third Kind', 'Shadowlands']\n",
      "462 ['Roger & Me', 'It Happened One Night', 'The Shawshank Redemption', 'The Godfather', 'The Godfather: Part II', \"One Flew Over the Cuckoo's Nest\", 'North by Northwest', 'Kids', 'Braveheart', 'Seven Samurai']\n",
      "463 ['Raging Bull', 'Dr. Strangelove or: How I Learned to Stop Worrying and Love the Bomb', 'All About Eve', 'A Close Shave', 'Happiness', 'Citizen Kane', 'The Dark Knight', 'The General', 'The Lord of the Rings: The Return of the King', 'Lone Star']\n",
      "464 ['The Shawshank Redemption', 'The Maltese Falcon', 'The Empire Strikes Back', 'GoodFellas', 'Roger & Me', \"One Flew Over the Cuckoo's Nest\", 'The Godfather: Part II', 'Seven Samurai', 'The Matrix', 'Life Is Beautiful']\n",
      "465 ['All About Eve', 'Raging Bull', 'The Godfather: Part II', 'Cinema Paradiso', 'Roger & Me', 'The Maltese Falcon', 'Casablanca', 'Annie Hall', 'American History X', 'Memento']\n",
      "466 ['The Silence of the Lambs', 'The African Queen', 'Raging Bull', 'Fight Club', 'Modern Times', 'Oldboy', 'The Maltese Falcon', 'Run Lola Run', 'The Best Years of Our Lives', 'Harry Potter and the Deathly Hallows: Part 2']\n",
      "467 ['It Happened One Night', 'The Shawshank Redemption', 'Modern Times', \"One Flew Over the Cuckoo's Nest\", \"Singin' in the Rain\", 'City of God', 'Three Colors: Red', 'The Usual Suspects', 'Cinema Paradiso', 'Sunset Boulevard']\n",
      "468 ['Ran', 'Swingers', 'Three Colors: Red', 'The African Queen', 'The Killing Fields', \"Schindler's List\", 'The Name of the Rose', 'Big Night', 'In the Name of the Father', 'Happiness']\n",
      "469 ['The Godfather', 'Cool Hand Luke', 'Cinema Paradiso', 'The Shawshank Redemption', 'To Kill a Mockingbird', 'Modern Times', 'It Happened One Night', 'The Philadelphia Story', 'The Godfather: Part II', '12 Angry Men']\n",
      "470 ['Cinema Paradiso', 'His Girl Friday', 'On the Waterfront', 'Sunset Boulevard', 'All About Eve', 'Big Night', 'Roger & Me', 'Lock, Stock and Two Smoking Barrels', 'Chinatown', 'Fargo']\n",
      "471 ['The Shawshank Redemption', 'Sunset Boulevard', 'Raging Bull', 'The African Queen', 'The Godfather', 'All About Eve', 'Roger & Me', \"All the President's Men\", 'Lock, Stock and Two Smoking Barrels', 'The Godfather: Part II']\n",
      "472 ['Nausicaä of the Valley of the Wind', 'You Can Count on Me', \"Who's Afraid of Virginia Woolf?\", 'To Kill a Mockingbird', 'Donnie Darko', 'Toy Story 3', 'Three Colors: White', 'Amores perros', 'The Dark Knight', 'Three Colors: Red']\n",
      "473 ['Cinema Paradiso', 'Gandhi', \"Schindler's List\", 'Terminator 2: Judgment Day', 'The Shawshank Redemption', 'Trainspotting', 'The Godfather', 'Reservoir Dogs', 'Monty Python and the Holy Grail', 'Amadeus']\n",
      "474 ['The African Queen', 'Roger & Me', 'A Close Shave', 'Modern Times', 'Sunset Boulevard', 'The Shawshank Redemption', 'O Brother, Where Art Thou?', \"Schindler's List\", 'It Happened One Night', 'Midnight in Paris']\n",
      "475 ['The Silence of the Lambs', 'Citizen Kane', 'The Shining', 'North by Northwest', \"One Flew Over the Cuckoo's Nest\", \"Schindler's List\", 'Reservoir Dogs', 'Roger & Me', 'Fargo', 'In the Bedroom']\n",
      "476 ['Fargo', 'The Godfather', 'Casablanca', 'The Killer', 'A Close Shave', 'Seven Samurai', 'All About Eve', 'Ran', 'Apocalypse Now', 'The Dark Knight']\n",
      "477 ['Run Lola Run', 'American Beauty', 'Fargo', 'On the Waterfront', 'Chinatown', 'Young Frankenstein', 'Psycho', 'Reservoir Dogs', 'All About Eve', 'The Maltese Falcon']\n",
      "478 ['Seven Samurai', 'North by Northwest', \"Ferris Bueller's Day Off\", 'Cinema Paradiso', 'It Happened One Night', 'Raging Bull', 'The Empire Strikes Back', 'Roger & Me', 'On the Waterfront', 'The African Queen']\n",
      "479 ['Modern Times', \"Singin' in the Rain\", 'A Close Shave', 'City of God', 'Cinema Paradiso', 'The African Queen', 'Happiness', 'Lock, Stock and Two Smoking Barrels', 'Cool Hand Luke', 'Swingers']\n",
      "480 ['It Happened One Night', 'Roger & Me', \"Singin' in the Rain\", \"All the President's Men\", 'Indiana Jones and the Last Crusade', 'The Third Man', 'Cinema Paradiso', 'The Philadelphia Story', 'Big Night', 'Modern Times']\n",
      "481 ['The Usual Suspects', 'The Treasure of the Sierra Madre', 'The Princess Bride', 'All About Eve', 'Rear Window', '12 Angry Men', 'Ran', 'Amadeus', 'Life Is Beautiful', 'Roger & Me']\n",
      "482 ['Sunset Boulevard', 'Rear Window', 'The Maltese Falcon', 'All About Eve', 'It Happened One Night', 'On the Waterfront', 'To Kill a Mockingbird', 'The Shawshank Redemption', 'Cinema Paradiso', 'City of God']\n",
      "483 ['The Pianist', 'My Neighbor Totoro', 'The Prestige', 'The Godfather', 'Tom Jones', 'The Godfather: Part II', 'Lawrence of Arabia', 'L.A. Confidential', '12 Angry Men', 'Citizen Kane']\n",
      "484 ['Three Colors: Red', 'Modern Times', 'Ran', 'The Godfather', 'On the Waterfront', 'The Princess Bride', 'Cinema Paradiso', 'The Treasure of the Sierra Madre', 'Gladiator 1992', 'Seven Samurai']\n",
      "485 [\"Singin' in the Rain\", 'The Shawshank Redemption', 'Modern Times', 'It Happened One Night', 'Chinatown', \"Schindler's List\", 'The Silence of the Lambs', 'Ran', 'M', 'Rear Window']\n",
      "486 ['The Shawshank Redemption', 'Brazil', 'Roger & Me', 'Ran', 'Rear Window', 'The Third Man', 'Happiness', 'Raging Bull', 'Seven Samurai', 'Midnight Cowboy']\n",
      "487 ['Roger & Me', \"Singin' in the Rain\", 'All About Eve', 'The Godfather', 'Casablanca', 'The Treasure of the Sierra Madre', '12 Angry Men', 'City of God', 'Modern Times', 'Seven Samurai']\n",
      "488 ['The Shawshank Redemption', 'Raging Bull', 'All About Eve', 'The Godfather: Part II', 'American Beauty', 'Seven Samurai', 'Lock, Stock and Two Smoking Barrels', 'Blood Simple', 'Mister Roberts', 'Psycho']\n",
      "489 ['Raging Bull', 'All About Eve', \"Schindler's List\", 'It Happened One Night', 'Psycho', 'The Philadelphia Story', 'Sunset Boulevard', 'Seven Samurai', 'City of God', 'The Shawshank Redemption']\n",
      "490 ['The Dark Knight', 'All About Eve', 'The Lord of the Rings: The Fellowship of the Ring', 'On the Waterfront', 'Citizen Kane', 'Raging Bull', 'The Third Man', 'Seven Samurai', 'The Godfather', 'Ran']\n",
      "491 ['Casablanca', 'The Godfather', 'North by Northwest', 'Rear Window', 'City of God', 'Chinatown', 'The Godfather: Part II', \"Schindler's List\", 'The Maltese Falcon', 'The Manchurian Candidate']\n",
      "492 ['Modern Times', 'Sunset Boulevard', 'The Pianist', 'The Usual Suspects', 'The African Queen', 'Cinema Paradiso', 'It Happened One Night', \"Singin' in the Rain\", 'The Matrix', 'The Godfather: Part II']\n",
      "493 ['The Sixth Sense', 'His Girl Friday', 'The Shawshank Redemption', 'The African Queen', 'Lock, Stock and Two Smoking Barrels', 'Mister Roberts', 'A Close Shave', 'Midnight in Paris', 'Roger & Me', 'Casablanca']\n",
      "494 ['The Philadelphia Story', 'Modern Times', 'The Pianist', 'The Maltese Falcon', 'Three Colors: Red', 'The African Queen', 'The Treasure of the Sierra Madre', 'Butch Cassidy and the Sundance Kid', 'It Happened One Night', 'Sunset Boulevard']\n",
      "495 ['The Shawshank Redemption', 'All About Eve', 'It Happened One Night', 'Three Colors: Red', 'The Lord of the Rings: The Fellowship of the Ring', '12 Angry Men', \"Singin' in the Rain\", 'The Usual Suspects', 'Seven Samurai', 'Cinema Paradiso']\n",
      "496 ['The Godfather', 'The Godfather: Part II', 'The Matrix', 'Run Lola Run', 'Eat Drink Man Woman', 'Ran', 'City of God', \"Singin' in the Rain\", 'All About Eve', 'Lock, Stock and Two Smoking Barrels']\n",
      "497 ['Modern Times', \"Singin' in the Rain\", 'It Happened One Night', 'The African Queen', 'Monty Python and the Holy Grail', 'Dr. Strangelove or: How I Learned to Stop Worrying and Love the Bomb', 'Tom Jones', 'On the Waterfront', 'The Shawshank Redemption', \"Who's Afraid of Virginia Woolf?\"]\n",
      "498 ['The African Queen', 'Sunset Boulevard', 'On the Waterfront', 'Modern Times', 'Lock, Stock and Two Smoking Barrels', 'Mister Roberts', 'Cool Hand Luke', 'Roger & Me', 'Ran', 'Cinema Paradiso']\n",
      "499 ['Cinema Paradiso', 'Memento', 'Modern Times', 'The Dark Knight', 'The Matrix', 'The Third Man', 'Three Colors: Red', 'Chinatown', 'Raging Bull', 'The Martian']\n",
      "500 ['Lock, Stock and Two Smoking Barrels', 'Cinema Paradiso', 'Ran', 'The Imitation Game', 'The Green Mile', 'Cool Hand Luke', 'Hamlet', 'Gladiator 1992', 'Tom Jones', 'The Maltese Falcon']\n",
      "501 ['Lawrence of Arabia', \"Schindler's List\", 'The Third Man', 'On the Waterfront', 'Raging Bull', 'Smoke', 'The Killing Fields', 'Happiness', 'Casablanca', 'In the Name of the Father']\n",
      "502 ['All About Eve', 'The Silence of the Lambs', 'The Lord of the Rings: The Fellowship of the Ring', 'Roger & Me', 'Happiness', \"Schindler's List\", 'The Dark Knight', 'North by Northwest', 'Double Indemnity', 'Run Lola Run']\n",
      "503 ['The Shawshank Redemption', 'Modern Times', 'Lawrence of Arabia', 'Sunset Boulevard', 'Gladiator 1992', 'All About Eve', 'Cinema Paradiso', 'It Happened One Night', 'On the Waterfront', 'Ran']\n",
      "504 ['Star Wars', 'Modern Times', 'Cinema Paradiso', 'A Close Shave', \"Schindler's List\", 'City of God', 'All About Eve', 'Good Will Hunting', 'The African Queen', 'The Shawshank Redemption']\n",
      "505 ['Roger & Me', 'City of God', 'Cool Hand Luke', 'His Girl Friday', 'Memento', 'The Princess Bride', 'The Killer', 'Lock, Stock and Two Smoking Barrels', 'A Close Shave', 'Psycho']\n",
      "506 ['All About Eve', 'City of God', 'The Treasure of the Sierra Madre', 'Sunset Boulevard', 'The Pianist', 'Ran', 'Lock, Stock and Two Smoking Barrels', 'Run Lola Run', 'The Usual Suspects', 'The Professional']\n",
      "507 ['The Lord of the Rings: The Fellowship of the Ring', 'The Lord of the Rings: The Return of the King', 'Raging Bull', 'The Lord of the Rings: The Two Towers', 'The Shawshank Redemption', 'Modern Times', 'The Empire Strikes Back', 'Roger & Me', 'When We Were Kings', 'The Sixth Sense']\n",
      "508 ['Raging Bull', 'It Happened One Night', 'The Godfather', 'When We Were Kings', 'Run Lola Run', 'All About Eve', 'The Sixth Sense', 'Rear Window', 'Raiders of the Lost Ark', 'The Seventh Seal']\n",
      "509 ['All About Eve', 'Toy Story 3', 'The General', 'The Shining', 'Moon', 'The Dark Knight', 'Vertigo', \"Pan's Labyrinth\", 'The Producers', 'The Sound of Music']\n",
      "510 ['The Princess Bride', 'Roger & Me', 'Memento', 'The Philadelphia Story', 'The Treasure of the Sierra Madre', 'Donnie Darko', 'Modern Times', 'The Usual Suspects', 'The Great Escape', 'Lock, Stock and Two Smoking Barrels']\n",
      "511 ['The African Queen', 'The Silence of the Lambs', 'His Girl Friday', 'Memento', 'On the Waterfront', \"Singin' in the Rain\", 'The Godfather', 'It Happened One Night', 'Raging Bull', 'Happiness']\n",
      "512 ['Duck Soup', 'All About Eve', 'Cinema Paradiso', 'Raging Bull', 'Big Night', 'The Godfather: Part II', 'The Godfather', 'The Princess Bride', 'Pulp Fiction', 'Crimes and Misdemeanors']\n",
      "513 ['The Treasure of the Sierra Madre', 'The Usual Suspects', 'The Maltese Falcon', \"It's a Wonderful Life\", 'Modern Times', 'Reservoir Dogs', 'North by Northwest', 'Rear Window', 'Big Night', 'All About Eve']\n",
      "514 ['The Godfather', \"Schindler's List\", 'Run Lola Run', 'The Producers', 'The Godfather: Part II', 'Shadowlands', 'Toy Story 3', 'There Will Be Blood', 'Swingers', 'Tom Jones']\n",
      "515 ['Cinema Paradiso', 'The Shawshank Redemption', 'The Lord of the Rings: The Return of the King', 'The Maltese Falcon', 'American History X', 'North by Northwest', 'Sunset Boulevard', 'All About Eve', 'The Third Man', 'The Philadelphia Story']\n",
      "516 ['Ran', 'Modern Times', 'City of God', 'Roger & Me', 'The Third Man', 'Swingers', '12 Angry Men', 'Harry Potter and the Deathly Hallows: Part 2', 'The Maltese Falcon', 'His Girl Friday']\n",
      "517 ['Cinema Paradiso', 'Gandhi', 'Blazing Saddles', 'The Usual Suspects', 'Pulp Fiction', 'The Shawshank Redemption', 'Trainspotting', 'Happiness', 'The Sixth Sense', 'Star Wars']\n",
      "518 ['On the Waterfront', \"Schindler's List\", 'The Best Years of Our Lives', 'This Is Spinal Tap', 'In the Name of the Father', 'The Third Man', 'Her', 'When We Were Kings', 'The Maltese Falcon', 'Modern Times']\n",
      "519 ['It Happened One Night', 'The Maltese Falcon', 'The Philadelphia Story', 'Sunset Boulevard', 'The Godfather: Part II', 'All About Eve', 'Roger & Me', 'Modern Times', 'The Empire Strikes Back', 'City of God']\n",
      "520 [\"Singin' in the Rain\", 'Seven Samurai', 'Fargo', 'North by Northwest', 'The Shining', '2001: A Space Odyssey', 'Rear Window', 'The Maltese Falcon', 'Cinema Paradiso', \"All the President's Men\"]\n",
      "521 ['Pulp Fiction', 'All About Eve', 'Leon: The Professional', 'Sunset Boulevard', \"All the President's Men\", \"Singin' in the Rain\", 'The Pianist', 'Psycho', 'City of God', 'The African Queen']\n",
      "522 ['Lawrence of Arabia', 'Cool Hand Luke', 'The Shawshank Redemption', 'Psycho', 'Ran', 'Big Night', 'Modern Times', 'The Pianist', 'Raging Bull', 'All About Eve']\n",
      "523 ['North by Northwest', 'The African Queen', 'The Seventh Seal', 'All About Eve', 'City of God', 'It Happened One Night', \"Schindler's List\", 'Rear Window', \"Singin' in the Rain\", 'Cinema Paradiso']\n",
      "524 ['The Godfather', 'The African Queen', 'Roger & Me', 'The Shawshank Redemption', 'Modern Times', 'Reservoir Dogs', 'Amadeus', 'His Girl Friday', 'The Philadelphia Story', 'Tom Jones']\n",
      "525 ['Seven Samurai', 'The Shawshank Redemption', 'The Philadelphia Story', 'Cool Hand Luke', \"Singin' in the Rain\", 'American Beauty', 'Moon', 'Harold and Maude', 'All About Eve', \"Who's Afraid of Virginia Woolf?\"]\n",
      "526 ['Cinema Paradiso', 'The Shawshank Redemption', 'It Happened One Night', 'Modern Times', 'Cool Hand Luke', 'Sunset Boulevard', 'The African Queen', 'On the Waterfront', 'There Will Be Blood', 'All About Eve']\n",
      "527 ['The Godfather: Part II', 'Chinatown', 'City of God', 'The Maltese Falcon', 'All About Eve', 'Being John Malkovich', 'Raging Bull', 'Young Frankenstein', 'Duck Soup', 'Spirited Away']\n",
      "528 ['All About Eve', 'City of God', 'Dr. Strangelove or: How I Learned to Stop Worrying and Love the Bomb', 'Night of the Living Dead', 'The African Queen', 'Lawrence of Arabia', 'Modern Times', '12 Angry Men', 'Mr. Smith Goes to Washington', 'The Shawshank Redemption']\n",
      "529 ['The Killing Fields', 'Ran', 'Cinema Paradiso', 'The General', 'City of God', 'The Maltese Falcon', 'The Big Lebowski', 'The Treasure of the Sierra Madre', 'Vertigo', 'Roger & Me']\n",
      "530 [\"Singin' in the Rain\", 'The Shawshank Redemption', 'Modern Times', 'Oldboy', 'Rear Window', 'The Godfather', '12 Angry Men', 'Cinema Paradiso', 'The African Queen', 'Psycho']\n",
      "531 ['To Kill a Mockingbird', 'The Godfather', 'Chinatown', 'The Maltese Falcon', \"Singin' in the Rain\", 'Lock, Stock and Two Smoking Barrels', 'Gone with the Wind', 'Butch Cassidy and the Sundance Kid', 'Sunset Boulevard', 'Midnight Cowboy']\n",
      "532 ['Sunset Boulevard', 'All About Eve', 'The African Queen', 'City of God', \"Singin' in the Rain\", 'Lock, Stock and Two Smoking Barrels', 'Ran', 'Smoke', 'The Dark Knight', 'A Close Shave']\n",
      "533 ['The Lord of the Rings: The Fellowship of the Ring', 'The Lord of the Rings: The Return of the King', 'Eat Drink Man Woman', 'Raging Bull', 'Sunset Boulevard', 'Forrest Gump', 'The Princess Bride', 'Ben-Hur', 'A Close Shave', 'A Grand Day Out']\n",
      "534 ['Modern Times', 'The Lord of the Rings: The Return of the King', 'It Happened One Night', 'Three Colors: Red', 'Blood Simple', 'Stardust', 'Cinema Paradiso', 'The Best Years of Our Lives', \"Who's Afraid of Virginia Woolf?\", 'Life Is Beautiful']\n",
      "535 ['The Godfather', 'The Godfather: Part II', 'The Treasure of the Sierra Madre', 'All About Eve', 'The Maltese Falcon', 'Cool Hand Luke', 'The Usual Suspects', 'On the Waterfront', 'Chinatown', 'City of God']\n",
      "536 ['All About Eve', 'Modern Times', 'Cinema Paradiso', 'Raiders of the Lost Ark', 'The African Queen', 'Taxi Driver', 'Raging Bull', 'Groundhog Day', 'Amadeus', 'Reservoir Dogs']\n",
      "537 ['Good Will Hunting', 'My Neighbor Totoro', 'City of God', 'It Happened One Night', 'The Best Years of Our Lives', 'Modern Times', 'Ran', 'The Hurt Locker', 'Big Hero 6', 'The Prestige']\n",
      "538 ['12 Angry Men', 'The African Queen', 'The Godfather', 'Modern Times', 'Cool Hand Luke', 'Lawrence of Arabia', 'Cinema Paradiso', 'The Intouchables', 'North by Northwest', 'To Catch a Thief']\n",
      "539 ['Sunset Boulevard', 'All About Eve', 'The Lord of the Rings: The Fellowship of the Ring', 'The Lord of the Rings: The Return of the King', 'The Third Man', 'Ran', 'It Happened One Night', 'The Empire Strikes Back', 'Modern Times', 'The Killing Fields']\n",
      "540 ['The Godfather: Part II', 'On the Waterfront', 'City of God', 'Life Is Beautiful', 'The Pianist', 'It Happened One Night', 'The Godfather', 'The Usual Suspects', 'All About Eve', 'The Philadelphia Story']\n",
      "541 [\"Who's Afraid of Virginia Woolf?\", 'Modern Times', 'Taxi Driver', 'Ran', 'The Third Man', 'The Godfather', 'Vertigo', 'It Happened One Night', 'Chinatown', 'Hoop Dreams']\n",
      "542 ['The Usual Suspects', 'The Third Man', 'All About Eve', 'Vertigo', \"Schindler's List\", 'It Happened One Night', 'The Shawshank Redemption', 'Seven Samurai', 'Memento', 'Fight Club']\n",
      "543 ['Cinema Paradiso', 'Gandhi', 'The French Connection', 'The Usual Suspects', 'Braveheart', 'Clerks', 'The Madness of King George', 'Shallow Grave', 'Much Ado About Nothing', \"Schindler's List\"]\n",
      "544 ['The Usual Suspects', 'The Shawshank Redemption', 'Cool Hand Luke', 'The Philadelphia Story', 'It Happened One Night', 'Modern Times', 'The Treasure of the Sierra Madre', 'The African Queen', 'Sunset Boulevard', \"Singin' in the Rain\"]\n",
      "545 ['All About Eve', 'Ran', 'The Conversation', 'The Empire Strikes Back', 'Spirited Away', 'On the Waterfront', 'Roger & Me', 'Vertigo', 'Butch Cassidy and the Sundance Kid', 'The Shawshank Redemption']\n",
      "546 ['Cinema Paradiso', 'Much Ado About Nothing', 'Roger & Me', 'The Godfather: Part II', 'The Lord of the Rings: The Two Towers', \"Singin' in the Rain\", 'All About Eve', 'Raging Bull', 'You Can Count on Me', 'City of God']\n",
      "547 ['Three Colors: Red', 'Spirited Away', 'Avengers: Age of Ultron', 'Bicycle Thieves', 'Willy Wonka & the Chocolate Factory', \"Howl's Moving Castle\", 'Nausicaä of the Valley of the Wind', 'The Muppet Movie', 'Grave of the Fireflies', 'Ghost in the Shell']\n",
      "548 ['The Philadelphia Story', 'Modern Times', 'It Happened One Night', 'Cool Hand Luke', 'The African Queen', 'Mister Roberts', 'His Girl Friday', 'Raging Bull', 'Smoke', 'Harry Potter and the Deathly Hallows: Part 2']\n",
      "549 ['The Maltese Falcon', 'The Philadelphia Story', 'Cool Hand Luke', 'Chinatown', 'Raging Bull', 'City of God', 'On the Waterfront', 'To Kill a Mockingbird', 'The Conversation', 'Fargo']\n",
      "550 ['The Godfather', 'The Godfather: Part II', 'The African Queen', 'GoodFellas', 'Cinema Paradiso', 'A Close Shave', 'The Prestige', 'Fight Club', 'The Maltese Falcon', 'Memento']\n",
      "551 ['Life Is Beautiful', \"Singin' in the Rain\", 'Ran', 'It Happened One Night', 'Sunset Boulevard', 'The Shawshank Redemption', 'The Pianist', 'Roger & Me', 'His Girl Friday', 'Cool Hand Luke']\n",
      "552 ['Memento', 'The Maltese Falcon', 'The Philadelphia Story', 'The Usual Suspects', 'Cool Hand Luke', 'The Godfather', 'All About Eve', 'Chinatown', 'The Godfather: Part II', 'Spirited Away']\n",
      "553 ['Roger & Me', 'Lock, Stock and Two Smoking Barrels', 'It Happened One Night', 'Cinema Paradiso', 'American History X', \"All the President's Men\", 'The Third Man', 'Delicatessen', 'Barton Fink', \"Sophie's Choice\"]\n",
      "554 ['The Godfather: Part II', 'Cinema Paradiso', 'Butch Cassidy and the Sundance Kid', 'Modern Times', 'The Philadelphia Story', 'Sunset Boulevard', 'Ran', 'The Lord of the Rings: The Return of the King', 'The Maltese Falcon', 'Duck Soup']\n",
      "555 ['All About Eve', 'Raging Bull', 'Sunset Boulevard', 'Chinatown', 'City of God', 'The Maltese Falcon', \"Singin' in the Rain\", 'Monty Python and the Holy Grail', 'The Philadelphia Story', 'The Empire Strikes Back']\n",
      "556 ['The Godfather', 'Roger & Me', 'A Close Shave', 'Three Colors: Blue', \"Singin' in the Rain\", 'Sunset Boulevard', 'To Kill a Mockingbird', 'Ran', 'Strangers on a Train', 'Modern Times']\n",
      "557 ['The Shawshank Redemption', 'The Treasure of the Sierra Madre', 'The Pianist', \"Howl's Moving Castle\", 'The Philadelphia Story', 'The African Queen', 'Crimes and Misdemeanors', 'The Maltese Falcon', 'Scott Pilgrim vs. the World', 'On the Waterfront']\n",
      "558 ['Cinema Paradiso', \"Schindler's List\", 'The Shawshank Redemption', 'Saving Private Ryan', 'The Maltese Falcon', 'Harry Potter and the Deathly Hallows: Part 2', 'Three Colors: Red', 'Roman Holiday', 'Ran', 'Raging Bull']\n",
      "559 ['The Usual Suspects', 'Fight Club', 'Roger & Me', 'Memento', 'The Lord of the Rings: The Fellowship of the Ring', 'On the Waterfront', 'It Happened One Night', 'Smoke', 'The Lord of the Rings: The Two Towers', 'North by Northwest']\n",
      "560 ['It Happened One Night', 'Sunset Boulevard', 'Modern Times', 'Blood Simple', 'All About Eve', 'Cinema Paradiso', 'Cool Hand Luke', 'The African Queen', 'Roger & Me', 'The Great Escape']\n",
      "561 ['Raging Bull', 'All About Eve', 'The Godfather', \"Singin' in the Rain\", 'Cinema Paradiso', 'Happiness', 'Sunset Boulevard', 'The Maltese Falcon', 'Smoke', 'The Prestige']\n",
      "562 [\"Singin' in the Rain\", 'Roger & Me', 'Sunset Boulevard', 'The Third Man', 'All About Eve', 'Modern Times', 'Cinema Paradiso', 'The Maltese Falcon', 'It Happened One Night', \"It's a Wonderful Life\"]\n",
      "563 ['The Shawshank Redemption', 'His Girl Friday', 'Modern Times', 'The Treasure of the Sierra Madre', 'The Philadelphia Story', 'Cool Hand Luke', 'Crimes and Misdemeanors', \"Singin' in the Rain\", 'Cinema Paradiso', 'The Maltese Falcon']\n",
      "564 ['Crouching Tiger, Hidden Dragon', 'Donnie Darko', 'The Manchurian Candidate', 'Mr. Smith Goes to Washington', 'Little Big Man', 'Hoop Dreams', 'Downfall', 'Henry V', 'Crash', 'A Night at the Opera']\n",
      "565 ['The Usual Suspects', 'City of God', \"Schindler's List\", 'The Godfather', 'Braveheart', 'Apocalypse Now', 'It Happened One Night', 'The Shawshank Redemption', 'The Dark Knight', 'The Maltese Falcon']\n",
      "566 ['Cinema Paradiso', 'The Usual Suspects', 'The Silence of the Lambs', 'Fight Club', 'Star Wars', 'The Godfather', 'The Maltese Falcon', 'The Empire Strikes Back', 'Amadeus', 'Stand by Me']\n",
      "567 ['Cinema Paradiso', 'Modern Times', 'Casablanca', 'Chinatown', 'It Happened One Night', 'Ran', 'The Maltese Falcon', 'The African Queen', 'His Girl Friday', 'All About Eve']\n",
      "568 ['The Philadelphia Story', 'It Happened One Night', \"Singin' in the Rain\", 'Roger & Me', 'My Neighbor Totoro', \"All the President's Men\", 'The Usual Suspects', 'Sunset Boulevard', 'Butch Cassidy and the Sundance Kid', 'Seven Samurai']\n",
      "569 ['Cinema Paradiso', 'All About Eve', 'A Close Shave', 'His Girl Friday', 'The City of Lost Children', 'Roger & Me', \"Schindler's List\", 'Mister Roberts', \"It's a Wonderful Life\", 'My Life as a Dog']\n",
      "570 ['The Shawshank Redemption', 'Life Is Beautiful', 'The African Queen', 'Sunset Boulevard', 'Cool Hand Luke', 'Cinema Paradiso', 'There Will Be Blood', 'Ran', 'Spirited Away', 'The Pianist']\n",
      "571 ['The Shawshank Redemption', 'Run Lola Run', 'Modern Times', 'Roger & Me', 'It Happened One Night', 'The Philadelphia Story', 'The Producers', 'Butch Cassidy and the Sundance Kid', 'The Usual Suspects', 'The African Queen']\n",
      "572 ['The Godfather: Part II', 'Modern Times', 'City of God', 'All About Eve', 'Gladiator 1992', 'Sunset Boulevard', 'Cinema Paradiso', 'Monty Python and the Holy Grail', 'Roger & Me', 'There Will Be Blood']\n",
      "573 ['The Shawshank Redemption', 'It Happened One Night', 'Ran', 'Cool Hand Luke', 'The Treasure of the Sierra Madre', 'Tom Jones', 'The Best Years of Our Lives', 'On the Waterfront', 'Dr. Strangelove or: How I Learned to Stop Worrying and Love the Bomb', 'The Third Man']\n",
      "574 ['All About Eve', 'Rear Window', 'Vertigo', 'Chinatown', \"Singin' in the Rain\", 'Roger & Me', 'Seven Samurai', 'The Pianist', 'Casablanca', \"Schindler's List\"]\n",
      "575 ['Cinema Paradiso', 'There Will Be Blood', 'Pulp Fiction', 'All About Eve', 'The Grand Budapest Hotel', 'Sunset Boulevard', 'His Girl Friday', 'American Beauty', 'Nausicaä of the Valley of the Wind', 'A Clockwork Orange']\n",
      "576 ['Sunset Boulevard', 'All About Eve', 'Cinema Paradiso', 'Memento', 'It Happened One Night', 'Roger & Me', 'The Godfather', 'The Philadelphia Story', 'The Shawshank Redemption', \"One Flew Over the Cuckoo's Nest\"]\n",
      "577 ['Cinema Paradiso', 'The Usual Suspects', \"Schindler's List\", 'Trainspotting', 'Fight Club', 'The Dark Knight', 'Vertigo', 'The Maltese Falcon', 'Reservoir Dogs', 'Amadeus']\n",
      "578 ['The Philadelphia Story', 'The Godfather: Part II', 'To Kill a Mockingbird', 'Modern Times', 'Sunset Boulevard', \"One Flew Over the Cuckoo's Nest\", 'All About Eve', 'Taxi Driver', 'Ran', '12 Angry Men']\n",
      "579 ['The Shawshank Redemption', 'Swingers', 'The Usual Suspects', 'Full Metal Jacket', 'The Godfather: Part II', 'It Happened One Night', 'The Silence of the Lambs', 'The Godfather', 'Run Lola Run', \"Howl's Moving Castle\"]\n",
      "580 ['Touch of Evil', \"All the President's Men\", 'Run Lola Run', 'Rear Window', 'You Can Count on Me', 'Three Colors: Red', 'All About Eve', 'Happiness', 'Moon', 'Little Big Man']\n",
      "581 ['Smoke', 'Good Will Hunting', 'City of God', 'Sunset Boulevard', 'The Dark Knight', 'Gladiator 1992', \"Schindler's List\", 'His Girl Friday', 'Eat Drink Man Woman', 'Ran']\n",
      "582 ['Modern Times', 'Cinema Paradiso', 'American Beauty', 'Ran', 'Brazil', 'It Happened One Night', 'Three Colors: Red', 'The African Queen', 'Life Is Beautiful', 'All About Eve']\n",
      "583 ['The Usual Suspects', 'The African Queen', 'It Happened One Night', 'Stand by Me', 'All About Eve', 'Swingers', \"One Flew Over the Cuckoo's Nest\", 'Sunset Boulevard', 'North by Northwest', 'Monty Python and the Holy Grail']\n",
      "584 ['Star Wars', 'Three Colors: Red', 'The Godfather', 'The Third Man', 'Chinatown', 'The Maltese Falcon', 'Roger & Me', 'Ran', 'The French Connection', 'Raging Bull']\n",
      "585 ['The Pianist', 'Taxi Driver', 'The Departed', 'The African Queen', 'Harry Potter and the Deathly Hallows: Part 2', 'Saving Private Ryan', 'City of God', 'Toy Story 3', 'There Will Be Blood', 'The Grand Budapest Hotel']\n",
      "586 ['The Treasure of the Sierra Madre', 'The Godfather: Part II', 'Seven Samurai', 'The Godfather', 'Chinatown', 'Cinema Paradiso', 'The Philadelphia Story', 'Casablanca', 'Sunset Boulevard', 'Das Boot']\n",
      "587 ['Run Lola Run', 'Midnight in Paris', 'Hamlet', 'A Close Shave', 'Swingers', 'The Philadelphia Story', 'Oldboy', 'Once Upon a Time in the West', 'The Best Years of Our Lives', 'Big Night']\n",
      "588 ['The Godfather', 'All About Eve', 'City of God', 'The Third Man', 'Swingers', 'Once Upon a Time in the West', 'Rear Window', 'Happiness', 'It Happened One Night', 'The African Queen']\n",
      "589 ['Modern Times', \"Schindler's List\", 'Sunset Boulevard', 'The Godfather', 'The Shawshank Redemption', 'The Third Man', 'Ran', 'Cinema Paradiso', 'Roger & Me', 'The African Queen']\n",
      "590 ['It Happened One Night', 'All About Eve', 'The Producers', 'Roger & Me', 'City of God', 'Seven Samurai', 'Cool Hand Luke', \"One Flew Over the Cuckoo's Nest\", 'The Godfather: Part II', 'Taxi Driver']\n",
      "591 ['Tom Jones', 'The Shawshank Redemption', 'Fargo', 'The Silence of the Lambs', \"Schindler's List\", 'The Maltese Falcon', 'Reservoir Dogs', 'Body Heat', 'The Prestige', 'A Close Shave']\n",
      "592 ['The Shawshank Redemption', 'Exotica', 'Crash', 'Modern Times', 'It Happened One Night', 'Lifeboat', 'Monsters, Inc.', 'The Intouchables', 'Shine', \"Harry Potter and the Philosopher's Stone\"]\n",
      "593 ['Cinema Paradiso', 'The Shawshank Redemption', 'All About Eve', 'Raging Bull', 'North by Northwest', 'Roger & Me', 'On the Waterfront', 'Seven Samurai', 'The Godfather', 'Casablanca']\n",
      "594 ['The Shawshank Redemption', 'Modern Times', 'To Kill a Mockingbird', 'Midnight Cowboy', 'Cinema Paradiso', 'Ran', 'All About Eve', 'Life Is Beautiful', 'Searching for Bobby Fischer', 'Sunset Boulevard']\n",
      "595 ['The Godfather', 'Star Wars', 'To Kill a Mockingbird', 'The Godfather: Part II', 'Return of the Jedi', 'All About Eve', 'Sunset Boulevard', 'Double Indemnity', '12 Angry Men', 'Night of the Living Dead']\n",
      "596 ['The Philadelphia Story', 'Modern Times', 'To Kill a Mockingbird', 'North by Northwest', 'It Happened One Night', 'On the Waterfront', 'Dr. Strangelove or: How I Learned to Stop Worrying and Love the Bomb', 'Cool Hand Luke', 'Sunset Boulevard', 'All About Eve']\n",
      "597 ['Modern Times', 'All About Eve', 'Sunset Boulevard', 'The Silence of the Lambs', 'The Shawshank Redemption', 'Inherit the Wind', 'Big Night', 'City of God', 'Raiders of the Lost Ark', 'Mutiny on the Bounty']\n",
      "598 ['Fargo', 'Modern Times', 'The Silence of the Lambs', 'It Happened One Night', 'Se7en', 'Three Colors: Red', 'Duck Soup', 'Mr. Smith Goes to Washington', 'Monty Python and the Holy Grail', 'North by Northwest']\n",
      "599 ['Cinema Paradiso', 'The Shawshank Redemption', 'The Philadelphia Story', 'To Kill a Mockingbird', 'Cool Hand Luke', 'Pulp Fiction', 'Crumb', 'Frankenstein', 'Whiplash', 'M']\n",
      "600 ['Modern Times', 'The Godfather: Part II', 'Lock, Stock and Two Smoking Barrels', 'City of God', 'The Shawshank Redemption', 'The Godfather', 'The Third Man', 'M', 'The Empire Strikes Back', 'The Philadelphia Story']\n",
      "601 ['The Philadelphia Story', 'The Usual Suspects', 'The Godfather', 'The Shawshank Redemption', 'The Third Man', 'Raging Bull', 'The Pianist', 'Annie Hall', 'All About Eve', 'Roger & Me']\n",
      "602 ['The Godfather', 'Dr. Strangelove or: How I Learned to Stop Worrying and Love the Bomb', \"Ferris Bueller's Day Off\", 'Modern Times', 'GoodFellas', 'Roger & Me', 'Rebecca', 'North by Northwest', \"It's a Wonderful Life\", 'Cinema Paradiso']\n",
      "603 ['The Silence of the Lambs', 'The Godfather', 'In the Name of the Father', 'The Hurt Locker', 'The Usual Suspects', 'The Shawshank Redemption', 'The Third Man', 'Fight Club', 'North by Northwest', 'The Lord of the Rings: The Return of the King']\n",
      "604 ['City of God', 'The Shawshank Redemption', 'Smoke', 'The African Queen', 'Rear Window', 'The Treasure of the Sierra Madre', 'The Godfather: Part II', 'The Godfather', 'The Departed', 'Lock, Stock and Two Smoking Barrels']\n",
      "605 ['Modern Times', \"Schindler's List\", 'Forrest Gump', 'To Kill a Mockingbird', 'Strangers on a Train', 'The Sixth Sense', 'Gandhi', 'Sunset Boulevard', 'The Treasure of the Sierra Madre', 'There Will Be Blood']\n",
      "606 ['Stand by Me', 'On the Waterfront', \"All the President's Men\", 'Mister Roberts', 'It Happened One Night', 'Star Wars', 'Ran', 'Roger & Me', 'Three Colors: Red', 'Raging Bull']\n",
      "607 ['The African Queen', 'American History X', 'Cinema Paradiso', 'Letters from Iwo Jima', 'Run Lola Run', 'M', 'Modern Times', 'Wings of Desire', 'Blood Diamond', 'The Madness of King George']\n",
      "608 ['All About Eve', 'Citizen Kane', 'Hoop Dreams', \"Singin' in the Rain\", 'It Happened One Night', 'Sunset Boulevard', 'The Graduate', 'The Shawshank Redemption', 'Persuasion', 'The Conversation']\n",
      "609 ['Modern Times', 'Ran', 'The Help', \"Singin' in the Rain\", 'Raging Bull', 'Annie Hall', 'In the Name of the Father', 'Happiness', 'The Princess Bride', 'V for Vendetta']\n",
      "610 ['The Godfather', 'The Godfather: Part II', 'Casablanca', 'Sunset Boulevard', 'Modern Times', 'The Maltese Falcon', 'Roger & Me', 'Monty Python and the Holy Grail', 'Swingers', 'The Third Man']\n",
      "611 ['The Godfather', 'The Shawshank Redemption', \"Schindler's List\", 'Fargo', 'Ran', 'Raging Bull', 'The Silence of the Lambs', 'Citizen Kane', 'Amélie', 'Tom Jones']\n",
      "612 ['Sunset Boulevard', 'The Shawshank Redemption', 'All About Eve', 'The Godfather', 'The Maltese Falcon', 'Butch Cassidy and the Sundance Kid', 'The Third Man', 'Das Boot', 'The Lord of the Rings: The Return of the King', 'Cool Hand Luke']\n",
      "613 ['Roger & Me', 'Casablanca', \"All the President's Men\", 'Run Lola Run', 'Modern Times', 'The Princess Bride', 'The Treasure of the Sierra Madre', 'On the Waterfront', 'Iron Man', \"Schindler's List\"]\n",
      "614 ['The Shawshank Redemption', 'The Philadelphia Story', 'In Bruges', 'Roger & Me', 'Butch Cassidy and the Sundance Kid', 'Eat Drink Man Woman', 'Cinema Paradiso', 'Sunset Boulevard', 'The African Queen', 'Henry V']\n",
      "615 ['The Shawshank Redemption', 'Cinema Paradiso', 'Roger & Me', 'Annie Hall', \"Singin' in the Rain\", 'The Usual Suspects', 'All About Eve', 'Happiness', 'The Godfather: Part II', 'Swingers']\n",
      "616 ['The Shawshank Redemption', 'Modern Times', 'Roger & Me', 'It Happened One Night', 'The African Queen', 'Cool Hand Luke', 'The Empire Strikes Back', 'On the Waterfront', 'The Philadelphia Story', 'When We Were Kings']\n",
      "617 ['Happiness', 'The Dark Knight', 'It Happened One Night', 'Leon: The Professional', 'The Godfather: Part II', 'Three Colors: Red', 'The Godfather', 'A Close Shave', 'Seven Samurai', 'Se7en']\n",
      "618 [\"One Flew Over the Cuckoo's Nest\", 'Cool Hand Luke', 'The Shawshank Redemption', 'Seven Samurai', 'Monty Python and the Holy Grail', 'Little Big Man', 'All About Eve', 'American Beauty', 'It Happened One Night', 'Lawrence of Arabia']\n",
      "619 [\"Schindler's List\", 'All About Eve', 'Chinatown', 'Rear Window', \"All the President's Men\", 'It Happened One Night', 'The Godfather', 'The Third Man', \"One Flew Over the Cuckoo's Nest\", 'The Silence of the Lambs']\n",
      "620 ['Cool Hand Luke', 'Modern Times', 'City of God', 'The Godfather: Part II', 'Dr. Strangelove or: How I Learned to Stop Worrying and Love the Bomb', 'Cinema Paradiso', 'Chinatown', 'Swingers', \"Singin' in the Rain\", \"Howl's Moving Castle\"]\n",
      "621 ['Modern Times', 'The Usual Suspects', 'All About Eve', 'Sunset Boulevard', 'The Third Man', 'The Shawshank Redemption', 'The Maltese Falcon', 'The Treasure of the Sierra Madre', 'Raging Bull', 'Midnight Cowboy']\n",
      "622 ['Cinema Paradiso', 'Gandhi', \"Schindler's List\", 'The Godfather', 'Monty Python and the Holy Grail', 'Roger & Me', 'The Godfather: Part II', 'The Lord of the Rings: The Two Towers', 'Gone with the Wind', 'All About Eve']\n",
      "623 ['Rear Window', 'Fargo', 'North by Northwest', 'The Usual Suspects', 'The Godfather', 'Chinatown', 'All About Eve', 'Roger & Me', 'Sunset Boulevard', 'In the Name of the Father']\n",
      "624 [\"Schindler's List\", 'Rear Window', 'North by Northwest', 'Vertigo', 'Modern Times', 'The Pianist', 'Full Metal Jacket', 'The Third Man', 'All About Eve', 'Braveheart']\n",
      "625 ['It Happened One Night', 'The Maltese Falcon', 'Pulp Fiction', 'On the Waterfront', 'The Shawshank Redemption', 'The Matrix', 'The Philadelphia Story', 'The Third Man', 'Modern Times', 'All About Eve']\n",
      "626 ['Dr. Strangelove or: How I Learned to Stop Worrying and Love the Bomb', \"Singin' in the Rain\", 'Raging Bull', 'It Happened One Night', 'The Shawshank Redemption', 'My Neighbor Totoro', 'Happiness', 'Seven Samurai', 'Harry Potter and the Deathly Hallows: Part 2', 'The Godfather: Part II']\n",
      "627 ['The Empire Strikes Back', 'Lawrence of Arabia', 'The Philadelphia Story', 'City of God', 'Chinatown', 'My Neighbor Totoro', 'Modern Times', 'Inception', 'Crimes and Misdemeanors', 'Blade Runner']\n",
      "628 ['Sunset Boulevard', \"Singin' in the Rain\", 'Roger & Me', 'Fight Club', 'Taxi Driver', 'The Usual Suspects', 'All About Eve', 'The Maltese Falcon', 'Modern Times', 'Hoop Dreams']\n",
      "629 ['The Shawshank Redemption', 'The African Queen', 'Roger & Me', 'Spirited Away', 'Little Miss Sunshine', 'The Philadelphia Story', 'On the Waterfront', 'It Happened One Night', 'Lock, Stock and Two Smoking Barrels', 'Wings of Desire']\n",
      "630 ['The Treasure of the Sierra Madre', 'The Shawshank Redemption', 'All About Eve', 'Ran', 'Sunset Boulevard', 'Happiness', 'The Maltese Falcon', 'Lawrence of Arabia', \"Howl's Moving Castle\", 'The Philadelphia Story']\n",
      "631 ['Raging Bull', \"Schindler's List\", 'The Maltese Falcon', 'The Godfather', 'Psycho', 'Harry Potter and the Deathly Hallows: Part 2', 'Star Wars', 'The Godfather: Part II', \"Singin' in the Rain\", 'On the Waterfront']\n",
      "632 ['The Godfather', 'The Maltese Falcon', 'Roger & Me', 'Taxi Driver', 'On the Waterfront', 'Chinatown', 'The African Queen', 'Ran', \"One Flew Over the Cuckoo's Nest\", 'The Departed']\n",
      "633 ['All About Eve', 'Sunset Boulevard', 'The Godfather', 'Cool Hand Luke', 'Modern Times', 'On the Waterfront', 'City of God', 'To Kill a Mockingbird', 'The Godfather: Part II', 'When We Were Kings']\n",
      "634 [\"One Flew Over the Cuckoo's Nest\", 'Memento', 'City of God', 'Gladiator 1992', 'Run Lola Run', 'The Pianist', 'The African Queen', 'Sunset Boulevard', 'The Philadelphia Story', 'Roger & Me']\n",
      "635 ['The Killer', 'Modern Times', 'The Maltese Falcon', 'His Girl Friday', 'Sunset Boulevard', 'The Third Man', 'It Happened One Night', 'Raging Bull', 'The Godfather', 'Happiness']\n",
      "636 ['The Godfather', 'Chinatown', 'The African Queen', 'Sunset Boulevard', 'Ran', 'Rear Window', 'Raging Bull', 'To Kill a Mockingbird', 'The Usual Suspects', 'Blood Simple']\n",
      "637 ['Cinema Paradiso', 'The Third Man', 'North by Northwest', 'Modern Times', 'The Pianist', 'Happiness', 'All About Eve', 'Harry Potter and the Deathly Hallows: Part 2', 'Three Colors: Red', \"Singin' in the Rain\"]\n",
      "638 ['The Shawshank Redemption', 'Cool Hand Luke', 'The African Queen', 'To Kill a Mockingbird', 'Three Colors: Red', 'North by Northwest', 'Blood Simple', 'City of God', 'The Maltese Falcon', 'The Prestige']\n",
      "639 ['It Happened One Night', 'The African Queen', 'The Treasure of the Sierra Madre', 'Modern Times', 'Raging Bull', 'Ran', 'The Godfather', 'Roman Holiday', 'Roger & Me', 'The Philadelphia Story']\n",
      "640 ['Sunset Boulevard', 'The Seventh Seal', 'The Shawshank Redemption', 'Cinema Paradiso', 'Modern Times', 'The Grand Budapest Hotel', 'It Happened One Night', 'To Kill a Mockingbird', 'Bicycle Thieves', 'The Godfather: Part II']\n",
      "641 ['It Happened One Night', 'Delicatessen', 'Mister Roberts', 'Modern Times', 'Roger & Me', \"Schindler's List\", 'Lilo & Stitch', 'The African Queen', 'Star Wars', 'The Third Man']\n",
      "642 ['The Empire Strikes Back', 'Roger & Me', 'The Godfather', 'Modern Times', 'Cinema Paradiso', 'The Shawshank Redemption', 'His Girl Friday', 'The Silence of the Lambs', 'North by Northwest', 'The Godfather: Part II']\n",
      "643 ['All About Eve', 'Raging Bull', 'The Maltese Falcon', 'Big Night', 'Lawrence of Arabia', 'Ran', 'Reservoir Dogs', 'Harry Potter and the Deathly Hallows: Part 2', 'Casablanca', 'North by Northwest']\n",
      "644 ['City of God', 'The Godfather', 'The Usual Suspects', 'The Godfather: Part II', 'The Shawshank Redemption', 'To Kill a Mockingbird', 'Princess Mononoke', 'Life Is Beautiful', 'L.A. Confidential', 'Lock, Stock and Two Smoking Barrels']\n",
      "645 ['The Shawshank Redemption', 'Modern Times', \"Singin' in the Rain\", 'Roman Holiday', 'Sunset Boulevard', 'Swingers', 'Dr. Strangelove or: How I Learned to Stop Worrying and Love the Bomb', 'All About Eve', 'Butch Cassidy and the Sundance Kid', 'Double Indemnity']\n",
      "646 ['Cinema Paradiso', 'Gandhi', 'Pulp Fiction', \"Schindler's List\", 'The Shawshank Redemption', 'The Princess Bride', 'Happiness', 'The Godfather', 'Psycho', 'Roger & Me']\n",
      "647 ['It Happened One Night', 'Raging Bull', 'Butch Cassidy and the Sundance Kid', 'The Shawshank Redemption', 'My Neighbor Totoro', 'Touch of Evil', 'Cool Hand Luke', 'Modern Times', 'The Maltese Falcon', 'Happiness']\n",
      "648 ['Sunset Boulevard', 'Lawrence of Arabia', \"Howl's Moving Castle\", 'Cool Hand Luke', 'All About Eve', 'Rear Window', 'Gladiator 1992', 'Vertigo', 'The Imitation Game', 'Crimes and Misdemeanors']\n",
      "649 ['The African Queen', 'A Close Shave', 'Star Wars', 'Modern Times', 'Sunset Boulevard', 'Ran', 'Raiders of the Lost Ark', '12 Angry Men', 'Raging Bull', 'Roger & Me']\n",
      "650 ['The African Queen', 'The Shawshank Redemption', 'Cinema Paradiso', 'The Pianist', \"One Flew Over the Cuckoo's Nest\", 'Wings of Desire', 'The Matrix', 'It Happened One Night', 'Lock, Stock and Two Smoking Barrels', 'The Empire Strikes Back']\n",
      "651 ['The Lord of the Rings: The Two Towers', 'Roger & Me', 'Run Lola Run', 'Chinatown', '12 Angry Men', 'It Happened One Night', 'M', \"Schindler's List\", 'The Godfather', 'On the Waterfront']\n",
      "652 ['The Shawshank Redemption', 'Lock, Stock and Two Smoking Barrels', 'On the Waterfront', 'Roger & Me', 'It Happened One Night', 'Raging Bull', 'Lawrence of Arabia', 'Mister Roberts', 'Cinema Paradiso', 'Indiana Jones and the Last Crusade']\n",
      "653 ['Modern Times', 'Oldboy', 'A Close Shave', 'The Maltese Falcon', 'Pulp Fiction', 'Raiders of the Lost Ark', 'Fargo', 'The Shawshank Redemption', 'Raging Bull', 'Roger & Me']\n",
      "654 ['It Happened One Night', 'All About Eve', 'The Philadelphia Story', 'Raging Bull', 'The African Queen', 'Gladiator 1992', 'Modern Times', \"Singin' in the Rain\", 'Roger & Me', 'Cinema Paradiso']\n",
      "655 ['The Treasure of the Sierra Madre', 'The Third Man', 'The African Queen', 'Seven Samurai', 'It Happened One Night', 'Raging Bull', \"Singin' in the Rain\", 'All About Eve', 'Crumb', 'Citizen Kane']\n",
      "656 ['Cinema Paradiso', 'Gandhi', 'Blazing Saddles', 'The Usual Suspects', 'Pulp Fiction', 'Forrest Gump', 'The Fugitive', 'Much Ado About Nothing', \"Schindler's List\", 'The Shawshank Redemption']\n",
      "657 ['Chinatown', 'The Lord of the Rings: The Two Towers', 'Taxi Driver', 'Lawrence of Arabia', 'Night of the Living Dead', 'Psycho', 'Cool Hand Luke', 'The African Queen', 'All About Eve', 'Moon']\n",
      "658 ['The Godfather', 'Citizen Kane', 'Butch Cassidy and the Sundance Kid', 'It Happened One Night', 'The Third Man', 'The Best Years of Our Lives', 'Sunset Boulevard', 'The African Queen', 'Harvey', 'On the Waterfront']\n",
      "659 ['Roger & Me', 'Mister Roberts', 'Eternal Sunshine of the Spotless Mind', 'Amadeus', 'Run Lola Run', 'The Philadelphia Story', 'To Kill a Mockingbird', 'The Wrong Trousers', 'A Close Shave', 'Charade']\n",
      "660 ['Sunset Boulevard', 'The Shawshank Redemption', 'Good Will Hunting', 'All About Eve', 'Cinema Paradiso', 'The Killing Fields', 'The African Queen', 'The Pianist', 'Spirited Away', 'The Philadelphia Story']\n",
      "661 ['The Lord of the Rings: The Fellowship of the Ring', 'There Will Be Blood', 'Modern Times', 'Star Wars', 'When We Were Kings', 'The Godfather', 'Spirited Away', 'Life Is Beautiful', 'Seven Samurai', 'The Empire Strikes Back']\n",
      "662 ['It Happened One Night', 'The Third Man', 'Casablanca', 'Chinatown', 'The Best Years of Our Lives', 'The Godfather: Part II', 'City of God', 'The Maltese Falcon', 'A Close Shave', 'Lock, Stock and Two Smoking Barrels']\n",
      "663 ['Sunset Boulevard', 'The African Queen', 'The Philadelphia Story', 'Chinatown', \"Singin' in the Rain\", 'On the Waterfront', 'The Treasure of the Sierra Madre', 'The Godfather', 'Modern Times', 'Cool Hand Luke']\n",
      "664 ['Roger & Me', 'It Happened One Night', 'Lawrence of Arabia', 'Cool Hand Luke', 'Modern Times', 'All About Eve', 'Ran', 'Seven Samurai', 'The Third Man', 'The African Queen']\n",
      "665 ['The Dark Knight', 'Lock, Stock and Two Smoking Barrels', 'Raging Bull', 'The Third Man', 'Wings of Desire', 'Toy Story 3', 'The Producers', 'All About Eve', 'The African Queen', 'And Now for Something Completely Different']\n",
      "666 ['Modern Times', 'Citizen Kane', 'The Godfather', 'The African Queen', \"Singin' in the Rain\", 'Cool Hand Luke', 'Swingers', 'Sunset Boulevard', 'Inglourious Basterds', 'The Shawshank Redemption']\n",
      "667 ['The Empire Strikes Back', 'The Shawshank Redemption', 'The African Queen', 'Modern Times', 'His Girl Friday', 'Wings of Desire', 'North by Northwest', 'Fight Club', 'Cinema Paradiso', 'Ran']\n",
      "668 [\"Singin' in the Rain\", 'North by Northwest', 'The Matrix', 'City of God', 'The Godfather', 'Fight Club', 'All About Eve', 'The Maltese Falcon', 'Eat Drink Man Woman', 'It Happened One Night']\n",
      "669 ['On the Waterfront', 'The Godfather', 'All About Eve', 'It Happened One Night', \"Singin' in the Rain\", 'Big Night', 'Roger & Me', 'The Third Man', 'Rear Window', 'Citizen Kane']\n",
      "670 ['Roger & Me', 'All About Eve', 'Sunset Boulevard', 'To Kill a Mockingbird', 'The Treasure of the Sierra Madre', \"Singin' in the Rain\", 'Spirited Away', 'It Happened One Night', 'The Philadelphia Story', 'Rear Window']\n",
      "671 ['All About Eve', 'The Maltese Falcon', 'Sunset Boulevard', 'Happiness', 'Chinatown', 'The Godfather', 'City of God', 'Raging Bull', 'The Godfather: Part II', 'To Kill a Mockingbird']\n"
     ]
    }
   ],
   "source": [
    "# Then predict ratings for all pairs (u, i) that are NOT in the training set -> ANTI_testset.\n",
    "testset = trainset.build_anti_testset()\n",
    "predictions = algo.test(testset)\n",
    "\n",
    "top_n = get_top_n(predictions, n=10)\n",
    "\n",
    "# Print the recommended items for each user\n",
    "for uid, user_ratings in top_n.items():\n",
    "    print(uid, [movie for (movie, _) in user_ratings])"
   ]
  },
  {
   "cell_type": "markdown",
   "id": "6e49d220",
   "metadata": {
    "id": "xZjE7TvcYoV-"
   },
   "source": [
    "When we compare the ratings of a user with the recommendations the model has predicted, we see that this makes sense."
   ]
  },
  {
   "cell_type": "code",
   "execution_count": 49,
   "id": "fc64a301",
   "metadata": {
    "colab": {
     "base_uri": "https://localhost:8080/"
    },
    "executionInfo": {
     "elapsed": 395,
     "status": "ok",
     "timestamp": 1656554871351,
     "user": {
      "displayName": "Bryan Lusse",
      "userId": "03846782266646528687"
     },
     "user_tz": -480
    },
    "id": "7c468c85",
    "outputId": "094d38b1-12ca-4117-d0b5-e3feea473fbc",
    "scrolled": false
   },
   "outputs": [
    {
     "name": "stdout",
     "output_type": "stream",
     "text": [
      "Ratings by User 338\n",
      "Schindler's List                                   Rating: 5.0\n",
      "What's Eating Gilbert Grape                        Rating: 5.0\n",
      "The Silence of the Lambs                           Rating: 5.0\n",
      "Terminator 2: Judgment Day                         Rating: 5.0\n",
      "Mission: Impossible                                Rating: 4.0\n",
      "The Flintstones                                    Rating: 4.0\n",
      "The Lion King                                      Rating: 4.0\n",
      "The Mask                                           Rating: 4.0\n",
      "The Shawshank Redemption                           Rating: 4.0\n",
      "Sense and Sensibility                              Rating: 4.0\n",
      "Addams Family Values                               Rating: 4.0\n",
      "Ed Wood                                            Rating: 4.0\n",
      "Don Juan DeMarco                                   Rating: 4.0\n",
      "Philadelphia                                       Rating: 4.0\n",
      "The Piano                                          Rating: 4.0\n",
      "Four Weddings and a Funeral                        Rating: 4.0\n",
      "Forrest Gump                                       Rating: 4.0\n",
      "Mr. Holland's Opus                                 Rating: 4.0\n",
      "Apollo 13                                          Rating: 4.0\n",
      "Leaving Las Vegas                                  Rating: 4.0\n",
      "Babe                                               Rating: 4.0\n",
      "Dead Man Walking                                   Rating: 4.0\n",
      "Beauty and the Beast                               Rating: 4.0\n",
      "Se7en                                              Rating: 4.0\n",
      "Speed                                              Rating: 3.0\n",
      "Pretty Woman                                       Rating: 3.0\n",
      "Sleepless in Seattle                               Rating: 3.0\n",
      "Aladdin                                            Rating: 3.0\n",
      "The Firm                                           Rating: 3.0\n",
      "The Fugitive                                       Rating: 3.0\n",
      "Jurassic Park                                      Rating: 3.0\n",
      "Batman                                             Rating: 3.0\n",
      "Mrs. Doubtfire                                     Rating: 3.0\n",
      "Dances with Wolves                                 Rating: 3.0\n",
      "The Remains of the Day                             Rating: 3.0\n",
      "Jumanji                                            Rating: 3.0\n",
      "The Client                                         Rating: 3.0\n",
      "First Knight                                       Rating: 3.0\n",
      "Dangerous Minds                                    Rating: 3.0\n",
      "Clueless                                           Rating: 3.0\n",
      "The Bridges of Madison County                      Rating: 3.0\n",
      "Braveheart                                         Rating: 3.0\n",
      "The Birdcage                                       Rating: 3.0\n",
      "Batman Forever                                     Rating: 3.0\n",
      "Casper                                             Rating: 3.0\n",
      "Crimson Tide                                       Rating: 3.0\n",
      "The Net                                            Rating: 3.0\n",
      "Ace Ventura: Pet Detective                         Rating: 3.0\n",
      "Waterworld                                         Rating: 3.0\n",
      "Disclosure                                         Rating: 3.0\n",
      "French Kiss                                        Rating: 3.0\n",
      "Like Water for Chocolate                           Rating: 3.0\n",
      "Nell                                               Rating: 3.0\n",
      "Outbreak                                           Rating: 3.0\n",
      "Pulp Fiction                                       Rating: 3.0\n",
      "Quiz Show                                          Rating: 3.0\n",
      "Showgirls                                          Rating: 2.0\n",
      "\n",
      "Top-10 recommendations are:\n",
      "Casablanca\n",
      "All About Eve\n",
      "Modern Times\n",
      "The Godfather\n",
      "It Happened One Night\n",
      "The African Queen\n",
      "The Godfather: Part II\n",
      "Raging Bull\n",
      "North by Northwest\n",
      "The Departed\n"
     ]
    }
   ],
   "source": [
    "def printRecommendations(user, k=10):\n",
    "  user_ratings = rating_df[rating_df['userId'] == user].sort_values('rating', ascending=False)\n",
    "  print('Ratings by User ' + str(user))\n",
    "  for index, row in user_ratings.iterrows():\n",
    "      movie_name = metadata_df[metadata_df['id'] == row['movieId']]['title'].tolist()[0]\n",
    "      print('{:<50s} {:<10s}'.format(movie_name, 'Rating: ' + str(row['rating'])))\n",
    "      \n",
    "  print()\n",
    "  print('Top-'+ str(k) +' recommendations are:')\n",
    "  for i in range(k):\n",
    "    mov, _ = dict(top_n)[user][i]\n",
    "    print(mov)\n",
    "\n",
    "user = random.randint(1, 671)\n",
    "printRecommendations(user)"
   ]
  },
  {
   "cell_type": "markdown",
   "id": "64d17d41",
   "metadata": {
    "id": "6024b3b4"
   },
   "source": [
    "### Evaluation\n"
   ]
  },
  {
   "cell_type": "markdown",
   "id": "5edd96f5",
   "metadata": {
    "id": "w8mj7vuZUdKp"
   },
   "source": [
    "To evaluate our model, first we will look at metrics that show how well our recommendations are . For this, the precision and recall are well defined metrics. The precision calculates the number of correct recommendations as a fraction of all recommendations:\n",
    "\n",
    "$$ Precision = \\frac{(\\textrm{Recommended items that are relevant})}{(\\textrm{All recommended items})}$$\n",
    "\n",
    "Where items are deemed to be relevant if their rating is higher than a certain threshold.\n",
    "\n",
    "Additonally, the recall calculates the number of correct recommendations as a fraction of all recommendations that should be recommended (so both true positives and false negatives).\n",
    "\n",
    "$$ Recall = \\frac{(\\textrm{Recommended items that are relevant})}{(\\textrm{All relevant items})}$$\n",
    "\n",
    "From the results, we see that the precision is very high, almost all recommended items are relevant. On the other hand, the recall is much lower, showing that there are more relevant items that we have not recommended. We could think about increasing our value for *k*."
   ]
  },
  {
   "cell_type": "code",
   "execution_count": 50,
   "id": "84bee335",
   "metadata": {
    "executionInfo": {
     "elapsed": 366,
     "status": "ok",
     "timestamp": 1656554890169,
     "user": {
      "displayName": "Bryan Lusse",
      "userId": "03846782266646528687"
     },
     "user_tz": -480
    },
    "id": "47f12130"
   },
   "outputs": [],
   "source": [
    "def precision_recall_at_k(predictions, k=10, threshold=3.5):\n",
    "    \"\"\"Return precision and recall at k metrics for each user\"\"\"\n",
    "\n",
    "    # First map the predictions to each user.\n",
    "    user_est_true = defaultdict(list)\n",
    "    for uid, _, true_r, est, _ in predictions:\n",
    "        user_est_true[uid].append((est, true_r))\n",
    "\n",
    "    precisions = dict()\n",
    "    recalls = dict()\n",
    "    for uid, user_ratings in user_est_true.items():\n",
    "\n",
    "        # Sort user ratings by estimated value\n",
    "        user_ratings.sort(key=lambda x: x[0], reverse=True)\n",
    "\n",
    "        # Number of relevant items\n",
    "        n_rel = sum((true_r >= threshold) for (_, true_r) in user_ratings)\n",
    "\n",
    "        # Number of recommended items in top k\n",
    "        n_rec_k = sum((est >= threshold) for (est, _) in user_ratings[:k])\n",
    "\n",
    "        # Number of relevant and recommended items in top k\n",
    "        n_rel_and_rec_k = sum(((true_r >= threshold) and (est >= threshold))\n",
    "                              for (est, true_r) in user_ratings[:k])\n",
    "\n",
    "        # Precision@K: Proportion of recommended items that are relevant\n",
    "        # When n_rec_k is 0, Precision is undefined. We here set it to 0.\n",
    "\n",
    "        precisions[uid] = n_rel_and_rec_k / n_rec_k if n_rec_k != 0 else 0\n",
    "\n",
    "        # Recall@K: Proportion of relevant items that are recommended\n",
    "        # When n_rel is 0, Recall is undefined. We here set it to 0.\n",
    "\n",
    "        recalls[uid] = n_rel_and_rec_k / n_rel if n_rel != 0 else 0\n",
    "\n",
    "    return precisions, recalls"
   ]
  },
  {
   "cell_type": "code",
   "execution_count": 51,
   "id": "b0f4dd00",
   "metadata": {
    "colab": {
     "base_uri": "https://localhost:8080/"
    },
    "executionInfo": {
     "elapsed": 4318,
     "status": "ok",
     "timestamp": 1656554896169,
     "user": {
      "displayName": "Bryan Lusse",
      "userId": "03846782266646528687"
     },
     "user_tz": -480
    },
    "id": "7afd0cc7",
    "outputId": "e5902600-d9b8-4397-ecbd-e84a3312f01b"
   },
   "outputs": [
    {
     "name": "stdout",
     "output_type": "stream",
     "text": [
      "Average Precision: 0.9910581222056631\n",
      "Average Recal: 0.004703614915721784\n"
     ]
    }
   ],
   "source": [
    "precisions, recalls = precision_recall_at_k(predictions, k=10, threshold=3.5)\n",
    "\n",
    "# Precision and recall can then be averaged over all users\n",
    "print('Average Precision:',sum(prec for prec in precisions.values()) / len(precisions))\n",
    "print('Average Recal:',sum(rec for rec in recalls.values()) / len(recalls))"
   ]
  },
  {
   "cell_type": "markdown",
   "id": "3788a0cd",
   "metadata": {
    "id": "t-bKM-vUUSjH"
   },
   "source": [
    "Furthermore, to look at absolute error in the prediction of the ratings of our model, we can look at the Root Mean Squared Error of the predictions. In this case we only compare the predictions of the ratings for ratings that are actually in our data.\n",
    "The root mean squared error takes the error of every prediction, sums it, squares it, and takes the root. \n",
    "\n",
    "$$ RMSE = \\sqrt{\\frac{\\sum{(r-\\hat{r})^2}}{|R|}}$$\n",
    "\n",
    "Where: $r$ is the prediction and $\\hat{r}$ is the real rating. $|R|$ is the number of ratings in the test set.\n",
    "\n",
    "Below, we see that our RMSE is 0.64, this means that on average our model makes an error in predicting the rating of 0.64. That is roughly above a 10% error, as the maximum rating is 5.0. This shows that we definitely have a well working model, but that there are still improvements that could be made."
   ]
  },
  {
   "cell_type": "code",
   "execution_count": 52,
   "id": "5369bc07",
   "metadata": {
    "colab": {
     "base_uri": "https://localhost:8080/"
    },
    "executionInfo": {
     "elapsed": 2568,
     "status": "ok",
     "timestamp": 1656553189454,
     "user": {
      "displayName": "Bryan Lusse",
      "userId": "03846782266646528687"
     },
     "user_tz": -480
    },
    "id": "CdpXWGPeShWL",
    "outputId": "2e92eeea-d6a8-4ffa-c0a1-0f5d5de92c92"
   },
   "outputs": [
    {
     "name": "stdout",
     "output_type": "stream",
     "text": [
      "RMSE: 0.6389\n",
      "0.6389147906953431\n"
     ]
    }
   ],
   "source": [
    "eval_testset = trainset.build_testset()\n",
    "predictions = algo.test(eval_testset)\n",
    "print(rmse(predictions))"
   ]
  },
  {
   "cell_type": "markdown",
   "id": "6dc14777",
   "metadata": {
    "id": "7d6e20e1"
   },
   "source": [
    "## Conclusion\n",
    "We have investigated two methods of creating a movie recommendation system. Both succeeded in their respective goals.\n",
    "\n",
    "#### <span style=\"color:gray\"> Content-based Filtering </span>\n",
    "In this method, we used the cosine similarity in order to find similar movies. We compared three different vectorization methods. Based on the outputs, the Bag-of-Words and TF-IDF method worked best and predicted the most similar movies. The Word2Vec vectorization method lead to less accurate results.\n",
    "\n",
    "**Pro's**\n",
    "- Only needs data on movies in order to make predictions, therefore needs a low amount of memory.\n",
    "\n",
    "**Con's**\n",
    "- Will *only* recommend similar movies, people will have less of an incentive to broaden their taste in movies.\n",
    "\n",
    "<br></br>\n",
    "\n",
    "#### <span style=\"color:gray\"> Collaborative Filtering </span>\n",
    "Here, we used Singular value decomposition (SVD) as a method of predicting ratings for movies that users had not seen. The resulting predictions showed that the model made relatively accurate predictions.\n",
    "\n",
    "**Pro's**\n",
    "- Can make more diverse recommendations as the method does not focus on a single movie but on all the user's (and other user's) previous reviews.\n",
    "\n",
    "**Con's**\n",
    "- Much more data needs to be recorded in order to use this method. All users, movies and reviews need to be stored to be able to make predictions.\n",
    "\n",
    "<br></br>\n",
    "\n",
    "In reality, movie recommendation systems used by large companies consist of a mix of both approaches. Additionally, hugely popular content might get a higher place in the recommendations for all users (with a lower regard of the predicted match with the user). \n",
    "\n",
    "I hope you enjoyed coming along on this movie recommendation adventure! For other notebooks with machine learning tutorials go [here](https://github.com/bryanlusse/ml-projects)\n",
    "\n",
    "👋"
   ]
  }
 ],
 "metadata": {
  "colab": {
   "collapsed_sections": [],
   "name": "Movie_Recommendation_copy.ipynb",
   "provenance": []
  },
  "gpuClass": "standard",
  "kernelspec": {
   "display_name": "Python 3",
   "language": "python",
   "name": "python3"
  },
  "language_info": {
   "codemirror_mode": {
    "name": "ipython",
    "version": 3
   },
   "file_extension": ".py",
   "mimetype": "text/x-python",
   "name": "python",
   "nbconvert_exporter": "python",
   "pygments_lexer": "ipython3",
   "version": "3.7.3"
  },
  "widgets": {
   "application/vnd.jupyter.widget-state+json": {
    "0694b88d7273443c9788b45b88688434": {
     "model_module": "@jupyter-widgets/base",
     "model_module_version": "1.2.0",
     "model_name": "LayoutModel",
     "state": {
      "_model_module": "@jupyter-widgets/base",
      "_model_module_version": "1.2.0",
      "_model_name": "LayoutModel",
      "_view_count": null,
      "_view_module": "@jupyter-widgets/base",
      "_view_module_version": "1.2.0",
      "_view_name": "LayoutView",
      "align_content": null,
      "align_items": null,
      "align_self": null,
      "border": null,
      "bottom": null,
      "display": null,
      "flex": null,
      "flex_flow": null,
      "grid_area": null,
      "grid_auto_columns": null,
      "grid_auto_flow": null,
      "grid_auto_rows": null,
      "grid_column": null,
      "grid_gap": null,
      "grid_row": null,
      "grid_template_areas": null,
      "grid_template_columns": null,
      "grid_template_rows": null,
      "height": null,
      "justify_content": null,
      "justify_items": null,
      "left": null,
      "margin": null,
      "max_height": null,
      "max_width": null,
      "min_height": null,
      "min_width": null,
      "object_fit": null,
      "object_position": null,
      "order": null,
      "overflow": null,
      "overflow_x": null,
      "overflow_y": null,
      "padding": null,
      "right": null,
      "top": null,
      "visibility": null,
      "width": null
     }
    },
    "1a99c15c990243308043e5c4c3c44cae": {
     "model_module": "@jupyter-widgets/controls",
     "model_module_version": "1.5.0",
     "model_name": "FloatProgressModel",
     "state": {
      "_dom_classes": [],
      "_model_module": "@jupyter-widgets/controls",
      "_model_module_version": "1.5.0",
      "_model_name": "FloatProgressModel",
      "_view_count": null,
      "_view_module": "@jupyter-widgets/controls",
      "_view_module_version": "1.5.0",
      "_view_name": "ProgressView",
      "bar_style": "success",
      "description": "",
      "description_tooltip": null,
      "layout": "IPY_MODEL_61d1b5f6b9de47f3a3ceac7c5dbc364c",
      "max": 45466,
      "min": 0,
      "orientation": "horizontal",
      "style": "IPY_MODEL_306a5978d0e74388a70448b54b5908df",
      "value": 45466
     }
    },
    "24ef6b3446bb4d3bbeca86dd1b31ab97": {
     "model_module": "@jupyter-widgets/controls",
     "model_module_version": "1.5.0",
     "model_name": "FloatProgressModel",
     "state": {
      "_dom_classes": [],
      "_model_module": "@jupyter-widgets/controls",
      "_model_module_version": "1.5.0",
      "_model_name": "FloatProgressModel",
      "_view_count": null,
      "_view_module": "@jupyter-widgets/controls",
      "_view_module_version": "1.5.0",
      "_view_name": "ProgressView",
      "bar_style": "success",
      "description": "",
      "description_tooltip": null,
      "layout": "IPY_MODEL_3130ebfb13274518bb01b24443bc0cf8",
      "max": 42276,
      "min": 0,
      "orientation": "horizontal",
      "style": "IPY_MODEL_66e0a325a8324aa8ab52a64fb58c68cf",
      "value": 42276
     }
    },
    "29869a5855bf4778970213c4ae59faf2": {
     "model_module": "@jupyter-widgets/controls",
     "model_module_version": "1.5.0",
     "model_name": "HTMLModel",
     "state": {
      "_dom_classes": [],
      "_model_module": "@jupyter-widgets/controls",
      "_model_module_version": "1.5.0",
      "_model_name": "HTMLModel",
      "_view_count": null,
      "_view_module": "@jupyter-widgets/controls",
      "_view_module_version": "1.5.0",
      "_view_name": "HTMLView",
      "description": "",
      "description_tooltip": null,
      "layout": "IPY_MODEL_918edc6da614462c93e17b9d47b75e56",
      "placeholder": "​",
      "style": "IPY_MODEL_87a4fec5921d453ba8565a3d521b43bd",
      "value": " 42276/42276 [00:20&lt;00:00, 3177.81it/s]"
     }
    },
    "306a5978d0e74388a70448b54b5908df": {
     "model_module": "@jupyter-widgets/controls",
     "model_module_version": "1.5.0",
     "model_name": "ProgressStyleModel",
     "state": {
      "_model_module": "@jupyter-widgets/controls",
      "_model_module_version": "1.5.0",
      "_model_name": "ProgressStyleModel",
      "_view_count": null,
      "_view_module": "@jupyter-widgets/base",
      "_view_module_version": "1.2.0",
      "_view_name": "StyleView",
      "bar_color": null,
      "description_width": ""
     }
    },
    "3130ebfb13274518bb01b24443bc0cf8": {
     "model_module": "@jupyter-widgets/base",
     "model_module_version": "1.2.0",
     "model_name": "LayoutModel",
     "state": {
      "_model_module": "@jupyter-widgets/base",
      "_model_module_version": "1.2.0",
      "_model_name": "LayoutModel",
      "_view_count": null,
      "_view_module": "@jupyter-widgets/base",
      "_view_module_version": "1.2.0",
      "_view_name": "LayoutView",
      "align_content": null,
      "align_items": null,
      "align_self": null,
      "border": null,
      "bottom": null,
      "display": null,
      "flex": null,
      "flex_flow": null,
      "grid_area": null,
      "grid_auto_columns": null,
      "grid_auto_flow": null,
      "grid_auto_rows": null,
      "grid_column": null,
      "grid_gap": null,
      "grid_row": null,
      "grid_template_areas": null,
      "grid_template_columns": null,
      "grid_template_rows": null,
      "height": null,
      "justify_content": null,
      "justify_items": null,
      "left": null,
      "margin": null,
      "max_height": null,
      "max_width": null,
      "min_height": null,
      "min_width": null,
      "object_fit": null,
      "object_position": null,
      "order": null,
      "overflow": null,
      "overflow_x": null,
      "overflow_y": null,
      "padding": null,
      "right": null,
      "top": null,
      "visibility": null,
      "width": null
     }
    },
    "3e9b3fcca2dc4fe998e21906a70573f1": {
     "model_module": "@jupyter-widgets/controls",
     "model_module_version": "1.5.0",
     "model_name": "DescriptionStyleModel",
     "state": {
      "_model_module": "@jupyter-widgets/controls",
      "_model_module_version": "1.5.0",
      "_model_name": "DescriptionStyleModel",
      "_view_count": null,
      "_view_module": "@jupyter-widgets/base",
      "_view_module_version": "1.2.0",
      "_view_name": "StyleView",
      "description_width": ""
     }
    },
    "438ec04795c445549dcc59e98a60ce98": {
     "model_module": "@jupyter-widgets/base",
     "model_module_version": "1.2.0",
     "model_name": "LayoutModel",
     "state": {
      "_model_module": "@jupyter-widgets/base",
      "_model_module_version": "1.2.0",
      "_model_name": "LayoutModel",
      "_view_count": null,
      "_view_module": "@jupyter-widgets/base",
      "_view_module_version": "1.2.0",
      "_view_name": "LayoutView",
      "align_content": null,
      "align_items": null,
      "align_self": null,
      "border": null,
      "bottom": null,
      "display": null,
      "flex": null,
      "flex_flow": null,
      "grid_area": null,
      "grid_auto_columns": null,
      "grid_auto_flow": null,
      "grid_auto_rows": null,
      "grid_column": null,
      "grid_gap": null,
      "grid_row": null,
      "grid_template_areas": null,
      "grid_template_columns": null,
      "grid_template_rows": null,
      "height": null,
      "justify_content": null,
      "justify_items": null,
      "left": null,
      "margin": null,
      "max_height": null,
      "max_width": null,
      "min_height": null,
      "min_width": null,
      "object_fit": null,
      "object_position": null,
      "order": null,
      "overflow": null,
      "overflow_x": null,
      "overflow_y": null,
      "padding": null,
      "right": null,
      "top": null,
      "visibility": null,
      "width": null
     }
    },
    "4900c80ff0b7435b95203a50c13ba708": {
     "model_module": "@jupyter-widgets/controls",
     "model_module_version": "1.5.0",
     "model_name": "DescriptionStyleModel",
     "state": {
      "_model_module": "@jupyter-widgets/controls",
      "_model_module_version": "1.5.0",
      "_model_name": "DescriptionStyleModel",
      "_view_count": null,
      "_view_module": "@jupyter-widgets/base",
      "_view_module_version": "1.2.0",
      "_view_name": "StyleView",
      "description_width": ""
     }
    },
    "61d1b5f6b9de47f3a3ceac7c5dbc364c": {
     "model_module": "@jupyter-widgets/base",
     "model_module_version": "1.2.0",
     "model_name": "LayoutModel",
     "state": {
      "_model_module": "@jupyter-widgets/base",
      "_model_module_version": "1.2.0",
      "_model_name": "LayoutModel",
      "_view_count": null,
      "_view_module": "@jupyter-widgets/base",
      "_view_module_version": "1.2.0",
      "_view_name": "LayoutView",
      "align_content": null,
      "align_items": null,
      "align_self": null,
      "border": null,
      "bottom": null,
      "display": null,
      "flex": null,
      "flex_flow": null,
      "grid_area": null,
      "grid_auto_columns": null,
      "grid_auto_flow": null,
      "grid_auto_rows": null,
      "grid_column": null,
      "grid_gap": null,
      "grid_row": null,
      "grid_template_areas": null,
      "grid_template_columns": null,
      "grid_template_rows": null,
      "height": null,
      "justify_content": null,
      "justify_items": null,
      "left": null,
      "margin": null,
      "max_height": null,
      "max_width": null,
      "min_height": null,
      "min_width": null,
      "object_fit": null,
      "object_position": null,
      "order": null,
      "overflow": null,
      "overflow_x": null,
      "overflow_y": null,
      "padding": null,
      "right": null,
      "top": null,
      "visibility": null,
      "width": null
     }
    },
    "66e0a325a8324aa8ab52a64fb58c68cf": {
     "model_module": "@jupyter-widgets/controls",
     "model_module_version": "1.5.0",
     "model_name": "ProgressStyleModel",
     "state": {
      "_model_module": "@jupyter-widgets/controls",
      "_model_module_version": "1.5.0",
      "_model_name": "ProgressStyleModel",
      "_view_count": null,
      "_view_module": "@jupyter-widgets/base",
      "_view_module_version": "1.2.0",
      "_view_name": "StyleView",
      "bar_color": null,
      "description_width": ""
     }
    },
    "6d833c3164094df3886282559bf5bd8b": {
     "model_module": "@jupyter-widgets/base",
     "model_module_version": "1.2.0",
     "model_name": "LayoutModel",
     "state": {
      "_model_module": "@jupyter-widgets/base",
      "_model_module_version": "1.2.0",
      "_model_name": "LayoutModel",
      "_view_count": null,
      "_view_module": "@jupyter-widgets/base",
      "_view_module_version": "1.2.0",
      "_view_name": "LayoutView",
      "align_content": null,
      "align_items": null,
      "align_self": null,
      "border": null,
      "bottom": null,
      "display": null,
      "flex": null,
      "flex_flow": null,
      "grid_area": null,
      "grid_auto_columns": null,
      "grid_auto_flow": null,
      "grid_auto_rows": null,
      "grid_column": null,
      "grid_gap": null,
      "grid_row": null,
      "grid_template_areas": null,
      "grid_template_columns": null,
      "grid_template_rows": null,
      "height": null,
      "justify_content": null,
      "justify_items": null,
      "left": null,
      "margin": null,
      "max_height": null,
      "max_width": null,
      "min_height": null,
      "min_width": null,
      "object_fit": null,
      "object_position": null,
      "order": null,
      "overflow": null,
      "overflow_x": null,
      "overflow_y": null,
      "padding": null,
      "right": null,
      "top": null,
      "visibility": null,
      "width": null
     }
    },
    "6dc256c4c9534e8a8acd7d9aef453257": {
     "model_module": "@jupyter-widgets/controls",
     "model_module_version": "1.5.0",
     "model_name": "HBoxModel",
     "state": {
      "_dom_classes": [],
      "_model_module": "@jupyter-widgets/controls",
      "_model_module_version": "1.5.0",
      "_model_name": "HBoxModel",
      "_view_count": null,
      "_view_module": "@jupyter-widgets/controls",
      "_view_module_version": "1.5.0",
      "_view_name": "HBoxView",
      "box_style": "",
      "children": [
       "IPY_MODEL_b552fa7bae1849989d985a536a6dec26",
       "IPY_MODEL_1a99c15c990243308043e5c4c3c44cae",
       "IPY_MODEL_8025206673424e9dbef61f8a135d6f0e"
      ],
      "layout": "IPY_MODEL_0694b88d7273443c9788b45b88688434"
     }
    },
    "8025206673424e9dbef61f8a135d6f0e": {
     "model_module": "@jupyter-widgets/controls",
     "model_module_version": "1.5.0",
     "model_name": "HTMLModel",
     "state": {
      "_dom_classes": [],
      "_model_module": "@jupyter-widgets/controls",
      "_model_module_version": "1.5.0",
      "_model_name": "HTMLModel",
      "_view_count": null,
      "_view_module": "@jupyter-widgets/controls",
      "_view_module_version": "1.5.0",
      "_view_name": "HTMLView",
      "description": "",
      "description_tooltip": null,
      "layout": "IPY_MODEL_438ec04795c445549dcc59e98a60ce98",
      "placeholder": "​",
      "style": "IPY_MODEL_3e9b3fcca2dc4fe998e21906a70573f1",
      "value": " 45466/45466 [00:04&lt;00:00, 9277.77it/s]"
     }
    },
    "87a4fec5921d453ba8565a3d521b43bd": {
     "model_module": "@jupyter-widgets/controls",
     "model_module_version": "1.5.0",
     "model_name": "DescriptionStyleModel",
     "state": {
      "_model_module": "@jupyter-widgets/controls",
      "_model_module_version": "1.5.0",
      "_model_name": "DescriptionStyleModel",
      "_view_count": null,
      "_view_module": "@jupyter-widgets/base",
      "_view_module_version": "1.2.0",
      "_view_name": "StyleView",
      "description_width": ""
     }
    },
    "8a57f6f08f9349ab990105b7c2f17e4b": {
     "model_module": "@jupyter-widgets/controls",
     "model_module_version": "1.5.0",
     "model_name": "DescriptionStyleModel",
     "state": {
      "_model_module": "@jupyter-widgets/controls",
      "_model_module_version": "1.5.0",
      "_model_name": "DescriptionStyleModel",
      "_view_count": null,
      "_view_module": "@jupyter-widgets/base",
      "_view_module_version": "1.2.0",
      "_view_name": "StyleView",
      "description_width": ""
     }
    },
    "8f87abd5870747fea53c63638ee32ae5": {
     "model_module": "@jupyter-widgets/controls",
     "model_module_version": "1.5.0",
     "model_name": "HBoxModel",
     "state": {
      "_dom_classes": [],
      "_model_module": "@jupyter-widgets/controls",
      "_model_module_version": "1.5.0",
      "_model_name": "HBoxModel",
      "_view_count": null,
      "_view_module": "@jupyter-widgets/controls",
      "_view_module_version": "1.5.0",
      "_view_name": "HBoxView",
      "box_style": "",
      "children": [
       "IPY_MODEL_9a85f3cd67ec46cd9b4167f602053a88",
       "IPY_MODEL_24ef6b3446bb4d3bbeca86dd1b31ab97",
       "IPY_MODEL_29869a5855bf4778970213c4ae59faf2"
      ],
      "layout": "IPY_MODEL_df953de70a284699987ba0e3838e6380"
     }
    },
    "918edc6da614462c93e17b9d47b75e56": {
     "model_module": "@jupyter-widgets/base",
     "model_module_version": "1.2.0",
     "model_name": "LayoutModel",
     "state": {
      "_model_module": "@jupyter-widgets/base",
      "_model_module_version": "1.2.0",
      "_model_name": "LayoutModel",
      "_view_count": null,
      "_view_module": "@jupyter-widgets/base",
      "_view_module_version": "1.2.0",
      "_view_name": "LayoutView",
      "align_content": null,
      "align_items": null,
      "align_self": null,
      "border": null,
      "bottom": null,
      "display": null,
      "flex": null,
      "flex_flow": null,
      "grid_area": null,
      "grid_auto_columns": null,
      "grid_auto_flow": null,
      "grid_auto_rows": null,
      "grid_column": null,
      "grid_gap": null,
      "grid_row": null,
      "grid_template_areas": null,
      "grid_template_columns": null,
      "grid_template_rows": null,
      "height": null,
      "justify_content": null,
      "justify_items": null,
      "left": null,
      "margin": null,
      "max_height": null,
      "max_width": null,
      "min_height": null,
      "min_width": null,
      "object_fit": null,
      "object_position": null,
      "order": null,
      "overflow": null,
      "overflow_x": null,
      "overflow_y": null,
      "padding": null,
      "right": null,
      "top": null,
      "visibility": null,
      "width": null
     }
    },
    "9a85f3cd67ec46cd9b4167f602053a88": {
     "model_module": "@jupyter-widgets/controls",
     "model_module_version": "1.5.0",
     "model_name": "HTMLModel",
     "state": {
      "_dom_classes": [],
      "_model_module": "@jupyter-widgets/controls",
      "_model_module_version": "1.5.0",
      "_model_name": "HTMLModel",
      "_view_count": null,
      "_view_module": "@jupyter-widgets/controls",
      "_view_module_version": "1.5.0",
      "_view_name": "HTMLView",
      "description": "",
      "description_tooltip": null,
      "layout": "IPY_MODEL_cfa306972e2d4e07910fae4d208b5075",
      "placeholder": "​",
      "style": "IPY_MODEL_4900c80ff0b7435b95203a50c13ba708",
      "value": "100%"
     }
    },
    "b552fa7bae1849989d985a536a6dec26": {
     "model_module": "@jupyter-widgets/controls",
     "model_module_version": "1.5.0",
     "model_name": "HTMLModel",
     "state": {
      "_dom_classes": [],
      "_model_module": "@jupyter-widgets/controls",
      "_model_module_version": "1.5.0",
      "_model_name": "HTMLModel",
      "_view_count": null,
      "_view_module": "@jupyter-widgets/controls",
      "_view_module_version": "1.5.0",
      "_view_name": "HTMLView",
      "description": "",
      "description_tooltip": null,
      "layout": "IPY_MODEL_6d833c3164094df3886282559bf5bd8b",
      "placeholder": "​",
      "style": "IPY_MODEL_8a57f6f08f9349ab990105b7c2f17e4b",
      "value": "100%"
     }
    },
    "cfa306972e2d4e07910fae4d208b5075": {
     "model_module": "@jupyter-widgets/base",
     "model_module_version": "1.2.0",
     "model_name": "LayoutModel",
     "state": {
      "_model_module": "@jupyter-widgets/base",
      "_model_module_version": "1.2.0",
      "_model_name": "LayoutModel",
      "_view_count": null,
      "_view_module": "@jupyter-widgets/base",
      "_view_module_version": "1.2.0",
      "_view_name": "LayoutView",
      "align_content": null,
      "align_items": null,
      "align_self": null,
      "border": null,
      "bottom": null,
      "display": null,
      "flex": null,
      "flex_flow": null,
      "grid_area": null,
      "grid_auto_columns": null,
      "grid_auto_flow": null,
      "grid_auto_rows": null,
      "grid_column": null,
      "grid_gap": null,
      "grid_row": null,
      "grid_template_areas": null,
      "grid_template_columns": null,
      "grid_template_rows": null,
      "height": null,
      "justify_content": null,
      "justify_items": null,
      "left": null,
      "margin": null,
      "max_height": null,
      "max_width": null,
      "min_height": null,
      "min_width": null,
      "object_fit": null,
      "object_position": null,
      "order": null,
      "overflow": null,
      "overflow_x": null,
      "overflow_y": null,
      "padding": null,
      "right": null,
      "top": null,
      "visibility": null,
      "width": null
     }
    },
    "df953de70a284699987ba0e3838e6380": {
     "model_module": "@jupyter-widgets/base",
     "model_module_version": "1.2.0",
     "model_name": "LayoutModel",
     "state": {
      "_model_module": "@jupyter-widgets/base",
      "_model_module_version": "1.2.0",
      "_model_name": "LayoutModel",
      "_view_count": null,
      "_view_module": "@jupyter-widgets/base",
      "_view_module_version": "1.2.0",
      "_view_name": "LayoutView",
      "align_content": null,
      "align_items": null,
      "align_self": null,
      "border": null,
      "bottom": null,
      "display": null,
      "flex": null,
      "flex_flow": null,
      "grid_area": null,
      "grid_auto_columns": null,
      "grid_auto_flow": null,
      "grid_auto_rows": null,
      "grid_column": null,
      "grid_gap": null,
      "grid_row": null,
      "grid_template_areas": null,
      "grid_template_columns": null,
      "grid_template_rows": null,
      "height": null,
      "justify_content": null,
      "justify_items": null,
      "left": null,
      "margin": null,
      "max_height": null,
      "max_width": null,
      "min_height": null,
      "min_width": null,
      "object_fit": null,
      "object_position": null,
      "order": null,
      "overflow": null,
      "overflow_x": null,
      "overflow_y": null,
      "padding": null,
      "right": null,
      "top": null,
      "visibility": null,
      "width": null
     }
    }
   }
  }
 },
 "nbformat": 4,
 "nbformat_minor": 5
}
